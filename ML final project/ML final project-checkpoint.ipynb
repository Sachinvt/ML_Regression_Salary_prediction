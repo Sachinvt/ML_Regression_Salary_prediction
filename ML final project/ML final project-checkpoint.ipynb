{
 "cells": [
  {
   "cell_type": "markdown",
   "id": "92a5f109",
   "metadata": {},
   "source": [
    "### 1. Your views about the problem statement?\n",
    "Answer-\n",
    "The problem aims to predict the salary of newly hired employees based on various features like college, city, role, experience, etc. It involves regression, and the goal is to build a model that accurately predicts the salary for better hiring decisions.\n",
    "Overall, the problem statement appears to be well-structured, with appropriate data and model evaluation techniques used to build an accurate regression model for predicting CTC. The iterative approach of comparing and fine-tuning different models helps in arriving at the best-performing model that generalizes well to unseen data"
   ]
  },
  {
   "cell_type": "markdown",
   "id": "d281fd43",
   "metadata": {},
   "source": [
    "### 2. What will be your approach to solving this task?\n",
    "Answer-\n",
    "The approach will involve data preprocessing, model selection, training, and evaluation. After comparing multiple regression models, the best-performing model will be selected.\n",
    "The approach to solving the task of predicting CTC (Cost To Company) using various independent variables involves several key steps:\n",
    "\n",
    "1.Data Preprocessing:\n",
    "Explore the dataset to understand its structure, check for missing values, and handle any data cleaning tasks if required.\n",
    "Convert categorical variables into numerical representations using techniques like one-hot encoding or label encoding.\n",
    "Split the dataset into features (X) and the target variable (y).\n",
    "\n",
    "2.Data Splitting:\n",
    "Split the dataset into training and testing subsets. The training set will be used to build the model, while the testing set will be used to evaluate its performance on unseen data.\n",
    "\n",
    "3.Model Selection:\n",
    "Choose a set of candidate regression models suitable for the problem, such as Linear Regression, Random Forest, Gradient Boosting, XGBoost, Lasso Regression, and SVR.\n",
    "Implement each model using the appropriate Python libraries (e.g., scikit-learn, XGBoost, LightGBM) and train them on the \n",
    "training data.\n",
    "\n",
    "4.Hyperparameter Tuning:\n",
    "Perform hyperparameter tuning for some models (e.g., Random Forest, SVR) using techniques like Grid Search or Random Search to find the best combination of hyperparameters that optimize model performance.\n",
    "\n",
    "5.Model Evaluation:\n",
    "Evaluate each model's performance on the testing data using metrics like R-squared, Mean Squared Error (MSE), Root Mean Squared Error (RMSE), and any other relevant metrics.\n",
    "Compare the performance of different models to identify the best-performing model based on the evaluation metrics.\n",
    "\n",
    "6.Overfitting Prevention:\n",
    "Take measures to prevent overfitting, especially for models that exhibit a large discrepancy between train and test R-squared values.\n",
    "Apply techniques like regularization, cross-validation, and feature engineering to improve generalization.\n",
    "\n",
    "7.Model Deployment:\n",
    "Once the best-performing model is identified, retrain it on the entire dataset (training and testing) to maximize its learning potential.\n",
    "Deploy the trained model to make predictions on new, unseen data.\n",
    "\n",
    "8.Continuous Improvement:\n",
    "Monitor the model's performance in real-world scenarios and collect feedback from stakeholders.\n",
    "Continuously improve the model by updating it with new data or retraining it with different techniques if necessary."
   ]
  },
  {
   "cell_type": "markdown",
   "id": "b40d2f17",
   "metadata": {},
   "source": [
    "### 3. What were the available ML model options you had to perform this task?\n",
    "Answer-\n",
    "In the context of the task of predicting CTC (Cost To Company) based on various independent variables, several machine learning regression models can be considered as available options. Some of the commonly used models for regression tasks include:\n",
    "\n",
    "1.Linear Regression: A simple and interpretable model that fits a linear relationship between the independent variables and the target variable.\n",
    "\n",
    "2.Random Forest: An ensemble learning method that builds multiple decision trees and combines their predictions to reduce overfitting and improve accuracy.\n",
    "\n",
    "3.Gradient Boosting: Another ensemble learning method that builds decision trees sequentially, where each tree corrects the errors of the previous one. It often provides high predictive accuracy.\n",
    "\n",
    "4.XGBoost: An optimized gradient boosting library known for its efficiency and high performance. It is an extension of the Gradient Boosting algorithm.\n",
    "\n",
    "5.Lasso Regression (L1 Regularization): A linear regression model with L1 regularization, which encourages sparsity by penalizing the absolute value of coefficients. It can be useful for feature selection.\n",
    "\n",
    "6.Support Vector Regression (SVR): A regression model that uses Support Vector Machines to find a hyperplane that best fits the data. It can handle non-linear relationships by using kernel functions.\n",
    "\n",
    "7.Neural Networks: A powerful and flexible model that can learn complex patterns and relationships in the data. Deep learning neural networks can be used for regression tasks.\n",
    "\n",
    "8.LightGBM: A gradient boosting framework that focuses on high efficiency and handles large-scale datasets.\n",
    "\n",
    "9.K-Nearest Neighbors (KNN) Regression: A non-parametric model that predicts the target variable based on the average of the K-nearest neighbors in the feature space.\n",
    "\n",
    "Each of these models has its own strengths and weaknesses, and their performance can vary depending on the specific characteristics of the dataset and the problem at hand. It's essential to experiment with different models, tune their hyperparameters, and evaluate their performance using appropriate metrics to identify the best-performing model for this specific task. Additionally, ensemble methods like stacking or blending can be used to combine the predictions of multiple models for further improvement in predictive accuracy."
   ]
  },
  {
   "cell_type": "markdown",
   "id": "f71ebc4f",
   "metadata": {},
   "source": [
    "### 4. Which model’s performance is best and what could be the possible reason for that?\n",
    "Answer-Based on the each model results, it appears that the Random Forest model has the best performance among the models tested. The Random Forest model achieved the highest test R-squared score of 0.6618 and the lowest mean squared error (MSE) of 50,180,976.25. The train R-squared score is also high at 0.9507, indicating a good fit to the training data.\n",
    "\n",
    "The Random Forest model is known for its ability to handle complex relationships in data and reduce overfitting compared to individual decision trees. It works well with both numerical and categorical features and can handle large datasets with high dimensionality. The ensemble nature of Random Forests, where multiple decision trees are combined to make predictions, helps in improving accuracy and reducing variance.\n",
    "\n",
    "Possible reasons for the Random Forest model's superior performance:\n",
    "\n",
    "Ensemble Method: Random Forests use an ensemble of decision trees to make predictions, and this helps in reducing overfitting and improving generalization.\n",
    "\n",
    "Handling Non-linear Relationships: Random Forests can capture non-linear relationships in the data, making it suitable for complex datasets.\n",
    "\n",
    "Robustness to Outliers: Random Forests are less sensitive to outliers compared to linear regression models, which helps in handling noisy data.\n",
    "\n",
    "Feature Importance: Random Forests provide feature importance scores, which can help in identifying the most relevant features for the prediction.\n",
    "\n",
    "Less Hyperparameter Tuning: Random Forests have fewer hyperparameters to tune compared to some other models, making it easier to find good parameter settings.\n",
    "\n",
    "Overall, the Random Forest model's strong performance is likely due to its ability to handle complex relationships, reduce overfitting, and provide robust predictions on both training and test data."
   ]
  },
  {
   "cell_type": "markdown",
   "id": "07c45d2a",
   "metadata": {},
   "source": [
    "### 5. What steps can you take to improve this selected model’s performance even further?\n",
    "Answer-\n",
    "To improve the performance of the selected model even further, you can take several steps and strategies. Here are some suggestions:\n",
    "\n",
    "1.Feature Engineering: Explore the data and engineer new features that may better capture the relationships between the independent variables and the target variable. Domain knowledge and creativity in feature engineering can lead to more informative features and improved model performance.\n",
    "\n",
    "2.Data Cleaning and Handling Missing Values: Ensure that the data is clean and handle any missing values appropriately. Filling missing values or using advanced imputation techniques can prevent information loss and enhance model performance.\n",
    "\n",
    "3.Outlier Detection and Treatment: Identify and handle outliers in the data. Outliers can significantly impact the model's performance and generalization. Consider using robust regression techniques or transformations to mitigate the influence of outliers.\n",
    "\n",
    "4.Feature Scaling: Scale the numerical features to a common range, such as normalization or standardization. Many machine learning algorithms perform better when features are on a similar scale.\n",
    "\n",
    "5.Hyperparameter Tuning: Continue hyperparameter tuning for the selected model to find the optimal combination of hyperparameters. Techniques like Grid Search, Random Search, or Bayesian Optimization can be used for this purpose.\n",
    "\n",
    "6.Ensemble Methods: Consider using ensemble methods like bagging or boosting to combine multiple models. Ensemble methods can often improve performance by reducing overfitting and enhancing predictive accuracy.\n",
    "\n",
    "7.Cross-Validation: Use cross-validation techniques, such as k-fold cross-validation, to obtain a more reliable estimate of the model's performance and prevent overfitting.\n",
    "\n",
    "8.Regularization: For linear models, apply regularization techniques like L1 (Lasso) or L2 (Ridge) regularization to prevent overfitting and improve model generalization.\n",
    "\n",
    "9.Feature Selection: Identify and select the most important features that have the most impact on the target variable. Feature selection can help simplify the model and remove irrelevant or redundant features.\n",
    "\n",
    "10.Data Augmentation: If the dataset is limited, consider data augmentation techniques to generate synthetic data points. This can increase the diversity of the data and improve the model's ability to generalize.\n",
    "\n",
    "11.Model Stacking: Experiment with model stacking, where the predictions of multiple models are combined as features for a meta-model. Stacking can further enhance predictive performance by leveraging the strengths of different models.\n",
    "\n",
    "12.Domain Expertise: Seek feedback and insights from domain experts to gain a deeper understanding of the problem and features. Domain expertise can lead to better feature engineering and model design.\n",
    "\n",
    "13.Regular Model Updates: In a real-world scenario, continue to collect new data and update the model periodically to adapt to changing patterns and ensure ongoing accuracy.\n",
    "\n",
    "Improving model performance is an iterative process. It involves experimentation, fine-tuning, and continuous evaluation to achieve the best possible results. It's essential to monitor the model's performance on new data and be willing to adjust the approach as needed to meet the desired accuracy and generalization goals."
   ]
  },
  {
   "cell_type": "markdown",
   "id": "d2133cd1",
   "metadata": {},
   "source": [
    "# 1. Data Collection\n",
    "Load the given data using pandas library"
   ]
  },
  {
   "cell_type": "code",
   "execution_count": 1,
   "id": "8984b15c",
   "metadata": {},
   "outputs": [],
   "source": [
    "# Import all required library\n",
    "import pandas as pd\n",
    "from sklearn.model_selection import train_test_split\n",
    "from sklearn.preprocessing import StandardScaler\n",
    "from sklearn.linear_model import LinearRegression\n",
    "from sklearn.metrics import mean_squared_error, r2_score\n",
    "import numpy as np\n",
    "import seaborn as sns\n",
    "from sklearn.linear_model import Ridge\n",
    "import matplotlib.pyplot as plt"
   ]
  },
  {
   "cell_type": "code",
   "execution_count": 2,
   "id": "a57136cf",
   "metadata": {},
   "outputs": [],
   "source": [
    "# Load the data using pandas library\n",
    "df = pd.read_csv(r\"C:\\Users\\thora\\OneDrive\\Documents\\Machine Learning\\Project\\ML case Study.csv\",header=0)"
   ]
  },
  {
   "cell_type": "code",
   "execution_count": 3,
   "id": "16136c7c",
   "metadata": {},
   "outputs": [
    {
     "data": {
      "text/html": [
       "<div>\n",
       "<style scoped>\n",
       "    .dataframe tbody tr th:only-of-type {\n",
       "        vertical-align: middle;\n",
       "    }\n",
       "\n",
       "    .dataframe tbody tr th {\n",
       "        vertical-align: top;\n",
       "    }\n",
       "\n",
       "    .dataframe thead th {\n",
       "        text-align: right;\n",
       "    }\n",
       "</style>\n",
       "<table border=\"1\" class=\"dataframe\">\n",
       "  <thead>\n",
       "    <tr style=\"text-align: right;\">\n",
       "      <th></th>\n",
       "      <th>College</th>\n",
       "      <th>City</th>\n",
       "      <th>Role</th>\n",
       "      <th>Previous CTC</th>\n",
       "      <th>Previous job change</th>\n",
       "      <th>Graduation Marks</th>\n",
       "      <th>EXP (Month)</th>\n",
       "      <th>CTC</th>\n",
       "    </tr>\n",
       "  </thead>\n",
       "  <tbody>\n",
       "    <tr>\n",
       "      <th>0</th>\n",
       "      <td>SVNIT Surat</td>\n",
       "      <td>Asansol</td>\n",
       "      <td>Manager</td>\n",
       "      <td>55523</td>\n",
       "      <td>3</td>\n",
       "      <td>66</td>\n",
       "      <td>19</td>\n",
       "      <td>71406.58</td>\n",
       "    </tr>\n",
       "    <tr>\n",
       "      <th>1</th>\n",
       "      <td>NIT Bhopal</td>\n",
       "      <td>Ajmer</td>\n",
       "      <td>Executive</td>\n",
       "      <td>57081</td>\n",
       "      <td>1</td>\n",
       "      <td>84</td>\n",
       "      <td>18</td>\n",
       "      <td>68005.87</td>\n",
       "    </tr>\n",
       "    <tr>\n",
       "      <th>2</th>\n",
       "      <td>IEM, Kolkata</td>\n",
       "      <td>Rajpur Sonarpur</td>\n",
       "      <td>Executive</td>\n",
       "      <td>60347</td>\n",
       "      <td>2</td>\n",
       "      <td>52</td>\n",
       "      <td>28</td>\n",
       "      <td>76764.02</td>\n",
       "    </tr>\n",
       "    <tr>\n",
       "      <th>3</th>\n",
       "      <td>KIIT, Bhubaneswar</td>\n",
       "      <td>Ajmer</td>\n",
       "      <td>Executive</td>\n",
       "      <td>49010</td>\n",
       "      <td>2</td>\n",
       "      <td>81</td>\n",
       "      <td>33</td>\n",
       "      <td>82092.39</td>\n",
       "    </tr>\n",
       "    <tr>\n",
       "      <th>4</th>\n",
       "      <td>DTU</td>\n",
       "      <td>Durgapur</td>\n",
       "      <td>Executive</td>\n",
       "      <td>57879</td>\n",
       "      <td>4</td>\n",
       "      <td>74</td>\n",
       "      <td>32</td>\n",
       "      <td>73878.10</td>\n",
       "    </tr>\n",
       "  </tbody>\n",
       "</table>\n",
       "</div>"
      ],
      "text/plain": [
       "             College             City       Role  Previous CTC  \\\n",
       "0        SVNIT Surat          Asansol    Manager         55523   \n",
       "1         NIT Bhopal            Ajmer  Executive         57081   \n",
       "2       IEM, Kolkata  Rajpur Sonarpur  Executive         60347   \n",
       "3  KIIT, Bhubaneswar            Ajmer  Executive         49010   \n",
       "4                DTU         Durgapur  Executive         57879   \n",
       "\n",
       "   Previous job change  Graduation Marks  EXP (Month)       CTC  \n",
       "0                    3                66           19  71406.58  \n",
       "1                    1                84           18  68005.87  \n",
       "2                    2                52           28  76764.02  \n",
       "3                    2                81           33  82092.39  \n",
       "4                    4                74           32  73878.10  "
      ]
     },
     "execution_count": 3,
     "metadata": {},
     "output_type": "execute_result"
    }
   ],
   "source": [
    "# show first five rows of dataframe \n",
    "df.head()"
   ]
  },
  {
   "cell_type": "code",
   "execution_count": 4,
   "id": "20930a58",
   "metadata": {},
   "outputs": [],
   "source": [
    "# Load another data file using pandas\n",
    "colleges = pd.read_csv(r\"C:\\Users\\thora\\OneDrive\\Documents\\Machine Learning\\Project\\Colleges.csv\",header=0)"
   ]
  },
  {
   "cell_type": "code",
   "execution_count": 5,
   "id": "fa22e7ac",
   "metadata": {},
   "outputs": [
    {
     "data": {
      "text/html": [
       "<div>\n",
       "<style scoped>\n",
       "    .dataframe tbody tr th:only-of-type {\n",
       "        vertical-align: middle;\n",
       "    }\n",
       "\n",
       "    .dataframe tbody tr th {\n",
       "        vertical-align: top;\n",
       "    }\n",
       "\n",
       "    .dataframe thead th {\n",
       "        text-align: right;\n",
       "    }\n",
       "</style>\n",
       "<table border=\"1\" class=\"dataframe\">\n",
       "  <thead>\n",
       "    <tr style=\"text-align: right;\">\n",
       "      <th></th>\n",
       "      <th>Tier 1</th>\n",
       "      <th>Tier 2</th>\n",
       "      <th>Tier 3</th>\n",
       "    </tr>\n",
       "  </thead>\n",
       "  <tbody>\n",
       "    <tr>\n",
       "      <th>0</th>\n",
       "      <td>IIT Bombay</td>\n",
       "      <td>IIIT Bangalore</td>\n",
       "      <td>Ramaiah Institute of Technology, Bengaluru</td>\n",
       "    </tr>\n",
       "    <tr>\n",
       "      <th>1</th>\n",
       "      <td>IIT Delhi</td>\n",
       "      <td>IIIT Delhi</td>\n",
       "      <td>TIET/Thapar University</td>\n",
       "    </tr>\n",
       "    <tr>\n",
       "      <th>2</th>\n",
       "      <td>IIT Kharagpur</td>\n",
       "      <td>IGDTUW</td>\n",
       "      <td>Manipal Main Campus</td>\n",
       "    </tr>\n",
       "    <tr>\n",
       "      <th>3</th>\n",
       "      <td>IIT Madras</td>\n",
       "      <td>NIT Calicut</td>\n",
       "      <td>VIT Vellore</td>\n",
       "    </tr>\n",
       "    <tr>\n",
       "      <th>4</th>\n",
       "      <td>IIT Kanpur</td>\n",
       "      <td>IIITM Gwalior</td>\n",
       "      <td>SRM Main Campus</td>\n",
       "    </tr>\n",
       "  </tbody>\n",
       "</table>\n",
       "</div>"
      ],
      "text/plain": [
       "          Tier 1          Tier 2                                      Tier 3\n",
       "0     IIT Bombay  IIIT Bangalore  Ramaiah Institute of Technology, Bengaluru\n",
       "1      IIT Delhi      IIIT Delhi                      TIET/Thapar University\n",
       "2  IIT Kharagpur          IGDTUW                         Manipal Main Campus\n",
       "3     IIT Madras     NIT Calicut                                 VIT Vellore\n",
       "4     IIT Kanpur   IIITM Gwalior                             SRM Main Campus"
      ]
     },
     "execution_count": 5,
     "metadata": {},
     "output_type": "execute_result"
    }
   ],
   "source": [
    "# show first five rows of dataframe\n",
    "colleges.head()"
   ]
  },
  {
   "cell_type": "code",
   "execution_count": 6,
   "id": "58f98016",
   "metadata": {},
   "outputs": [],
   "source": [
    "# Load data file using pandas library\n",
    "cities = pd.read_csv(r\"C:\\Users\\thora\\OneDrive\\Documents\\Machine Learning\\Project\\cities.csv\",header=0)"
   ]
  },
  {
   "cell_type": "code",
   "execution_count": 7,
   "id": "d496ce5d",
   "metadata": {},
   "outputs": [
    {
     "data": {
      "text/html": [
       "<div>\n",
       "<style scoped>\n",
       "    .dataframe tbody tr th:only-of-type {\n",
       "        vertical-align: middle;\n",
       "    }\n",
       "\n",
       "    .dataframe tbody tr th {\n",
       "        vertical-align: top;\n",
       "    }\n",
       "\n",
       "    .dataframe thead th {\n",
       "        text-align: right;\n",
       "    }\n",
       "</style>\n",
       "<table border=\"1\" class=\"dataframe\">\n",
       "  <thead>\n",
       "    <tr style=\"text-align: right;\">\n",
       "      <th></th>\n",
       "      <th>Metrio City</th>\n",
       "      <th>non-metro cities</th>\n",
       "    </tr>\n",
       "  </thead>\n",
       "  <tbody>\n",
       "    <tr>\n",
       "      <th>0</th>\n",
       "      <td>Mumbai</td>\n",
       "      <td>Dehradun</td>\n",
       "    </tr>\n",
       "    <tr>\n",
       "      <th>1</th>\n",
       "      <td>Delhi</td>\n",
       "      <td>Durgapur</td>\n",
       "    </tr>\n",
       "    <tr>\n",
       "      <th>2</th>\n",
       "      <td>Kolkata</td>\n",
       "      <td>Asansol</td>\n",
       "    </tr>\n",
       "    <tr>\n",
       "      <th>3</th>\n",
       "      <td>Chennai</td>\n",
       "      <td>Rourkela</td>\n",
       "    </tr>\n",
       "    <tr>\n",
       "      <th>4</th>\n",
       "      <td>Bangalore</td>\n",
       "      <td>Kozhikode</td>\n",
       "    </tr>\n",
       "  </tbody>\n",
       "</table>\n",
       "</div>"
      ],
      "text/plain": [
       "  Metrio City non-metro cities\n",
       "0      Mumbai         Dehradun\n",
       "1       Delhi         Durgapur\n",
       "2     Kolkata          Asansol\n",
       "3     Chennai         Rourkela\n",
       "4   Bangalore        Kozhikode"
      ]
     },
     "execution_count": 7,
     "metadata": {},
     "output_type": "execute_result"
    }
   ],
   "source": [
    "# shows first five rows of dataframe\n",
    "cities.head()"
   ]
  },
  {
   "cell_type": "code",
   "execution_count": 8,
   "id": "fe0edc62",
   "metadata": {},
   "outputs": [],
   "source": [
    "# Convert college dataframe into 3 lists\n",
    "Tier1 = colleges[\"Tier 1\"].tolist()\n",
    "Tier2 = colleges[\"Tier 2\"].tolist()\n",
    "Tier3 = colleges[\"Tier 3\"].tolist()"
   ]
  },
  {
   "cell_type": "code",
   "execution_count": 9,
   "id": "ee1a347f",
   "metadata": {},
   "outputs": [
    {
     "data": {
      "text/plain": [
       "['IIIT Bangalore',\n",
       " 'IIIT Delhi',\n",
       " 'IGDTUW',\n",
       " 'NIT Calicut',\n",
       " 'IIITM Gwalior',\n",
       " 'IIIT Lucknow',\n",
       " 'MNNIT Allahabad',\n",
       " 'Punjab Engineering College',\n",
       " 'DAIICT',\n",
       " 'MNIT Jaipur',\n",
       " 'NIT Durgapur',\n",
       " 'VNIT Nagpur',\n",
       " 'LNMIIT',\n",
       " 'BIT Mesra',\n",
       " 'SVNIT Surat',\n",
       " 'NIT Jalandhar',\n",
       " 'NIT Jamshedpur',\n",
       " 'NIT Kurukshetra',\n",
       " 'NIT Patna',\n",
       " 'NIT Raipur',\n",
       " 'NIT Bhopal',\n",
       " 'NIT Rourkela',\n",
       " 'NIT Silchar',\n",
       " 'NIT Sikkim',\n",
       " 'IIIT Jabalpur',\n",
       " 'Jalpaiguri Government Engineering College',\n",
       " 'IIEST/BESU Shibpur',\n",
       " 'R.V. College of Engineering']"
      ]
     },
     "execution_count": 9,
     "metadata": {},
     "output_type": "execute_result"
    }
   ],
   "source": [
    "# show the list data of Tier2 for checking purpose\n",
    "Tier2"
   ]
  },
  {
   "cell_type": "code",
   "execution_count": 10,
   "id": "fccfab2f",
   "metadata": {},
   "outputs": [],
   "source": [
    "# Replace first loaded dataframe i.e.df , college column with list category i.e.Tier1,Tier2,Tier3\n",
    "for item in df.College:\n",
    "    if item in Tier1:\n",
    "        df[\"College\"].replace(item,1,inplace=True)\n",
    "    elif item in Tier2:\n",
    "        df[\"College\"].replace(item,2,inplace=True)\n",
    "    elif item in Tier3:\n",
    "        df[\"College\"].replace(item,3,inplace=True)"
   ]
  },
  {
   "cell_type": "code",
   "execution_count": 11,
   "id": "d61d83c0",
   "metadata": {},
   "outputs": [
    {
     "data": {
      "text/html": [
       "<div>\n",
       "<style scoped>\n",
       "    .dataframe tbody tr th:only-of-type {\n",
       "        vertical-align: middle;\n",
       "    }\n",
       "\n",
       "    .dataframe tbody tr th {\n",
       "        vertical-align: top;\n",
       "    }\n",
       "\n",
       "    .dataframe thead th {\n",
       "        text-align: right;\n",
       "    }\n",
       "</style>\n",
       "<table border=\"1\" class=\"dataframe\">\n",
       "  <thead>\n",
       "    <tr style=\"text-align: right;\">\n",
       "      <th></th>\n",
       "      <th>College</th>\n",
       "      <th>City</th>\n",
       "      <th>Role</th>\n",
       "      <th>Previous CTC</th>\n",
       "      <th>Previous job change</th>\n",
       "      <th>Graduation Marks</th>\n",
       "      <th>EXP (Month)</th>\n",
       "      <th>CTC</th>\n",
       "    </tr>\n",
       "  </thead>\n",
       "  <tbody>\n",
       "    <tr>\n",
       "      <th>0</th>\n",
       "      <td>2</td>\n",
       "      <td>Asansol</td>\n",
       "      <td>Manager</td>\n",
       "      <td>55523</td>\n",
       "      <td>3</td>\n",
       "      <td>66</td>\n",
       "      <td>19</td>\n",
       "      <td>71406.58</td>\n",
       "    </tr>\n",
       "    <tr>\n",
       "      <th>1</th>\n",
       "      <td>2</td>\n",
       "      <td>Ajmer</td>\n",
       "      <td>Executive</td>\n",
       "      <td>57081</td>\n",
       "      <td>1</td>\n",
       "      <td>84</td>\n",
       "      <td>18</td>\n",
       "      <td>68005.87</td>\n",
       "    </tr>\n",
       "    <tr>\n",
       "      <th>2</th>\n",
       "      <td>3</td>\n",
       "      <td>Rajpur Sonarpur</td>\n",
       "      <td>Executive</td>\n",
       "      <td>60347</td>\n",
       "      <td>2</td>\n",
       "      <td>52</td>\n",
       "      <td>28</td>\n",
       "      <td>76764.02</td>\n",
       "    </tr>\n",
       "    <tr>\n",
       "      <th>3</th>\n",
       "      <td>3</td>\n",
       "      <td>Ajmer</td>\n",
       "      <td>Executive</td>\n",
       "      <td>49010</td>\n",
       "      <td>2</td>\n",
       "      <td>81</td>\n",
       "      <td>33</td>\n",
       "      <td>82092.39</td>\n",
       "    </tr>\n",
       "    <tr>\n",
       "      <th>4</th>\n",
       "      <td>1</td>\n",
       "      <td>Durgapur</td>\n",
       "      <td>Executive</td>\n",
       "      <td>57879</td>\n",
       "      <td>4</td>\n",
       "      <td>74</td>\n",
       "      <td>32</td>\n",
       "      <td>73878.10</td>\n",
       "    </tr>\n",
       "  </tbody>\n",
       "</table>\n",
       "</div>"
      ],
      "text/plain": [
       "   College             City       Role  Previous CTC  Previous job change  \\\n",
       "0        2          Asansol    Manager         55523                    3   \n",
       "1        2            Ajmer  Executive         57081                    1   \n",
       "2        3  Rajpur Sonarpur  Executive         60347                    2   \n",
       "3        3            Ajmer  Executive         49010                    2   \n",
       "4        1         Durgapur  Executive         57879                    4   \n",
       "\n",
       "   Graduation Marks  EXP (Month)       CTC  \n",
       "0                66           19  71406.58  \n",
       "1                84           18  68005.87  \n",
       "2                52           28  76764.02  \n",
       "3                81           33  82092.39  \n",
       "4                74           32  73878.10  "
      ]
     },
     "execution_count": 11,
     "metadata": {},
     "output_type": "execute_result"
    }
   ],
   "source": [
    "# show the first five rows of dataframe for checking if college column is replace with correct list category or not\n",
    "df.head()"
   ]
  },
  {
   "cell_type": "code",
   "execution_count": 12,
   "id": "9e901faf",
   "metadata": {},
   "outputs": [],
   "source": [
    "# Convert Cities dataframe into list\n",
    "metro_city = cities[\"Metrio City\"].tolist()\n",
    "non_metro_city = cities[\"non-metro cities\"].tolist()"
   ]
  },
  {
   "cell_type": "code",
   "execution_count": 13,
   "id": "b8fbda95",
   "metadata": {},
   "outputs": [],
   "source": [
    "# Replace first loaded dataframe i.e.df , city column with list category i.e.Metro_city ,non_metro_city\n",
    "for item in df.City:\n",
    "    if item in metro_city:\n",
    "        df[\"City\"].replace(item,1,inplace=True)\n",
    "    elif item in non_metro_city:\n",
    "        df[\"City\"].replace(item,0,inplace=True)"
   ]
  },
  {
   "cell_type": "code",
   "execution_count": 14,
   "id": "f144fe4f",
   "metadata": {
    "scrolled": true
   },
   "outputs": [
    {
     "data": {
      "text/html": [
       "<div>\n",
       "<style scoped>\n",
       "    .dataframe tbody tr th:only-of-type {\n",
       "        vertical-align: middle;\n",
       "    }\n",
       "\n",
       "    .dataframe tbody tr th {\n",
       "        vertical-align: top;\n",
       "    }\n",
       "\n",
       "    .dataframe thead th {\n",
       "        text-align: right;\n",
       "    }\n",
       "</style>\n",
       "<table border=\"1\" class=\"dataframe\">\n",
       "  <thead>\n",
       "    <tr style=\"text-align: right;\">\n",
       "      <th></th>\n",
       "      <th>College</th>\n",
       "      <th>City</th>\n",
       "      <th>Role</th>\n",
       "      <th>Previous CTC</th>\n",
       "      <th>Previous job change</th>\n",
       "      <th>Graduation Marks</th>\n",
       "      <th>EXP (Month)</th>\n",
       "      <th>CTC</th>\n",
       "    </tr>\n",
       "  </thead>\n",
       "  <tbody>\n",
       "    <tr>\n",
       "      <th>0</th>\n",
       "      <td>2</td>\n",
       "      <td>0</td>\n",
       "      <td>Manager</td>\n",
       "      <td>55523</td>\n",
       "      <td>3</td>\n",
       "      <td>66</td>\n",
       "      <td>19</td>\n",
       "      <td>71406.58</td>\n",
       "    </tr>\n",
       "    <tr>\n",
       "      <th>1</th>\n",
       "      <td>2</td>\n",
       "      <td>0</td>\n",
       "      <td>Executive</td>\n",
       "      <td>57081</td>\n",
       "      <td>1</td>\n",
       "      <td>84</td>\n",
       "      <td>18</td>\n",
       "      <td>68005.87</td>\n",
       "    </tr>\n",
       "    <tr>\n",
       "      <th>2</th>\n",
       "      <td>3</td>\n",
       "      <td>0</td>\n",
       "      <td>Executive</td>\n",
       "      <td>60347</td>\n",
       "      <td>2</td>\n",
       "      <td>52</td>\n",
       "      <td>28</td>\n",
       "      <td>76764.02</td>\n",
       "    </tr>\n",
       "    <tr>\n",
       "      <th>3</th>\n",
       "      <td>3</td>\n",
       "      <td>0</td>\n",
       "      <td>Executive</td>\n",
       "      <td>49010</td>\n",
       "      <td>2</td>\n",
       "      <td>81</td>\n",
       "      <td>33</td>\n",
       "      <td>82092.39</td>\n",
       "    </tr>\n",
       "    <tr>\n",
       "      <th>4</th>\n",
       "      <td>1</td>\n",
       "      <td>0</td>\n",
       "      <td>Executive</td>\n",
       "      <td>57879</td>\n",
       "      <td>4</td>\n",
       "      <td>74</td>\n",
       "      <td>32</td>\n",
       "      <td>73878.10</td>\n",
       "    </tr>\n",
       "  </tbody>\n",
       "</table>\n",
       "</div>"
      ],
      "text/plain": [
       "   College  City       Role  Previous CTC  Previous job change  \\\n",
       "0        2     0    Manager         55523                    3   \n",
       "1        2     0  Executive         57081                    1   \n",
       "2        3     0  Executive         60347                    2   \n",
       "3        3     0  Executive         49010                    2   \n",
       "4        1     0  Executive         57879                    4   \n",
       "\n",
       "   Graduation Marks  EXP (Month)       CTC  \n",
       "0                66           19  71406.58  \n",
       "1                84           18  68005.87  \n",
       "2                52           28  76764.02  \n",
       "3                81           33  82092.39  \n",
       "4                74           32  73878.10  "
      ]
     },
     "execution_count": 14,
     "metadata": {},
     "output_type": "execute_result"
    }
   ],
   "source": [
    "# show first five rows of dataframe for checkig purpose\n",
    "df.head()"
   ]
  },
  {
   "cell_type": "markdown",
   "id": "3cdb612b",
   "metadata": {},
   "source": [
    "# 2. Data Preprocessing\n",
    "Convert the categorical features like \"College name,\" \"City,\" and \"Role\" into numerical format using one-hot encoding or label encoding.Perform any necessary feature scaling or normalization."
   ]
  },
  {
   "cell_type": "markdown",
   "id": "3bd9dcc7",
   "metadata": {},
   "source": [
    "### Missing value Imputation"
   ]
  },
  {
   "cell_type": "code",
   "execution_count": 15,
   "id": "9e46cbf7",
   "metadata": {
    "scrolled": true
   },
   "outputs": [
    {
     "name": "stdout",
     "output_type": "stream",
     "text": [
      "<class 'pandas.core.frame.DataFrame'>\n",
      "RangeIndex: 1589 entries, 0 to 1588\n",
      "Data columns (total 8 columns):\n",
      " #   Column               Non-Null Count  Dtype  \n",
      "---  ------               --------------  -----  \n",
      " 0   College              1589 non-null   int64  \n",
      " 1   City                 1589 non-null   int64  \n",
      " 2   Role                 1589 non-null   object \n",
      " 3   Previous CTC         1589 non-null   int64  \n",
      " 4   Previous job change  1589 non-null   int64  \n",
      " 5   Graduation Marks     1589 non-null   int64  \n",
      " 6   EXP (Month)          1589 non-null   int64  \n",
      " 7   CTC                  1589 non-null   float64\n",
      "dtypes: float64(1), int64(6), object(1)\n",
      "memory usage: 99.4+ KB\n"
     ]
    }
   ],
   "source": [
    "# Analye the explicit view of the dataframe in order to find any missing values in any attributes\n",
    "df.info()"
   ]
  },
  {
   "cell_type": "markdown",
   "id": "f206a148",
   "metadata": {},
   "source": [
    "#### Observation-\n",
    "we have not found any missing values in any data attributes so there is no need to do missing value imputation."
   ]
  },
  {
   "cell_type": "markdown",
   "id": "a57b34e7",
   "metadata": {},
   "source": [
    "### Dummy variable creation to convert categorical variable into numerical"
   ]
  },
  {
   "cell_type": "code",
   "execution_count": 16,
   "id": "02357110",
   "metadata": {},
   "outputs": [],
   "source": [
    "# Get dummy variables for object datatype column name 'Role' in order to convert it into numerical value\n",
    "df = pd.get_dummies(df, columns=['Role'], drop_first=True)"
   ]
  },
  {
   "cell_type": "code",
   "execution_count": 17,
   "id": "45c1543e",
   "metadata": {},
   "outputs": [
    {
     "data": {
      "text/html": [
       "<div>\n",
       "<style scoped>\n",
       "    .dataframe tbody tr th:only-of-type {\n",
       "        vertical-align: middle;\n",
       "    }\n",
       "\n",
       "    .dataframe tbody tr th {\n",
       "        vertical-align: top;\n",
       "    }\n",
       "\n",
       "    .dataframe thead th {\n",
       "        text-align: right;\n",
       "    }\n",
       "</style>\n",
       "<table border=\"1\" class=\"dataframe\">\n",
       "  <thead>\n",
       "    <tr style=\"text-align: right;\">\n",
       "      <th></th>\n",
       "      <th>College</th>\n",
       "      <th>City</th>\n",
       "      <th>Previous CTC</th>\n",
       "      <th>Previous job change</th>\n",
       "      <th>Graduation Marks</th>\n",
       "      <th>EXP (Month)</th>\n",
       "      <th>CTC</th>\n",
       "      <th>Role_Manager</th>\n",
       "    </tr>\n",
       "  </thead>\n",
       "  <tbody>\n",
       "    <tr>\n",
       "      <th>0</th>\n",
       "      <td>2</td>\n",
       "      <td>0</td>\n",
       "      <td>55523</td>\n",
       "      <td>3</td>\n",
       "      <td>66</td>\n",
       "      <td>19</td>\n",
       "      <td>71406.58</td>\n",
       "      <td>1</td>\n",
       "    </tr>\n",
       "    <tr>\n",
       "      <th>1</th>\n",
       "      <td>2</td>\n",
       "      <td>0</td>\n",
       "      <td>57081</td>\n",
       "      <td>1</td>\n",
       "      <td>84</td>\n",
       "      <td>18</td>\n",
       "      <td>68005.87</td>\n",
       "      <td>0</td>\n",
       "    </tr>\n",
       "    <tr>\n",
       "      <th>2</th>\n",
       "      <td>3</td>\n",
       "      <td>0</td>\n",
       "      <td>60347</td>\n",
       "      <td>2</td>\n",
       "      <td>52</td>\n",
       "      <td>28</td>\n",
       "      <td>76764.02</td>\n",
       "      <td>0</td>\n",
       "    </tr>\n",
       "    <tr>\n",
       "      <th>3</th>\n",
       "      <td>3</td>\n",
       "      <td>0</td>\n",
       "      <td>49010</td>\n",
       "      <td>2</td>\n",
       "      <td>81</td>\n",
       "      <td>33</td>\n",
       "      <td>82092.39</td>\n",
       "      <td>0</td>\n",
       "    </tr>\n",
       "    <tr>\n",
       "      <th>4</th>\n",
       "      <td>1</td>\n",
       "      <td>0</td>\n",
       "      <td>57879</td>\n",
       "      <td>4</td>\n",
       "      <td>74</td>\n",
       "      <td>32</td>\n",
       "      <td>73878.10</td>\n",
       "      <td>0</td>\n",
       "    </tr>\n",
       "  </tbody>\n",
       "</table>\n",
       "</div>"
      ],
      "text/plain": [
       "   College  City  Previous CTC  Previous job change  Graduation Marks  \\\n",
       "0        2     0         55523                    3                66   \n",
       "1        2     0         57081                    1                84   \n",
       "2        3     0         60347                    2                52   \n",
       "3        3     0         49010                    2                81   \n",
       "4        1     0         57879                    4                74   \n",
       "\n",
       "   EXP (Month)       CTC  Role_Manager  \n",
       "0           19  71406.58             1  \n",
       "1           18  68005.87             0  \n",
       "2           28  76764.02             0  \n",
       "3           33  82092.39             0  \n",
       "4           32  73878.10             0  "
      ]
     },
     "execution_count": 17,
     "metadata": {},
     "output_type": "execute_result"
    }
   ],
   "source": [
    "# Show the first five rows of dataframe to check\n",
    "df.head()"
   ]
  },
  {
   "cell_type": "code",
   "execution_count": 18,
   "id": "c7a2a93f",
   "metadata": {},
   "outputs": [
    {
     "data": {
      "text/html": [
       "<div>\n",
       "<style scoped>\n",
       "    .dataframe tbody tr th:only-of-type {\n",
       "        vertical-align: middle;\n",
       "    }\n",
       "\n",
       "    .dataframe tbody tr th {\n",
       "        vertical-align: top;\n",
       "    }\n",
       "\n",
       "    .dataframe thead th {\n",
       "        text-align: right;\n",
       "    }\n",
       "</style>\n",
       "<table border=\"1\" class=\"dataframe\">\n",
       "  <thead>\n",
       "    <tr style=\"text-align: right;\">\n",
       "      <th></th>\n",
       "      <th>College</th>\n",
       "      <th>City</th>\n",
       "      <th>Previous CTC</th>\n",
       "      <th>Previous job change</th>\n",
       "      <th>Graduation Marks</th>\n",
       "      <th>EXP (Month)</th>\n",
       "      <th>CTC</th>\n",
       "      <th>Role_Manager</th>\n",
       "    </tr>\n",
       "  </thead>\n",
       "  <tbody>\n",
       "    <tr>\n",
       "      <th>College</th>\n",
       "      <td>1.000000</td>\n",
       "      <td>-0.014946</td>\n",
       "      <td>0.041979</td>\n",
       "      <td>-0.055060</td>\n",
       "      <td>0.003539</td>\n",
       "      <td>0.011752</td>\n",
       "      <td>-0.029592</td>\n",
       "      <td>-0.014749</td>\n",
       "    </tr>\n",
       "    <tr>\n",
       "      <th>City</th>\n",
       "      <td>-0.014946</td>\n",
       "      <td>1.000000</td>\n",
       "      <td>0.004644</td>\n",
       "      <td>0.051670</td>\n",
       "      <td>-0.018616</td>\n",
       "      <td>-0.023613</td>\n",
       "      <td>-0.020365</td>\n",
       "      <td>-0.048671</td>\n",
       "    </tr>\n",
       "    <tr>\n",
       "      <th>Previous CTC</th>\n",
       "      <td>0.041979</td>\n",
       "      <td>0.004644</td>\n",
       "      <td>1.000000</td>\n",
       "      <td>0.005756</td>\n",
       "      <td>-0.032976</td>\n",
       "      <td>0.119163</td>\n",
       "      <td>0.258000</td>\n",
       "      <td>0.012321</td>\n",
       "    </tr>\n",
       "    <tr>\n",
       "      <th>Previous job change</th>\n",
       "      <td>-0.055060</td>\n",
       "      <td>0.051670</td>\n",
       "      <td>0.005756</td>\n",
       "      <td>1.000000</td>\n",
       "      <td>0.019267</td>\n",
       "      <td>0.023488</td>\n",
       "      <td>0.011370</td>\n",
       "      <td>-0.017150</td>\n",
       "    </tr>\n",
       "    <tr>\n",
       "      <th>Graduation Marks</th>\n",
       "      <td>0.003539</td>\n",
       "      <td>-0.018616</td>\n",
       "      <td>-0.032976</td>\n",
       "      <td>0.019267</td>\n",
       "      <td>1.000000</td>\n",
       "      <td>-0.057061</td>\n",
       "      <td>-0.005450</td>\n",
       "      <td>0.017858</td>\n",
       "    </tr>\n",
       "    <tr>\n",
       "      <th>EXP (Month)</th>\n",
       "      <td>0.011752</td>\n",
       "      <td>-0.023613</td>\n",
       "      <td>0.119163</td>\n",
       "      <td>0.023488</td>\n",
       "      <td>-0.057061</td>\n",
       "      <td>1.000000</td>\n",
       "      <td>0.301115</td>\n",
       "      <td>-0.026751</td>\n",
       "    </tr>\n",
       "    <tr>\n",
       "      <th>CTC</th>\n",
       "      <td>-0.029592</td>\n",
       "      <td>-0.020365</td>\n",
       "      <td>0.258000</td>\n",
       "      <td>0.011370</td>\n",
       "      <td>-0.005450</td>\n",
       "      <td>0.301115</td>\n",
       "      <td>1.000000</td>\n",
       "      <td>0.621311</td>\n",
       "    </tr>\n",
       "    <tr>\n",
       "      <th>Role_Manager</th>\n",
       "      <td>-0.014749</td>\n",
       "      <td>-0.048671</td>\n",
       "      <td>0.012321</td>\n",
       "      <td>-0.017150</td>\n",
       "      <td>0.017858</td>\n",
       "      <td>-0.026751</td>\n",
       "      <td>0.621311</td>\n",
       "      <td>1.000000</td>\n",
       "    </tr>\n",
       "  </tbody>\n",
       "</table>\n",
       "</div>"
      ],
      "text/plain": [
       "                      College      City  Previous CTC  Previous job change  \\\n",
       "College              1.000000 -0.014946      0.041979            -0.055060   \n",
       "City                -0.014946  1.000000      0.004644             0.051670   \n",
       "Previous CTC         0.041979  0.004644      1.000000             0.005756   \n",
       "Previous job change -0.055060  0.051670      0.005756             1.000000   \n",
       "Graduation Marks     0.003539 -0.018616     -0.032976             0.019267   \n",
       "EXP (Month)          0.011752 -0.023613      0.119163             0.023488   \n",
       "CTC                 -0.029592 -0.020365      0.258000             0.011370   \n",
       "Role_Manager        -0.014749 -0.048671      0.012321            -0.017150   \n",
       "\n",
       "                     Graduation Marks  EXP (Month)       CTC  Role_Manager  \n",
       "College                      0.003539     0.011752 -0.029592     -0.014749  \n",
       "City                        -0.018616    -0.023613 -0.020365     -0.048671  \n",
       "Previous CTC                -0.032976     0.119163  0.258000      0.012321  \n",
       "Previous job change          0.019267     0.023488  0.011370     -0.017150  \n",
       "Graduation Marks             1.000000    -0.057061 -0.005450      0.017858  \n",
       "EXP (Month)                 -0.057061     1.000000  0.301115     -0.026751  \n",
       "CTC                         -0.005450     0.301115  1.000000      0.621311  \n",
       "Role_Manager                 0.017858    -0.026751  0.621311      1.000000  "
      ]
     },
     "execution_count": 18,
     "metadata": {},
     "output_type": "execute_result"
    }
   ],
   "source": [
    "# Find the corelation of each variables with each other\n",
    "df.corr()"
   ]
  },
  {
   "cell_type": "markdown",
   "id": "87a57341",
   "metadata": {},
   "source": [
    "### Outliers Treatment"
   ]
  },
  {
   "cell_type": "code",
   "execution_count": 19,
   "id": "e7fb032b",
   "metadata": {},
   "outputs": [
    {
     "data": {
      "text/html": [
       "<div>\n",
       "<style scoped>\n",
       "    .dataframe tbody tr th:only-of-type {\n",
       "        vertical-align: middle;\n",
       "    }\n",
       "\n",
       "    .dataframe tbody tr th {\n",
       "        vertical-align: top;\n",
       "    }\n",
       "\n",
       "    .dataframe thead th {\n",
       "        text-align: right;\n",
       "    }\n",
       "</style>\n",
       "<table border=\"1\" class=\"dataframe\">\n",
       "  <thead>\n",
       "    <tr style=\"text-align: right;\">\n",
       "      <th></th>\n",
       "      <th>College</th>\n",
       "      <th>City</th>\n",
       "      <th>Previous CTC</th>\n",
       "      <th>Previous job change</th>\n",
       "      <th>Graduation Marks</th>\n",
       "      <th>EXP (Month)</th>\n",
       "      <th>CTC</th>\n",
       "      <th>Role_Manager</th>\n",
       "    </tr>\n",
       "  </thead>\n",
       "  <tbody>\n",
       "    <tr>\n",
       "      <th>count</th>\n",
       "      <td>1589.000000</td>\n",
       "      <td>1589.000000</td>\n",
       "      <td>1589.000000</td>\n",
       "      <td>1589.000000</td>\n",
       "      <td>1589.000000</td>\n",
       "      <td>1589.000000</td>\n",
       "      <td>1589.000000</td>\n",
       "      <td>1589.000000</td>\n",
       "    </tr>\n",
       "    <tr>\n",
       "      <th>mean</th>\n",
       "      <td>1.975456</td>\n",
       "      <td>0.514160</td>\n",
       "      <td>55518.453744</td>\n",
       "      <td>2.528634</td>\n",
       "      <td>59.855255</td>\n",
       "      <td>39.044682</td>\n",
       "      <td>75353.278798</td>\n",
       "      <td>0.206419</td>\n",
       "    </tr>\n",
       "    <tr>\n",
       "      <th>std</th>\n",
       "      <td>0.838330</td>\n",
       "      <td>0.499957</td>\n",
       "      <td>6655.218445</td>\n",
       "      <td>1.123918</td>\n",
       "      <td>14.935139</td>\n",
       "      <td>14.108875</td>\n",
       "      <td>12587.288237</td>\n",
       "      <td>0.404862</td>\n",
       "    </tr>\n",
       "    <tr>\n",
       "      <th>min</th>\n",
       "      <td>1.000000</td>\n",
       "      <td>0.000000</td>\n",
       "      <td>36990.000000</td>\n",
       "      <td>1.000000</td>\n",
       "      <td>35.000000</td>\n",
       "      <td>18.000000</td>\n",
       "      <td>53020.320000</td>\n",
       "      <td>0.000000</td>\n",
       "    </tr>\n",
       "    <tr>\n",
       "      <th>25%</th>\n",
       "      <td>1.000000</td>\n",
       "      <td>0.000000</td>\n",
       "      <td>50518.000000</td>\n",
       "      <td>2.000000</td>\n",
       "      <td>46.000000</td>\n",
       "      <td>26.000000</td>\n",
       "      <td>66902.350000</td>\n",
       "      <td>0.000000</td>\n",
       "    </tr>\n",
       "    <tr>\n",
       "      <th>50%</th>\n",
       "      <td>2.000000</td>\n",
       "      <td>1.000000</td>\n",
       "      <td>55291.000000</td>\n",
       "      <td>3.000000</td>\n",
       "      <td>60.000000</td>\n",
       "      <td>39.000000</td>\n",
       "      <td>73028.670000</td>\n",
       "      <td>0.000000</td>\n",
       "    </tr>\n",
       "    <tr>\n",
       "      <th>75%</th>\n",
       "      <td>3.000000</td>\n",
       "      <td>1.000000</td>\n",
       "      <td>60109.000000</td>\n",
       "      <td>4.000000</td>\n",
       "      <td>73.000000</td>\n",
       "      <td>51.000000</td>\n",
       "      <td>80588.670000</td>\n",
       "      <td>0.000000</td>\n",
       "    </tr>\n",
       "    <tr>\n",
       "      <th>max</th>\n",
       "      <td>3.000000</td>\n",
       "      <td>1.000000</td>\n",
       "      <td>77911.000000</td>\n",
       "      <td>4.000000</td>\n",
       "      <td>85.000000</td>\n",
       "      <td>64.000000</td>\n",
       "      <td>123416.990000</td>\n",
       "      <td>1.000000</td>\n",
       "    </tr>\n",
       "  </tbody>\n",
       "</table>\n",
       "</div>"
      ],
      "text/plain": [
       "           College         City  Previous CTC  Previous job change  \\\n",
       "count  1589.000000  1589.000000   1589.000000          1589.000000   \n",
       "mean      1.975456     0.514160  55518.453744             2.528634   \n",
       "std       0.838330     0.499957   6655.218445             1.123918   \n",
       "min       1.000000     0.000000  36990.000000             1.000000   \n",
       "25%       1.000000     0.000000  50518.000000             2.000000   \n",
       "50%       2.000000     1.000000  55291.000000             3.000000   \n",
       "75%       3.000000     1.000000  60109.000000             4.000000   \n",
       "max       3.000000     1.000000  77911.000000             4.000000   \n",
       "\n",
       "       Graduation Marks  EXP (Month)            CTC  Role_Manager  \n",
       "count       1589.000000  1589.000000    1589.000000   1589.000000  \n",
       "mean          59.855255    39.044682   75353.278798      0.206419  \n",
       "std           14.935139    14.108875   12587.288237      0.404862  \n",
       "min           35.000000    18.000000   53020.320000      0.000000  \n",
       "25%           46.000000    26.000000   66902.350000      0.000000  \n",
       "50%           60.000000    39.000000   73028.670000      0.000000  \n",
       "75%           73.000000    51.000000   80588.670000      0.000000  \n",
       "max           85.000000    64.000000  123416.990000      1.000000  "
      ]
     },
     "execution_count": 19,
     "metadata": {},
     "output_type": "execute_result"
    }
   ],
   "source": [
    "# Get Exploratory Data Description to find any missing values or outlier in the dataset\n",
    "df.describe()"
   ]
  },
  {
   "cell_type": "code",
   "execution_count": 20,
   "id": "c8e091ba",
   "metadata": {},
   "outputs": [
    {
     "data": {
      "text/plain": [
       "<seaborn.axisgrid.JointGrid at 0x17c21717c10>"
      ]
     },
     "execution_count": 20,
     "metadata": {},
     "output_type": "execute_result"
    },
    {
     "data": {
      "image/png": "[encoded data removed]",
      "text/plain": [
       "<Figure size 600x600 with 3 Axes>"
      ]
     },
     "metadata": {},
     "output_type": "display_data"
    }
   ],
   "source": [
    "# Visualize the relationship between X-dependent variables against y-independent variable\n",
    "sns.jointplot(x='Previous CTC',y='CTC',data=df,color='red')"
   ]
  },
  {
   "cell_type": "code",
   "execution_count": 21,
   "id": "3b3aab06",
   "metadata": {},
   "outputs": [
    {
     "data": {
      "text/plain": [
       "<seaborn.axisgrid.JointGrid at 0x17c21c6cf50>"
      ]
     },
     "execution_count": 21,
     "metadata": {},
     "output_type": "execute_result"
    },
    {
     "data": {
      "image/png": "[encoded data removed]",
      "text/plain": [
       "<Figure size 600x600 with 3 Axes>"
      ]
     },
     "metadata": {},
     "output_type": "display_data"
    }
   ],
   "source": [
    "# Visualize the relationship between X-dependent variables against y-independent variable\n",
    "sns.jointplot(x='Graduation Marks',y='CTC',data=df,color='green')"
   ]
  },
  {
   "cell_type": "code",
   "execution_count": 22,
   "id": "400bb799",
   "metadata": {},
   "outputs": [
    {
     "data": {
      "text/plain": [
       "<seaborn.axisgrid.JointGrid at 0x17c21f7a9d0>"
      ]
     },
     "execution_count": 22,
     "metadata": {},
     "output_type": "execute_result"
    },
    {
     "data": {
      "image/png": "[encoded data removed]",
      "text/plain": [
       "<Figure size 600x600 with 3 Axes>"
      ]
     },
     "metadata": {},
     "output_type": "display_data"
    }
   ],
   "source": [
    "# Visualize the relationship between X-dependent variables against y-independent variable\n",
    "sns.jointplot(x='EXP (Month)',y='CTC',data=df,color='blue')"
   ]
  },
  {
   "cell_type": "code",
   "execution_count": 23,
   "id": "1eb83d08",
   "metadata": {},
   "outputs": [
    {
     "data": {
      "text/plain": [
       "<seaborn.axisgrid.JointGrid at 0x17c227a7a50>"
      ]
     },
     "execution_count": 23,
     "metadata": {},
     "output_type": "execute_result"
    },
    {
     "data": {
      "image/png": "[encoded data removed]",
      "text/plain": [
       "<Figure size 600x600 with 3 Axes>"
      ]
     },
     "metadata": {},
     "output_type": "display_data"
    }
   ],
   "source": [
    "# Visualize the relationship between X-dependent variables against y-independent variable\n",
    "sns.jointplot(x='College',y='CTC',data=df,color='black')"
   ]
  },
  {
   "cell_type": "markdown",
   "id": "ad068683",
   "metadata": {},
   "source": [
    "### Observations- \n",
    "1. After visualization of each independent variables against target variable we have not found outliers because there is none of the datapoints which is significantly far away fron the other datapoints in the graph.Aslo from EDD there is no significant difference between mean and median for each attibutes of the datasets.Hence there is no need for outliers treatment."
   ]
  },
  {
   "cell_type": "markdown",
   "id": "3db66db0",
   "metadata": {},
   "source": [
    "# 3. Data Spliting\n",
    "Split the data into dependent and independent variables"
   ]
  },
  {
   "cell_type": "code",
   "execution_count": 24,
   "id": "6c4b7543",
   "metadata": {},
   "outputs": [],
   "source": [
    "#  Split the data into features (X) and target (y)\n",
    "X = df.drop('CTC', axis=1)\n",
    "y = df['CTC']"
   ]
  },
  {
   "cell_type": "code",
   "execution_count": 25,
   "id": "a38a8ea3",
   "metadata": {},
   "outputs": [
    {
     "data": {
      "text/html": [
       "<div>\n",
       "<style scoped>\n",
       "    .dataframe tbody tr th:only-of-type {\n",
       "        vertical-align: middle;\n",
       "    }\n",
       "\n",
       "    .dataframe tbody tr th {\n",
       "        vertical-align: top;\n",
       "    }\n",
       "\n",
       "    .dataframe thead th {\n",
       "        text-align: right;\n",
       "    }\n",
       "</style>\n",
       "<table border=\"1\" class=\"dataframe\">\n",
       "  <thead>\n",
       "    <tr style=\"text-align: right;\">\n",
       "      <th></th>\n",
       "      <th>College</th>\n",
       "      <th>City</th>\n",
       "      <th>Previous CTC</th>\n",
       "      <th>Previous job change</th>\n",
       "      <th>Graduation Marks</th>\n",
       "      <th>EXP (Month)</th>\n",
       "      <th>Role_Manager</th>\n",
       "    </tr>\n",
       "  </thead>\n",
       "  <tbody>\n",
       "    <tr>\n",
       "      <th>0</th>\n",
       "      <td>2</td>\n",
       "      <td>0</td>\n",
       "      <td>55523</td>\n",
       "      <td>3</td>\n",
       "      <td>66</td>\n",
       "      <td>19</td>\n",
       "      <td>1</td>\n",
       "    </tr>\n",
       "    <tr>\n",
       "      <th>1</th>\n",
       "      <td>2</td>\n",
       "      <td>0</td>\n",
       "      <td>57081</td>\n",
       "      <td>1</td>\n",
       "      <td>84</td>\n",
       "      <td>18</td>\n",
       "      <td>0</td>\n",
       "    </tr>\n",
       "    <tr>\n",
       "      <th>2</th>\n",
       "      <td>3</td>\n",
       "      <td>0</td>\n",
       "      <td>60347</td>\n",
       "      <td>2</td>\n",
       "      <td>52</td>\n",
       "      <td>28</td>\n",
       "      <td>0</td>\n",
       "    </tr>\n",
       "    <tr>\n",
       "      <th>3</th>\n",
       "      <td>3</td>\n",
       "      <td>0</td>\n",
       "      <td>49010</td>\n",
       "      <td>2</td>\n",
       "      <td>81</td>\n",
       "      <td>33</td>\n",
       "      <td>0</td>\n",
       "    </tr>\n",
       "    <tr>\n",
       "      <th>4</th>\n",
       "      <td>1</td>\n",
       "      <td>0</td>\n",
       "      <td>57879</td>\n",
       "      <td>4</td>\n",
       "      <td>74</td>\n",
       "      <td>32</td>\n",
       "      <td>0</td>\n",
       "    </tr>\n",
       "  </tbody>\n",
       "</table>\n",
       "</div>"
      ],
      "text/plain": [
       "   College  City  Previous CTC  Previous job change  Graduation Marks  \\\n",
       "0        2     0         55523                    3                66   \n",
       "1        2     0         57081                    1                84   \n",
       "2        3     0         60347                    2                52   \n",
       "3        3     0         49010                    2                81   \n",
       "4        1     0         57879                    4                74   \n",
       "\n",
       "   EXP (Month)  Role_Manager  \n",
       "0           19             1  \n",
       "1           18             0  \n",
       "2           28             0  \n",
       "3           33             0  \n",
       "4           32             0  "
      ]
     },
     "execution_count": 25,
     "metadata": {},
     "output_type": "execute_result"
    }
   ],
   "source": [
    "# Show the first first five rows of X feature\n",
    "X.head()"
   ]
  },
  {
   "cell_type": "code",
   "execution_count": 26,
   "id": "c330b031",
   "metadata": {},
   "outputs": [
    {
     "data": {
      "text/plain": [
       "0    71406.58\n",
       "1    68005.87\n",
       "2    76764.02\n",
       "3    82092.39\n",
       "4    73878.10\n",
       "Name: CTC, dtype: float64"
      ]
     },
     "execution_count": 26,
     "metadata": {},
     "output_type": "execute_result"
    }
   ],
   "source": [
    "# Show the first five rows of target feature y\n",
    "y.head()"
   ]
  },
  {
   "cell_type": "markdown",
   "id": "e962d405",
   "metadata": {},
   "source": [
    "# 3. Model Selection\n",
    "Choose appropriate regression models that can predict salary based on the input features. Some options include Linear Regression, Random Forest Regression, Gradient Boosting Regression, and Support Vector Regression."
   ]
  },
  {
   "cell_type": "markdown",
   "id": "b2f8abb4",
   "metadata": {},
   "source": [
    "### Simple Linear Regression"
   ]
  },
  {
   "cell_type": "code",
   "execution_count": 27,
   "id": "22db4e99",
   "metadata": {},
   "outputs": [],
   "source": [
    "# Import regression model library\n",
    "import statsmodels.api as sn"
   ]
  },
  {
   "cell_type": "code",
   "execution_count": 28,
   "id": "92add59f",
   "metadata": {},
   "outputs": [],
   "source": [
    "# Create contant variable of X feature\n",
    "X_cons = sn.add_constant(X)"
   ]
  },
  {
   "cell_type": "code",
   "execution_count": 29,
   "id": "9a4f3963",
   "metadata": {},
   "outputs": [],
   "source": [
    "# Model fitting to X and y features\n",
    "lm = sn.OLS(y,X_cons).fit()"
   ]
  },
  {
   "cell_type": "code",
   "execution_count": 30,
   "id": "702fbc4b",
   "metadata": {
    "scrolled": true
   },
   "outputs": [
    {
     "data": {
      "text/html": [
       "<table class=\"simpletable\">\n",
       "<caption>OLS Regression Results</caption>\n",
       "<tr>\n",
       "  <th>Dep. Variable:</th>           <td>CTC</td>       <th>  R-squared:         </th> <td>   0.534</td> \n",
       "</tr>\n",
       "<tr>\n",
       "  <th>Model:</th>                   <td>OLS</td>       <th>  Adj. R-squared:    </th> <td>   0.532</td> \n",
       "</tr>\n",
       "<tr>\n",
       "  <th>Method:</th>             <td>Least Squares</td>  <th>  F-statistic:       </th> <td>   259.1</td> \n",
       "</tr>\n",
       "<tr>\n",
       "  <th>Date:</th>             <td>Mon, 31 Jul 2023</td> <th>  Prob (F-statistic):</th> <td>4.70e-257</td>\n",
       "</tr>\n",
       "<tr>\n",
       "  <th>Time:</th>                 <td>14:52:34</td>     <th>  Log-Likelihood:    </th> <td> -16648.</td> \n",
       "</tr>\n",
       "<tr>\n",
       "  <th>No. Observations:</th>      <td>  1589</td>      <th>  AIC:               </th> <td>3.331e+04</td>\n",
       "</tr>\n",
       "<tr>\n",
       "  <th>Df Residuals:</th>          <td>  1581</td>      <th>  BIC:               </th> <td>3.335e+04</td>\n",
       "</tr>\n",
       "<tr>\n",
       "  <th>Df Model:</th>              <td>     7</td>      <th>                     </th>     <td> </td>    \n",
       "</tr>\n",
       "<tr>\n",
       "  <th>Covariance Type:</th>      <td>nonrobust</td>    <th>                     </th>     <td> </td>    \n",
       "</tr>\n",
       "</table>\n",
       "<table class=\"simpletable\">\n",
       "<tr>\n",
       "           <td></td>              <th>coef</th>     <th>std err</th>      <th>t</th>      <th>P>|t|</th>  <th>[0.025</th>    <th>0.975]</th>  \n",
       "</tr>\n",
       "<tr>\n",
       "  <th>const</th>               <td> 3.842e+04</td> <td> 2192.660</td> <td>   17.523</td> <td> 0.000</td> <td> 3.41e+04</td> <td> 4.27e+04</td>\n",
       "</tr>\n",
       "<tr>\n",
       "  <th>College</th>             <td> -481.5147</td> <td>  258.382</td> <td>   -1.864</td> <td> 0.063</td> <td> -988.321</td> <td>   25.292</td>\n",
       "</tr>\n",
       "<tr>\n",
       "  <th>City</th>                <td>  380.8308</td> <td>  433.455</td> <td>    0.879</td> <td> 0.380</td> <td> -469.377</td> <td> 1231.039</td>\n",
       "</tr>\n",
       "<tr>\n",
       "  <th>Previous CTC</th>        <td>    0.4101</td> <td>    0.033</td> <td>   12.526</td> <td> 0.000</td> <td>    0.346</td> <td>    0.474</td>\n",
       "</tr>\n",
       "<tr>\n",
       "  <th>Previous job change</th> <td>  126.5653</td> <td>  192.887</td> <td>    0.656</td> <td> 0.512</td> <td> -251.776</td> <td>  504.906</td>\n",
       "</tr>\n",
       "<tr>\n",
       "  <th>Graduation Marks</th>    <td>    6.2362</td> <td>   14.502</td> <td>    0.430</td> <td> 0.667</td> <td>  -22.208</td> <td>   34.681</td>\n",
       "</tr>\n",
       "<tr>\n",
       "  <th>EXP (Month)</th>         <td>  261.3444</td> <td>   15.460</td> <td>   16.904</td> <td> 0.000</td> <td>  231.020</td> <td>  291.669</td>\n",
       "</tr>\n",
       "<tr>\n",
       "  <th>Role_Manager</th>        <td> 1.949e+04</td> <td>  534.694</td> <td>   36.446</td> <td> 0.000</td> <td> 1.84e+04</td> <td> 2.05e+04</td>\n",
       "</tr>\n",
       "</table>\n",
       "<table class=\"simpletable\">\n",
       "<tr>\n",
       "  <th>Omnibus:</th>       <td>49.726</td> <th>  Durbin-Watson:     </th> <td>   2.052</td>\n",
       "</tr>\n",
       "<tr>\n",
       "  <th>Prob(Omnibus):</th> <td> 0.000</td> <th>  Jarque-Bera (JB):  </th> <td>  55.299</td>\n",
       "</tr>\n",
       "<tr>\n",
       "  <th>Skew:</th>          <td> 0.408</td> <th>  Prob(JB):          </th> <td>9.82e-13</td>\n",
       "</tr>\n",
       "<tr>\n",
       "  <th>Kurtosis:</th>      <td> 3.411</td> <th>  Cond. No.          </th> <td>5.68e+05</td>\n",
       "</tr>\n",
       "</table><br/><br/>Notes:<br/>[1] Standard Errors assume that the covariance matrix of the errors is correctly specified.<br/>[2] The condition number is large, 5.68e+05. This might indicate that there are<br/>strong multicollinearity or other numerical problems."
      ],
      "text/plain": [
       "<class 'statsmodels.iolib.summary.Summary'>\n",
       "\"\"\"\n",
       "                            OLS Regression Results                            \n",
       "==============================================================================\n",
       "Dep. Variable:                    CTC   R-squared:                       0.534\n",
       "Model:                            OLS   Adj. R-squared:                  0.532\n",
       "Method:                 Least Squares   F-statistic:                     259.1\n",
       "Date:                Mon, 31 Jul 2023   Prob (F-statistic):          4.70e-257\n",
       "Time:                        14:52:34   Log-Likelihood:                -16648.\n",
       "No. Observations:                1589   AIC:                         3.331e+04\n",
       "Df Residuals:                    1581   BIC:                         3.335e+04\n",
       "Df Model:                           7                                         \n",
       "Covariance Type:            nonrobust                                         \n",
       "=======================================================================================\n",
       "                          coef    std err          t      P>|t|      [0.025      0.975]\n",
       "---------------------------------------------------------------------------------------\n",
       "const                3.842e+04   2192.660     17.523      0.000    3.41e+04    4.27e+04\n",
       "College              -481.5147    258.382     -1.864      0.063    -988.321      25.292\n",
       "City                  380.8308    433.455      0.879      0.380    -469.377    1231.039\n",
       "Previous CTC            0.4101      0.033     12.526      0.000       0.346       0.474\n",
       "Previous job change   126.5653    192.887      0.656      0.512    -251.776     504.906\n",
       "Graduation Marks        6.2362     14.502      0.430      0.667     -22.208      34.681\n",
       "EXP (Month)           261.3444     15.460     16.904      0.000     231.020     291.669\n",
       "Role_Manager         1.949e+04    534.694     36.446      0.000    1.84e+04    2.05e+04\n",
       "==============================================================================\n",
       "Omnibus:                       49.726   Durbin-Watson:                   2.052\n",
       "Prob(Omnibus):                  0.000   Jarque-Bera (JB):               55.299\n",
       "Skew:                           0.408   Prob(JB):                     9.82e-13\n",
       "Kurtosis:                       3.411   Cond. No.                     5.68e+05\n",
       "==============================================================================\n",
       "\n",
       "Notes:\n",
       "[1] Standard Errors assume that the covariance matrix of the errors is correctly specified.\n",
       "[2] The condition number is large, 5.68e+05. This might indicate that there are\n",
       "strong multicollinearity or other numerical problems.\n",
       "\"\"\""
      ]
     },
     "execution_count": 30,
     "metadata": {},
     "output_type": "execute_result"
    }
   ],
   "source": [
    "# Model evaluaton-Interpretation of result\n",
    "lm.summary()"
   ]
  },
  {
   "cell_type": "markdown",
   "id": "93ae994f",
   "metadata": {},
   "source": [
    "# 4. Model Evaluation\n",
    "R-squared: The R-squared value is 0.534, which means approximately 53.4% of the variance in the dependent variable (CTC) is explained by the independent variables in the model. This is a moderate R-squared value, indicating that the model captures some of the variation in the data.\n",
    "\n",
    "In summary, the provided regression results indicate that the model is statistically significant, as evidenced by the low p-value for the F-statistic. However, the model's R-squared value of 0.534 indicates that it explains only a moderate amount of the variance in the dependent variable. Additionally, the presence of non-normality in the residuals (as indicated by the JB test) and the moderate skewness and kurtosis suggest that there might be room for improvement."
   ]
  },
  {
   "cell_type": "markdown",
   "id": "31041b5f",
   "metadata": {},
   "source": [
    "### Linear Regression"
   ]
  },
  {
   "cell_type": "code",
   "execution_count": 31,
   "id": "fb223e66",
   "metadata": {},
   "outputs": [],
   "source": [
    "# Split data into training and testing sets\n",
    "X_train, X_test, y_train, y_test = train_test_split(X, y, test_size=0.2, random_state=42)"
   ]
  },
  {
   "cell_type": "code",
   "execution_count": 32,
   "id": "57461bd0",
   "metadata": {},
   "outputs": [],
   "source": [
    "# Create model variable\n",
    "lm2 = LinearRegression()"
   ]
  },
  {
   "cell_type": "code",
   "execution_count": 286,
   "id": "3712faa1",
   "metadata": {},
   "outputs": [
    {
     "data": {
      "text/html": [
       "<style>#sk-container-id-25 {color: black;background-color: white;}#sk-container-id-25 pre{padding: 0;}#sk-container-id-25 div.sk-toggleable {background-color: white;}#sk-container-id-25 label.sk-toggleable__label {cursor: pointer;display: block;width: 100%;margin-bottom: 0;padding: 0.3em;box-sizing: border-box;text-align: center;}#sk-container-id-25 label.sk-toggleable__label-arrow:before {content: \"▸\";float: left;margin-right: 0.25em;color: #696969;}#sk-container-id-25 label.sk-toggleable__label-arrow:hover:before {color: black;}#sk-container-id-25 div.sk-estimator:hover label.sk-toggleable__label-arrow:before {color: black;}#sk-container-id-25 div.sk-toggleable__content {max-height: 0;max-width: 0;overflow: hidden;text-align: left;background-color: #f0f8ff;}#sk-container-id-25 div.sk-toggleable__content pre {margin: 0.2em;color: black;border-radius: 0.25em;background-color: #f0f8ff;}#sk-container-id-25 input.sk-toggleable__control:checked~div.sk-toggleable__content {max-height: 200px;max-width: 100%;overflow: auto;}#sk-container-id-25 input.sk-toggleable__control:checked~label.sk-toggleable__label-arrow:before {content: \"▾\";}#sk-container-id-25 div.sk-estimator input.sk-toggleable__control:checked~label.sk-toggleable__label {background-color: #d4ebff;}#sk-container-id-25 div.sk-label input.sk-toggleable__control:checked~label.sk-toggleable__label {background-color: #d4ebff;}#sk-container-id-25 input.sk-hidden--visually {border: 0;clip: rect(1px 1px 1px 1px);clip: rect(1px, 1px, 1px, 1px);height: 1px;margin: -1px;overflow: hidden;padding: 0;position: absolute;width: 1px;}#sk-container-id-25 div.sk-estimator {font-family: monospace;background-color: #f0f8ff;border: 1px dotted black;border-radius: 0.25em;box-sizing: border-box;margin-bottom: 0.5em;}#sk-container-id-25 div.sk-estimator:hover {background-color: #d4ebff;}#sk-container-id-25 div.sk-parallel-item::after {content: \"\";width: 100%;border-bottom: 1px solid gray;flex-grow: 1;}#sk-container-id-25 div.sk-label:hover label.sk-toggleable__label {background-color: #d4ebff;}#sk-container-id-25 div.sk-serial::before {content: \"\";position: absolute;border-left: 1px solid gray;box-sizing: border-box;top: 0;bottom: 0;left: 50%;z-index: 0;}#sk-container-id-25 div.sk-serial {display: flex;flex-direction: column;align-items: center;background-color: white;padding-right: 0.2em;padding-left: 0.2em;position: relative;}#sk-container-id-25 div.sk-item {position: relative;z-index: 1;}#sk-container-id-25 div.sk-parallel {display: flex;align-items: stretch;justify-content: center;background-color: white;position: relative;}#sk-container-id-25 div.sk-item::before, #sk-container-id-25 div.sk-parallel-item::before {content: \"\";position: absolute;border-left: 1px solid gray;box-sizing: border-box;top: 0;bottom: 0;left: 50%;z-index: -1;}#sk-container-id-25 div.sk-parallel-item {display: flex;flex-direction: column;z-index: 1;position: relative;background-color: white;}#sk-container-id-25 div.sk-parallel-item:first-child::after {align-self: flex-end;width: 50%;}#sk-container-id-25 div.sk-parallel-item:last-child::after {align-self: flex-start;width: 50%;}#sk-container-id-25 div.sk-parallel-item:only-child::after {width: 0;}#sk-container-id-25 div.sk-dashed-wrapped {border: 1px dashed gray;margin: 0 0.4em 0.5em 0.4em;box-sizing: border-box;padding-bottom: 0.4em;background-color: white;}#sk-container-id-25 div.sk-label label {font-family: monospace;font-weight: bold;display: inline-block;line-height: 1.2em;}#sk-container-id-25 div.sk-label-container {text-align: center;}#sk-container-id-25 div.sk-container {/* jupyter's `normalize.less` sets `[hidden] { display: none; }` but bootstrap.min.css set `[hidden] { display: none !important; }` so we also need the `!important` here to be able to override the default hidden behavior on the sphinx rendered scikit-learn.org. See: https://github.com/scikit-learn/scikit-learn/issues/21755 */display: inline-block !important;position: relative;}#sk-container-id-25 div.sk-text-repr-fallback {display: none;}</style><div id=\"sk-container-id-25\" class=\"sk-top-container\"><div class=\"sk-text-repr-fallback\"><pre>LinearRegression()</pre><b>In a Jupyter environment, please rerun this cell to show the HTML representation or trust the notebook. <br />On GitHub, the HTML representation is unable to render, please try loading this page with nbviewer.org.</b></div><div class=\"sk-container\" hidden><div class=\"sk-item\"><div class=\"sk-estimator sk-toggleable\"><input class=\"sk-toggleable__control sk-hidden--visually\" id=\"sk-estimator-id-43\" type=\"checkbox\" checked><label for=\"sk-estimator-id-43\" class=\"sk-toggleable__label sk-toggleable__label-arrow\">LinearRegression</label><div class=\"sk-toggleable__content\"><pre>LinearRegression()</pre></div></div></div></div></div>"
      ],
      "text/plain": [
       "LinearRegression()"
      ]
     },
     "execution_count": 286,
     "metadata": {},
     "output_type": "execute_result"
    }
   ],
   "source": [
    "# Model fitting to X and y features\n",
    "lm2.fit(X_train,y_train)"
   ]
  },
  {
   "cell_type": "code",
   "execution_count": 34,
   "id": "9827b781",
   "metadata": {},
   "outputs": [
    {
     "name": "stdout",
     "output_type": "stream",
     "text": [
      "39229.56612683519 [-5.17509158e+02  4.82800374e+02  4.22242899e-01  8.74331790e+00\n",
      "  1.94023127e+00  2.43718541e+02  1.86020838e+04]\n"
     ]
    }
   ],
   "source": [
    "# Model evaluaton-Interpretation of result\n",
    "print(lm2.intercept_,lm2.coef_)"
   ]
  },
  {
   "cell_type": "code",
   "execution_count": 35,
   "id": "7ea8daac",
   "metadata": {},
   "outputs": [],
   "source": [
    "# Interpretation of model accuracy\n",
    "r2=r2_score(y_test,lm2.predict(X_test))\n",
    "mse = mean_squared_error(y,lm2.predict(X))\n",
    "rmse = np.sqrt(mse)"
   ]
  },
  {
   "cell_type": "code",
   "execution_count": 36,
   "id": "2b9fd625",
   "metadata": {},
   "outputs": [
    {
     "name": "stdout",
     "output_type": "stream",
     "text": [
      "Mean_squared_error: 73950131.2132985\n",
      "Root_mean_squared_error: 8599.42621419002\n",
      "R-Squared: 0.5933517958385097\n"
     ]
    }
   ],
   "source": [
    "# print the model evaluation metrics\n",
    "print(\"Mean_squared_error:\",mse)\n",
    "print(\"Root_mean_squared_error:\",rmse)\n",
    "print(\"R-Squared:\",r2)"
   ]
  },
  {
   "cell_type": "markdown",
   "id": "4a3ff41c",
   "metadata": {},
   "source": [
    "### Residual Plot"
   ]
  },
  {
   "cell_type": "code",
   "execution_count": 244,
   "id": "02132667",
   "metadata": {},
   "outputs": [
    {
     "data": {
      "image/png": "[encoded data removed]",
      "text/plain": [
       "<Figure size 800x600 with 1 Axes>"
      ]
     },
     "metadata": {},
     "output_type": "display_data"
    }
   ],
   "source": [
    "residuals = y_test - lm2.predict(X_test)\n",
    "\n",
    "plt.figure(figsize=(8, 6))\n",
    "plt.scatter(y_test, residuals)\n",
    "plt.axhline(y=0, color='r', linestyle='--', lw=2)\n",
    "plt.xlabel('Actual CTC')\n",
    "plt.ylabel('Residuals')\n",
    "plt.title('Residual Plot')\n",
    "plt.show()"
   ]
  },
  {
   "cell_type": "markdown",
   "id": "1daaf256",
   "metadata": {},
   "source": [
    "### Distribution of Residuals"
   ]
  },
  {
   "cell_type": "code",
   "execution_count": 256,
   "id": "62d2904b",
   "metadata": {},
   "outputs": [
    {
     "data": {
      "image/png": "[encoded data removed]",
      "text/plain": [
       "<Figure size 800x600 with 1 Axes>"
      ]
     },
     "metadata": {},
     "output_type": "display_data"
    }
   ],
   "source": [
    "plt.figure(figsize=(8, 6))\n",
    "plt.hist(residuals, bins=30, edgecolor='k',color='r')\n",
    "plt.xlabel('Residuals')\n",
    "plt.ylabel('Frequency')\n",
    "plt.title('Distribution of Residuals')\n",
    "plt.show()"
   ]
  },
  {
   "cell_type": "markdown",
   "id": "185988c7",
   "metadata": {},
   "source": [
    "### Scatter Plot of Predicted vs. Actual Values"
   ]
  },
  {
   "cell_type": "code",
   "execution_count": 258,
   "id": "0bf07606",
   "metadata": {},
   "outputs": [
    {
     "data": {
      "image/png": "[encoded data removed]",
      "text/plain": [
       "<Figure size 800x600 with 1 Axes>"
      ]
     },
     "metadata": {},
     "output_type": "display_data"
    }
   ],
   "source": [
    "plt.figure(figsize=(8, 6))\n",
    "plt.scatter(y_test, lm2.predict(X_test))\n",
    "plt.plot([min(y_test), max(y_test)], [min(y_test), max(y_test)], 'k--', lw=2)\n",
    "plt.xlabel('Actual CTC')\n",
    "plt.ylabel('Predicted CTC')\n",
    "plt.title('Predicted vs. Actual CTC')\n",
    "plt.show()"
   ]
  },
  {
   "cell_type": "markdown",
   "id": "e1fd2c30",
   "metadata": {},
   "source": [
    "# Model Evaluation\n",
    "The RMSE and MSE values are relatively high, indicating that the model's predictions have a significant average difference from the actual values.\n",
    "The R-squared value is moderate, suggesting that the model explains approximately 53.43% of the variance in the target variable. While this is not a very high R-squared value, it may still be considered reasonable depending on the application and the complexity of the data."
   ]
  },
  {
   "cell_type": "markdown",
   "id": "d6dcacaf",
   "metadata": {},
   "source": [
    "### Ridge Regression"
   ]
  },
  {
   "cell_type": "code",
   "execution_count": 37,
   "id": "fc702435",
   "metadata": {},
   "outputs": [],
   "source": [
    "# Split data into training and testing sets\n",
    "X_train, X_test, y_train, y_test = train_test_split(X, y, test_size=0.2, random_state=42)"
   ]
  },
  {
   "cell_type": "code",
   "execution_count": 38,
   "id": "66c47933",
   "metadata": {},
   "outputs": [],
   "source": [
    "# Feature scaling\n",
    "scaler = StandardScaler()\n",
    "X_train_scaled = scaler.fit_transform(X_train)\n",
    "X_test_scaled = scaler.transform(X_test)"
   ]
  },
  {
   "cell_type": "code",
   "execution_count": 287,
   "id": "fec68466",
   "metadata": {},
   "outputs": [
    {
     "data": {
      "text/html": [
       "<style>#sk-container-id-26 {color: black;background-color: white;}#sk-container-id-26 pre{padding: 0;}#sk-container-id-26 div.sk-toggleable {background-color: white;}#sk-container-id-26 label.sk-toggleable__label {cursor: pointer;display: block;width: 100%;margin-bottom: 0;padding: 0.3em;box-sizing: border-box;text-align: center;}#sk-container-id-26 label.sk-toggleable__label-arrow:before {content: \"▸\";float: left;margin-right: 0.25em;color: #696969;}#sk-container-id-26 label.sk-toggleable__label-arrow:hover:before {color: black;}#sk-container-id-26 div.sk-estimator:hover label.sk-toggleable__label-arrow:before {color: black;}#sk-container-id-26 div.sk-toggleable__content {max-height: 0;max-width: 0;overflow: hidden;text-align: left;background-color: #f0f8ff;}#sk-container-id-26 div.sk-toggleable__content pre {margin: 0.2em;color: black;border-radius: 0.25em;background-color: #f0f8ff;}#sk-container-id-26 input.sk-toggleable__control:checked~div.sk-toggleable__content {max-height: 200px;max-width: 100%;overflow: auto;}#sk-container-id-26 input.sk-toggleable__control:checked~label.sk-toggleable__label-arrow:before {content: \"▾\";}#sk-container-id-26 div.sk-estimator input.sk-toggleable__control:checked~label.sk-toggleable__label {background-color: #d4ebff;}#sk-container-id-26 div.sk-label input.sk-toggleable__control:checked~label.sk-toggleable__label {background-color: #d4ebff;}#sk-container-id-26 input.sk-hidden--visually {border: 0;clip: rect(1px 1px 1px 1px);clip: rect(1px, 1px, 1px, 1px);height: 1px;margin: -1px;overflow: hidden;padding: 0;position: absolute;width: 1px;}#sk-container-id-26 div.sk-estimator {font-family: monospace;background-color: #f0f8ff;border: 1px dotted black;border-radius: 0.25em;box-sizing: border-box;margin-bottom: 0.5em;}#sk-container-id-26 div.sk-estimator:hover {background-color: #d4ebff;}#sk-container-id-26 div.sk-parallel-item::after {content: \"\";width: 100%;border-bottom: 1px solid gray;flex-grow: 1;}#sk-container-id-26 div.sk-label:hover label.sk-toggleable__label {background-color: #d4ebff;}#sk-container-id-26 div.sk-serial::before {content: \"\";position: absolute;border-left: 1px solid gray;box-sizing: border-box;top: 0;bottom: 0;left: 50%;z-index: 0;}#sk-container-id-26 div.sk-serial {display: flex;flex-direction: column;align-items: center;background-color: white;padding-right: 0.2em;padding-left: 0.2em;position: relative;}#sk-container-id-26 div.sk-item {position: relative;z-index: 1;}#sk-container-id-26 div.sk-parallel {display: flex;align-items: stretch;justify-content: center;background-color: white;position: relative;}#sk-container-id-26 div.sk-item::before, #sk-container-id-26 div.sk-parallel-item::before {content: \"\";position: absolute;border-left: 1px solid gray;box-sizing: border-box;top: 0;bottom: 0;left: 50%;z-index: -1;}#sk-container-id-26 div.sk-parallel-item {display: flex;flex-direction: column;z-index: 1;position: relative;background-color: white;}#sk-container-id-26 div.sk-parallel-item:first-child::after {align-self: flex-end;width: 50%;}#sk-container-id-26 div.sk-parallel-item:last-child::after {align-self: flex-start;width: 50%;}#sk-container-id-26 div.sk-parallel-item:only-child::after {width: 0;}#sk-container-id-26 div.sk-dashed-wrapped {border: 1px dashed gray;margin: 0 0.4em 0.5em 0.4em;box-sizing: border-box;padding-bottom: 0.4em;background-color: white;}#sk-container-id-26 div.sk-label label {font-family: monospace;font-weight: bold;display: inline-block;line-height: 1.2em;}#sk-container-id-26 div.sk-label-container {text-align: center;}#sk-container-id-26 div.sk-container {/* jupyter's `normalize.less` sets `[hidden] { display: none; }` but bootstrap.min.css set `[hidden] { display: none !important; }` so we also need the `!important` here to be able to override the default hidden behavior on the sphinx rendered scikit-learn.org. See: https://github.com/scikit-learn/scikit-learn/issues/21755 */display: inline-block !important;position: relative;}#sk-container-id-26 div.sk-text-repr-fallback {display: none;}</style><div id=\"sk-container-id-26\" class=\"sk-top-container\"><div class=\"sk-text-repr-fallback\"><pre>Ridge()</pre><b>In a Jupyter environment, please rerun this cell to show the HTML representation or trust the notebook. <br />On GitHub, the HTML representation is unable to render, please try loading this page with nbviewer.org.</b></div><div class=\"sk-container\" hidden><div class=\"sk-item\"><div class=\"sk-estimator sk-toggleable\"><input class=\"sk-toggleable__control sk-hidden--visually\" id=\"sk-estimator-id-44\" type=\"checkbox\" checked><label for=\"sk-estimator-id-44\" class=\"sk-toggleable__label sk-toggleable__label-arrow\">Ridge</label><div class=\"sk-toggleable__content\"><pre>Ridge()</pre></div></div></div></div></div>"
      ],
      "text/plain": [
       "Ridge()"
      ]
     },
     "execution_count": 287,
     "metadata": {},
     "output_type": "execute_result"
    }
   ],
   "source": [
    "# Model fitting to X and y features\n",
    "ridge_model = Ridge(alpha=1.0)\n",
    "ridge_model.fit(X_train_scaled, y_train)"
   ]
  },
  {
   "cell_type": "code",
   "execution_count": 40,
   "id": "8d2d171b",
   "metadata": {},
   "outputs": [],
   "source": [
    "# Create predicted variables for test data\n",
    "y_pred = ridge_model.predict(X_test_scaled)"
   ]
  },
  {
   "cell_type": "code",
   "execution_count": 41,
   "id": "02552753",
   "metadata": {},
   "outputs": [
    {
     "name": "stdout",
     "output_type": "stream",
     "text": [
      "Test R-squared: 0.5932150226490303\n",
      "Train R-squared: 0.513774404480561\n",
      "Mean_Squared_error_test: 77388795.36074269\n",
      "Mean_Squared_error_train: 73096345.59097074\n"
     ]
    }
   ],
   "source": [
    "# Evaluate model accuracy\n",
    "test_r2_score = r2_score(y_test, y_pred)\n",
    "train_r2_score = r2_score(y_train, ridge_model.predict(X_train_scaled))\n",
    "mse_test = mean_squared_error(y_test, y_pred)\n",
    "mse_train =  mean_squared_error(y_train, ridge_model.predict(X_train_scaled))\n",
    "print(\"Test R-squared:\", test_r2_score)\n",
    "print(\"Train R-squared:\", train_r2_score)\n",
    "print(\"Mean_Squared_error_test:\",mse_test)\n",
    "print(\"Mean_Squared_error_train:\",mse_train)"
   ]
  },
  {
   "cell_type": "markdown",
   "id": "e12c892b",
   "metadata": {},
   "source": [
    "### Scatter Plot of Predicted vs. Actual Values"
   ]
  },
  {
   "cell_type": "code",
   "execution_count": 263,
   "id": "0c94daf9",
   "metadata": {},
   "outputs": [
    {
     "data": {
      "image/png": "[encoded data removed]",
      "text/plain": [
       "<Figure size 800x600 with 1 Axes>"
      ]
     },
     "metadata": {},
     "output_type": "display_data"
    }
   ],
   "source": [
    "plt.figure(figsize=(8, 6))\n",
    "plt.scatter(y_test, y_pred,color='g')\n",
    "plt.plot([min(y_test), max(y_test)], [min(y_test), max(y_test)], 'k--', lw=2)\n",
    "plt.xlabel('Actual CTC')\n",
    "plt.ylabel('Predicted CTC')\n",
    "plt.title('Predicted vs. Actual CTC')\n",
    "plt.show()"
   ]
  },
  {
   "cell_type": "markdown",
   "id": "a4a41737",
   "metadata": {},
   "source": [
    "# Model Evaluation\n",
    "Interpretation:\n",
    "\n",
    "The Test R-squared value is higher than the Train R-squared value, which suggests that the model is generalizing reasonably well to new, unseen data. This is a positive sign, as it indicates that the model is not significantly overfitting to the training data.\n",
    "\n",
    "The Test R-squared of 0.5690 is moderately high, which means the model captures a substantial portion of the variance in the test data. It indicates that the Ridge Regression model has some predictive power for the dependent variable, CTC.\n",
    "\n",
    "The Train R-squared of 0.5138 is also moderate, suggesting that the model has some explanatory power for the training data.\n",
    "\n",
    "In summary, the Ridge Regression model seems to be performing reasonably well in explaining the variation in the dependent variable. However, there may still be room for improvement, and it's essential to consider additional steps to enhance the model's performance."
   ]
  },
  {
   "cell_type": "markdown",
   "id": "bae936da",
   "metadata": {},
   "source": [
    "### Grid Search"
   ]
  },
  {
   "cell_type": "code",
   "execution_count": 42,
   "id": "2980149b",
   "metadata": {},
   "outputs": [],
   "source": [
    "from sklearn.model_selection import GridSearchCV"
   ]
  },
  {
   "cell_type": "code",
   "execution_count": 43,
   "id": "d5729123",
   "metadata": {},
   "outputs": [],
   "source": [
    "param_grid = {\n",
    "    'alpha': [0.01, 0.1, 1.0, 10.0]}"
   ]
  },
  {
   "cell_type": "code",
   "execution_count": 44,
   "id": "2245e500",
   "metadata": {},
   "outputs": [],
   "source": [
    "# Initialize the GridSearchCV with the Ridge model and the hyperparameter grid\n",
    "grid_search = GridSearchCV(estimator=ridge_model, param_grid=param_grid, cv=5, scoring='r2')"
   ]
  },
  {
   "cell_type": "code",
   "execution_count": 288,
   "id": "02cf4e5e",
   "metadata": {},
   "outputs": [
    {
     "data": {
      "text/html": [
       "<style>#sk-container-id-27 {color: black;background-color: white;}#sk-container-id-27 pre{padding: 0;}#sk-container-id-27 div.sk-toggleable {background-color: white;}#sk-container-id-27 label.sk-toggleable__label {cursor: pointer;display: block;width: 100%;margin-bottom: 0;padding: 0.3em;box-sizing: border-box;text-align: center;}#sk-container-id-27 label.sk-toggleable__label-arrow:before {content: \"▸\";float: left;margin-right: 0.25em;color: #696969;}#sk-container-id-27 label.sk-toggleable__label-arrow:hover:before {color: black;}#sk-container-id-27 div.sk-estimator:hover label.sk-toggleable__label-arrow:before {color: black;}#sk-container-id-27 div.sk-toggleable__content {max-height: 0;max-width: 0;overflow: hidden;text-align: left;background-color: #f0f8ff;}#sk-container-id-27 div.sk-toggleable__content pre {margin: 0.2em;color: black;border-radius: 0.25em;background-color: #f0f8ff;}#sk-container-id-27 input.sk-toggleable__control:checked~div.sk-toggleable__content {max-height: 200px;max-width: 100%;overflow: auto;}#sk-container-id-27 input.sk-toggleable__control:checked~label.sk-toggleable__label-arrow:before {content: \"▾\";}#sk-container-id-27 div.sk-estimator input.sk-toggleable__control:checked~label.sk-toggleable__label {background-color: #d4ebff;}#sk-container-id-27 div.sk-label input.sk-toggleable__control:checked~label.sk-toggleable__label {background-color: #d4ebff;}#sk-container-id-27 input.sk-hidden--visually {border: 0;clip: rect(1px 1px 1px 1px);clip: rect(1px, 1px, 1px, 1px);height: 1px;margin: -1px;overflow: hidden;padding: 0;position: absolute;width: 1px;}#sk-container-id-27 div.sk-estimator {font-family: monospace;background-color: #f0f8ff;border: 1px dotted black;border-radius: 0.25em;box-sizing: border-box;margin-bottom: 0.5em;}#sk-container-id-27 div.sk-estimator:hover {background-color: #d4ebff;}#sk-container-id-27 div.sk-parallel-item::after {content: \"\";width: 100%;border-bottom: 1px solid gray;flex-grow: 1;}#sk-container-id-27 div.sk-label:hover label.sk-toggleable__label {background-color: #d4ebff;}#sk-container-id-27 div.sk-serial::before {content: \"\";position: absolute;border-left: 1px solid gray;box-sizing: border-box;top: 0;bottom: 0;left: 50%;z-index: 0;}#sk-container-id-27 div.sk-serial {display: flex;flex-direction: column;align-items: center;background-color: white;padding-right: 0.2em;padding-left: 0.2em;position: relative;}#sk-container-id-27 div.sk-item {position: relative;z-index: 1;}#sk-container-id-27 div.sk-parallel {display: flex;align-items: stretch;justify-content: center;background-color: white;position: relative;}#sk-container-id-27 div.sk-item::before, #sk-container-id-27 div.sk-parallel-item::before {content: \"\";position: absolute;border-left: 1px solid gray;box-sizing: border-box;top: 0;bottom: 0;left: 50%;z-index: -1;}#sk-container-id-27 div.sk-parallel-item {display: flex;flex-direction: column;z-index: 1;position: relative;background-color: white;}#sk-container-id-27 div.sk-parallel-item:first-child::after {align-self: flex-end;width: 50%;}#sk-container-id-27 div.sk-parallel-item:last-child::after {align-self: flex-start;width: 50%;}#sk-container-id-27 div.sk-parallel-item:only-child::after {width: 0;}#sk-container-id-27 div.sk-dashed-wrapped {border: 1px dashed gray;margin: 0 0.4em 0.5em 0.4em;box-sizing: border-box;padding-bottom: 0.4em;background-color: white;}#sk-container-id-27 div.sk-label label {font-family: monospace;font-weight: bold;display: inline-block;line-height: 1.2em;}#sk-container-id-27 div.sk-label-container {text-align: center;}#sk-container-id-27 div.sk-container {/* jupyter's `normalize.less` sets `[hidden] { display: none; }` but bootstrap.min.css set `[hidden] { display: none !important; }` so we also need the `!important` here to be able to override the default hidden behavior on the sphinx rendered scikit-learn.org. See: https://github.com/scikit-learn/scikit-learn/issues/21755 */display: inline-block !important;position: relative;}#sk-container-id-27 div.sk-text-repr-fallback {display: none;}</style><div id=\"sk-container-id-27\" class=\"sk-top-container\"><div class=\"sk-text-repr-fallback\"><pre>GridSearchCV(cv=5, estimator=SVR(),\n",
       "             param_grid={&#x27;C&#x27;: [0.01, 0.1, 1.0, 10.0],\n",
       "                         &#x27;epsilon&#x27;: [0.01, 0.1, 0.2],\n",
       "                         &#x27;gamma&#x27;: [&#x27;scale&#x27;, &#x27;auto&#x27;, 0.1, 0.01],\n",
       "                         &#x27;kernel&#x27;: [&#x27;linear&#x27;, &#x27;rbf&#x27;, &#x27;poly&#x27;]},\n",
       "             scoring=&#x27;r2&#x27;)</pre><b>In a Jupyter environment, please rerun this cell to show the HTML representation or trust the notebook. <br />On GitHub, the HTML representation is unable to render, please try loading this page with nbviewer.org.</b></div><div class=\"sk-container\" hidden><div class=\"sk-item sk-dashed-wrapped\"><div class=\"sk-label-container\"><div class=\"sk-label sk-toggleable\"><input class=\"sk-toggleable__control sk-hidden--visually\" id=\"sk-estimator-id-45\" type=\"checkbox\" ><label for=\"sk-estimator-id-45\" class=\"sk-toggleable__label sk-toggleable__label-arrow\">GridSearchCV</label><div class=\"sk-toggleable__content\"><pre>GridSearchCV(cv=5, estimator=SVR(),\n",
       "             param_grid={&#x27;C&#x27;: [0.01, 0.1, 1.0, 10.0],\n",
       "                         &#x27;epsilon&#x27;: [0.01, 0.1, 0.2],\n",
       "                         &#x27;gamma&#x27;: [&#x27;scale&#x27;, &#x27;auto&#x27;, 0.1, 0.01],\n",
       "                         &#x27;kernel&#x27;: [&#x27;linear&#x27;, &#x27;rbf&#x27;, &#x27;poly&#x27;]},\n",
       "             scoring=&#x27;r2&#x27;)</pre></div></div></div><div class=\"sk-parallel\"><div class=\"sk-parallel-item\"><div class=\"sk-item\"><div class=\"sk-label-container\"><div class=\"sk-label sk-toggleable\"><input class=\"sk-toggleable__control sk-hidden--visually\" id=\"sk-estimator-id-46\" type=\"checkbox\" ><label for=\"sk-estimator-id-46\" class=\"sk-toggleable__label sk-toggleable__label-arrow\">estimator: SVR</label><div class=\"sk-toggleable__content\"><pre>SVR()</pre></div></div></div><div class=\"sk-serial\"><div class=\"sk-item\"><div class=\"sk-estimator sk-toggleable\"><input class=\"sk-toggleable__control sk-hidden--visually\" id=\"sk-estimator-id-47\" type=\"checkbox\" ><label for=\"sk-estimator-id-47\" class=\"sk-toggleable__label sk-toggleable__label-arrow\">SVR</label><div class=\"sk-toggleable__content\"><pre>SVR()</pre></div></div></div></div></div></div></div></div></div></div>"
      ],
      "text/plain": [
       "GridSearchCV(cv=5, estimator=SVR(),\n",
       "             param_grid={'C': [0.01, 0.1, 1.0, 10.0],\n",
       "                         'epsilon': [0.01, 0.1, 0.2],\n",
       "                         'gamma': ['scale', 'auto', 0.1, 0.01],\n",
       "                         'kernel': ['linear', 'rbf', 'poly']},\n",
       "             scoring='r2')"
      ]
     },
     "execution_count": 288,
     "metadata": {},
     "output_type": "execute_result"
    }
   ],
   "source": [
    "# Perform the grid search on the training data\n",
    "grid_search.fit(X_train_scaled, y_train)"
   ]
  },
  {
   "cell_type": "code",
   "execution_count": 46,
   "id": "dea27827",
   "metadata": {},
   "outputs": [
    {
     "name": "stdout",
     "output_type": "stream",
     "text": [
      "Best Hyperparameters: {'alpha': 10.0}\n"
     ]
    }
   ],
   "source": [
    "# Get the best hyperparameters found by Grid Search\n",
    "best_params = grid_search.best_params_\n",
    "print(\"Best Hyperparameters:\", best_params)"
   ]
  },
  {
   "cell_type": "code",
   "execution_count": 47,
   "id": "59516db0",
   "metadata": {},
   "outputs": [],
   "source": [
    "# Get the best Ridge model with the optimal hyperparameters\n",
    "best_ridge_model = grid_search.best_estimator_"
   ]
  },
  {
   "cell_type": "code",
   "execution_count": 48,
   "id": "3cab9394",
   "metadata": {},
   "outputs": [],
   "source": [
    "# Predict on the test set using the best model\n",
    "y_pred = best_ridge_model.predict(X_test_scaled)"
   ]
  },
  {
   "cell_type": "code",
   "execution_count": 49,
   "id": "f1dfc27d",
   "metadata": {},
   "outputs": [
    {
     "name": "stdout",
     "output_type": "stream",
     "text": [
      "Test R-squared with Best Model: 0.5919707789026041\n",
      "Train R-squared with Best Model: 0.5137441746918621\n",
      "Mean_Squared_error_test_best_model: 77625506.47357216\n",
      "Mean_Squared_error_train_best_model: 73100890.16267213\n"
     ]
    }
   ],
   "source": [
    "# Evaluate the best model on the test set\n",
    "test_r2_score = r2_score(y_test, y_pred)\n",
    "train_r2_score = r2_score(y_train,best_ridge_model.predict(X_train_scaled))\n",
    "mse_test = mean_squared_error(y_test, y_pred)\n",
    "mse_train =  mean_squared_error(y_train, best_ridge_model.predict(X_train_scaled))\n",
    "print(\"Test R-squared with Best Model:\", test_r2_score)\n",
    "print(\"Train R-squared with Best Model:\", train_r2_score)\n",
    "print(\"Mean_Squared_error_test_best_model:\",mse_test)\n",
    "print(\"Mean_Squared_error_train_best_model:\",mse_train)"
   ]
  },
  {
   "cell_type": "markdown",
   "id": "cd5b4072",
   "metadata": {},
   "source": [
    "Comparing the Test and Train R-squared values:\n",
    "\n",
    "The Test R-squared is slightly higher than the Train R-squared, which is generally desirable. It suggests that the model is generalizing reasonably well to new, unseen data.\n",
    "Overall, the performance of the best model with the R-squared values of 0.5690 (Test) and 0.5137 (Train) indicates that the model has some predictive power and is not significantly overfitting to the training data"
   ]
  },
  {
   "cell_type": "markdown",
   "id": "d615f5d4",
   "metadata": {},
   "source": [
    "### Validation Curve"
   ]
  },
  {
   "cell_type": "code",
   "execution_count": 50,
   "id": "1bc5c879",
   "metadata": {},
   "outputs": [],
   "source": [
    "from sklearn.model_selection import validation_curve"
   ]
  },
  {
   "cell_type": "code",
   "execution_count": 51,
   "id": "b982fc73",
   "metadata": {},
   "outputs": [],
   "source": [
    "# Select param range using numpy array\n",
    "param_range =np.logspace(-2,8,100)"
   ]
  },
  {
   "cell_type": "code",
   "execution_count": 52,
   "id": "21f7f521",
   "metadata": {},
   "outputs": [
    {
     "data": {
      "text/plain": [
       "array([1.00000000e-02, 1.26185688e-02, 1.59228279e-02, 2.00923300e-02,\n",
       "       2.53536449e-02, 3.19926714e-02, 4.03701726e-02, 5.09413801e-02,\n",
       "       6.42807312e-02, 8.11130831e-02, 1.02353102e-01, 1.29154967e-01,\n",
       "       1.62975083e-01, 2.05651231e-01, 2.59502421e-01, 3.27454916e-01,\n",
       "       4.13201240e-01, 5.21400829e-01, 6.57933225e-01, 8.30217568e-01,\n",
       "       1.04761575e+00, 1.32194115e+00, 1.66810054e+00, 2.10490414e+00,\n",
       "       2.65608778e+00, 3.35160265e+00, 4.22924287e+00, 5.33669923e+00,\n",
       "       6.73415066e+00, 8.49753436e+00, 1.07226722e+01, 1.35304777e+01,\n",
       "       1.70735265e+01, 2.15443469e+01, 2.71858824e+01, 3.43046929e+01,\n",
       "       4.32876128e+01, 5.46227722e+01, 6.89261210e+01, 8.69749003e+01,\n",
       "       1.09749877e+02, 1.38488637e+02, 1.74752840e+02, 2.20513074e+02,\n",
       "       2.78255940e+02, 3.51119173e+02, 4.43062146e+02, 5.59081018e+02,\n",
       "       7.05480231e+02, 8.90215085e+02, 1.12332403e+03, 1.41747416e+03,\n",
       "       1.78864953e+03, 2.25701972e+03, 2.84803587e+03, 3.59381366e+03,\n",
       "       4.53487851e+03, 5.72236766e+03, 7.22080902e+03, 9.11162756e+03,\n",
       "       1.14975700e+04, 1.45082878e+04, 1.83073828e+04, 2.31012970e+04,\n",
       "       2.91505306e+04, 3.67837977e+04, 4.64158883e+04, 5.85702082e+04,\n",
       "       7.39072203e+04, 9.32603347e+04, 1.17681195e+05, 1.48496826e+05,\n",
       "       1.87381742e+05, 2.36448941e+05, 2.98364724e+05, 3.76493581e+05,\n",
       "       4.75081016e+05, 5.99484250e+05, 7.56463328e+05, 9.54548457e+05,\n",
       "       1.20450354e+06, 1.51991108e+06, 1.91791026e+06, 2.42012826e+06,\n",
       "       3.05385551e+06, 3.85352859e+06, 4.86260158e+06, 6.13590727e+06,\n",
       "       7.74263683e+06, 9.77009957e+06, 1.23284674e+07, 1.55567614e+07,\n",
       "       1.96304065e+07, 2.47707636e+07, 3.12571585e+07, 3.94420606e+07,\n",
       "       4.97702356e+07, 6.28029144e+07, 7.92482898e+07, 1.00000000e+08])"
      ]
     },
     "execution_count": 52,
     "metadata": {},
     "output_type": "execute_result"
    }
   ],
   "source": [
    "# Print param range values\n",
    "param_range"
   ]
  },
  {
   "cell_type": "code",
   "execution_count": 53,
   "id": "e007c442",
   "metadata": {},
   "outputs": [],
   "source": [
    "# Calculate validation curve using the training data\n",
    "train_scores, test_scores = validation_curve(\n",
    "    estimator=ridge_model,\n",
    "    X=X_train_scaled,\n",
    "    y=y_train,\n",
    "    param_name='alpha',\n",
    "    param_range=param_range,\n",
    "    cv=5,\n",
    "    scoring= \"r2\"\n",
    ")"
   ]
  },
  {
   "cell_type": "code",
   "execution_count": 54,
   "id": "29051239",
   "metadata": {},
   "outputs": [
    {
     "name": "stdout",
     "output_type": "stream",
     "text": [
      "[[5.10979008e-01 5.36437285e-01 4.99879242e-01 5.14327357e-01\n",
      "  5.09289503e-01]\n",
      " [5.10979008e-01 5.36437285e-01 4.99879242e-01 5.14327357e-01\n",
      "  5.09289503e-01]\n",
      " [5.10979008e-01 5.36437285e-01 4.99879242e-01 5.14327357e-01\n",
      "  5.09289502e-01]\n",
      " [5.10979008e-01 5.36437285e-01 4.99879242e-01 5.14327357e-01\n",
      "  5.09289502e-01]\n",
      " [5.10979008e-01 5.36437285e-01 4.99879242e-01 5.14327357e-01\n",
      "  5.09289502e-01]\n",
      " [5.10979007e-01 5.36437284e-01 4.99879242e-01 5.14327356e-01\n",
      "  5.09289502e-01]\n",
      " [5.10979007e-01 5.36437284e-01 4.99879241e-01 5.14327356e-01\n",
      "  5.09289502e-01]\n",
      " [5.10979007e-01 5.36437284e-01 4.99879241e-01 5.14327356e-01\n",
      "  5.09289501e-01]\n",
      " [5.10979006e-01 5.36437283e-01 4.99879240e-01 5.14327355e-01\n",
      "  5.09289501e-01]\n",
      " [5.10979005e-01 5.36437282e-01 4.99879239e-01 5.14327354e-01\n",
      "  5.09289499e-01]\n",
      " [5.10979003e-01 5.36437280e-01 4.99879237e-01 5.14327352e-01\n",
      "  5.09289497e-01]\n",
      " [5.10979000e-01 5.36437277e-01 4.99879234e-01 5.14327349e-01\n",
      "  5.09289494e-01]\n",
      " [5.10978995e-01 5.36437272e-01 4.99879229e-01 5.14327344e-01\n",
      "  5.09289490e-01]\n",
      " [5.10978987e-01 5.36437265e-01 4.99879222e-01 5.14327337e-01\n",
      "  5.09289482e-01]\n",
      " [5.10978974e-01 5.36437253e-01 4.99879210e-01 5.14327325e-01\n",
      "  5.09289470e-01]\n",
      " [5.10978955e-01 5.36437234e-01 4.99879190e-01 5.14327306e-01\n",
      "  5.09289450e-01]\n",
      " [5.10978923e-01 5.36437204e-01 4.99879159e-01 5.14327276e-01\n",
      "  5.09289419e-01]\n",
      " [5.10978873e-01 5.36437155e-01 4.99879110e-01 5.14327227e-01\n",
      "  5.09289369e-01]\n",
      " [5.10978793e-01 5.36437079e-01 4.99879032e-01 5.14327151e-01\n",
      "  5.09289290e-01]\n",
      " [5.10978666e-01 5.36436957e-01 4.99878907e-01 5.14327029e-01\n",
      "  5.09289165e-01]\n",
      " [5.10978464e-01 5.36436763e-01 4.99878709e-01 5.14326834e-01\n",
      "  5.09288965e-01]\n",
      " [5.10978143e-01 5.36436454e-01 4.99878394e-01 5.14326525e-01\n",
      "  5.09288647e-01]\n",
      " [5.10977631e-01 5.36435963e-01 4.99877892e-01 5.14326033e-01\n",
      "  5.09288141e-01]\n",
      " [5.10976818e-01 5.36435183e-01 4.99877095e-01 5.14325251e-01\n",
      "  5.09287336e-01]\n",
      " [5.10975524e-01 5.36433941e-01 4.99875827e-01 5.14324008e-01\n",
      "  5.09286057e-01]\n",
      " [5.10973469e-01 5.36431967e-01 4.99873811e-01 5.14322032e-01\n",
      "  5.09284023e-01]\n",
      " [5.10970203e-01 5.36428832e-01 4.99870610e-01 5.14318892e-01\n",
      "  5.09280793e-01]\n",
      " [5.10965019e-01 5.36423854e-01 4.99865527e-01 5.14313907e-01\n",
      "  5.09275665e-01]\n",
      " [5.10956795e-01 5.36415955e-01 4.99857465e-01 5.14306000e-01\n",
      "  5.09267530e-01]\n",
      " [5.10943762e-01 5.36403435e-01 4.99844690e-01 5.14293466e-01\n",
      "  5.09254638e-01]\n",
      " [5.10923132e-01 5.36383613e-01 4.99824470e-01 5.14273625e-01\n",
      "  5.09234231e-01]\n",
      " [5.10890527e-01 5.36352275e-01 4.99792518e-01 5.14242263e-01\n",
      "  5.09201981e-01]\n",
      " [5.10839095e-01 5.36302823e-01 4.99742125e-01 5.14192785e-01\n",
      "  5.09151111e-01]\n",
      " [5.10758161e-01 5.36224968e-01 4.99662841e-01 5.14114909e-01\n",
      "  5.09071064e-01]\n",
      " [5.10631186e-01 5.36102750e-01 4.99538487e-01 5.13992702e-01\n",
      "  5.08945487e-01]\n",
      " [5.10432727e-01 5.35911585e-01 4.99344188e-01 5.13801636e-01\n",
      "  5.08749226e-01]\n",
      " [5.10123995e-01 5.35613926e-01 4.99042046e-01 5.13504288e-01\n",
      "  5.08443939e-01]\n",
      " [5.09646510e-01 5.35153036e-01 4.98574972e-01 5.13044184e-01\n",
      "  5.07971824e-01]\n",
      " [5.08913335e-01 5.34444338e-01 4.97858192e-01 5.12337269e-01\n",
      "  5.07246972e-01]\n",
      " [5.07797493e-01 5.33363860e-01 4.96768035e-01 5.11260577e-01\n",
      "  5.06143930e-01]\n",
      " [5.06117577e-01 5.31733702e-01 4.95128075e-01 5.09638084e-01\n",
      "  5.04483500e-01]\n",
      " [5.03621517e-01 5.29305273e-01 4.92693566e-01 5.07224566e-01\n",
      "  5.02016721e-01]\n",
      " [4.99971075e-01 5.25742617e-01 4.89136684e-01 5.03689868e-01\n",
      "  4.98409552e-01]\n",
      " [4.94732022e-01 5.20610478e-01 4.84037364e-01 4.98608265e-01\n",
      "  4.93233109e-01]\n",
      " [4.87377639e-01 5.13374563e-01 4.76886987e-01 4.91460291e-01\n",
      "  4.85966951e-01]\n",
      " [4.77314991e-01 5.03423670e-01 4.67113831e-01 4.81656346e-01\n",
      "  4.76024645e-01]\n",
      " [4.63942344e-01 4.90122956e-01 4.54138027e-01 4.68590667e-01\n",
      "  4.62809817e-01]\n",
      " [4.46739785e-01 4.72902258e-01 4.37457755e-01 4.51728619e-01\n",
      "  4.45804810e-01]\n",
      " [4.25383033e-01 4.51371853e-01 4.16757188e-01 4.30718741e-01\n",
      "  4.24682343e-01]\n",
      " [3.99855587e-01 4.25442660e-01 3.92012938e-01 4.05506359e-01\n",
      "  3.99416160e-01]\n",
      " [3.70524178e-01 3.95415665e-01 3.63566509e-01 3.76414583e-01\n",
      "  3.70356641e-01]\n",
      " [3.38145458e-01 3.62005154e-01 3.32132793e-01 3.44159757e-01\n",
      "  3.38239833e-01]\n",
      " [3.03790871e-01 3.26277084e-01 2.98731861e-01 3.09785620e-01\n",
      "  3.04116414e-01]\n",
      " [2.68704804e-01 2.89512304e-01 2.64557008e-01 2.74527880e-01\n",
      "  2.69214301e-01]\n",
      " [2.34134345e-01 2.53030797e-01 2.30813822e-01 2.39645232e-01\n",
      "  2.34771565e-01]\n",
      " [2.01175553e-01 2.18024004e-01 1.98572129e-01 2.06261683e-01\n",
      "  2.01883561e-01]\n",
      " [1.70669556e-01 1.85433667e-01 1.68663058e-01 1.75255476e-01\n",
      "  1.71397671e-01]\n",
      " [1.43160502e-01 1.55894565e-01 1.41634199e-01 1.47209407e-01\n",
      "  1.43868598e-01]\n",
      " [1.18907728e-01 1.29736853e-01 1.17757166e-01 1.22417024e-01\n",
      "  1.19567710e-01]\n",
      " [9.79335336e-02 1.07030086e-01 9.70707651e-02 1.00927040e-01\n",
      "  9.85286041e-02]\n",
      " [8.00863344e-02 8.76475145e-02 7.94406259e-02 8.26055700e-02\n",
      "  8.06089879e-02]\n",
      " [6.51034883e-02 7.13329412e-02 6.46198531e-02 6.71997365e-02\n",
      "  6.55530538e-02]\n",
      " [5.26645265e-02 5.77590355e-02 5.23012540e-02 5.43925403e-02\n",
      "  5.30448361e-02]\n",
      " [4.24312099e-02 4.65722526e-02 4.21571842e-02 4.38447606e-02\n",
      "  4.27486811e-02]\n",
      " [3.40746153e-02 3.74239102e-02 3.38668612e-02 3.52237027e-02\n",
      "  3.43368315e-02]\n",
      " [2.72913808e-02 2.99893588e-02 2.71330186e-02 2.82207500e-02\n",
      "  2.75061320e-02]\n",
      " [2.18118352e-02 2.39780489e-02 2.16904740e-02 2.25604242e-02\n",
      "  2.19865297e-02]\n",
      " [1.74025754e-02 1.91372535e-02 1.73090984e-02 1.80035659e-02\n",
      "  1.75439227e-02]\n",
      " [1.38655690e-02 1.52517413e-02 1.37932374e-02 1.43467905e-02\n",
      "  1.39794466e-02]\n",
      " [1.10353101e-02 1.21411178e-02 1.09791124e-02 1.14198180e-02\n",
      "  1.11267449e-02]\n",
      " [8.77506844e-03 9.65602404e-03 8.73125199e-03 9.08178245e-03\n",
      "  8.84828531e-03]\n",
      " [6.97289292e-03 7.67395987e-03 6.93862764e-03 7.21722391e-03\n",
      "  7.03139596e-03]\n",
      " [5.53775743e-03 6.09518884e-03 5.51089416e-03 5.73218556e-03\n",
      "  5.58442396e-03]\n",
      " [4.39605156e-03 4.83897246e-03 4.37494759e-03 4.55063761e-03\n",
      "  4.43322608e-03]\n",
      " [3.48850209e-03 3.84024441e-03 3.47189443e-03 3.61132743e-03\n",
      "  3.51808352e-03]\n",
      " [2.76754042e-03 3.04675323e-03 2.75445296e-03 2.86507811e-03\n",
      "  2.79105966e-03]\n",
      " [2.19509199e-03 2.41665486e-03 2.18476698e-03 2.27251533e-03\n",
      "  2.21377876e-03]\n",
      " [1.74074481e-03 1.91651301e-03 1.73259178e-03 1.80218102e-03\n",
      "  1.75558409e-03]\n",
      " [1.38024730e-03 1.51965595e-03 1.37380467e-03 1.42898449e-03\n",
      "  1.39202627e-03]\n",
      " [1.09428552e-03 1.20483703e-03 1.08919148e-03 1.13294037e-03\n",
      "  1.10363216e-03]\n",
      " [8.67493621e-04 9.55149398e-04 8.63464010e-04 8.98146712e-04\n",
      "  8.74908225e-04]\n",
      " [6.87656752e-04 7.57151114e-04 6.84467961e-04 7.11961237e-04\n",
      "  6.93537447e-04]\n",
      " [5.45071127e-04 6.00162229e-04 5.42546962e-04 5.64339830e-04\n",
      "  5.49734461e-04]\n",
      " [4.32031739e-04 4.75701810e-04 4.30033202e-04 4.47306766e-04\n",
      "  4.35729226e-04]\n",
      " [3.42423115e-04 3.77038009e-04 3.40840453e-04 3.54531398e-04\n",
      "  3.45354489e-04]\n",
      " [2.71392951e-04 2.98829128e-04 2.70139437e-04 2.80990495e-04\n",
      "  2.73716754e-04]\n",
      " [2.15092166e-04 2.36837673e-04 2.14099230e-04 2.22699274e-04\n",
      "  2.16934206e-04]\n",
      " [1.70468103e-04 1.87702807e-04 1.69681502e-04 1.76497370e-04\n",
      "  1.71928180e-04]\n",
      " [1.35100116e-04 1.48759431e-04 1.34476926e-04 1.39878687e-04\n",
      "  1.36257385e-04]\n",
      " [1.07068965e-04 1.17894434e-04 1.06575210e-04 1.10856203e-04\n",
      "  1.07986197e-04]\n",
      " [8.48531087e-05 9.34325444e-05 8.44618867e-05 8.78546196e-05\n",
      "  8.55800716e-05]\n",
      " [6.72463866e-05 7.40457169e-05 6.69363940e-05 6.96251516e-05\n",
      "  6.78225377e-05]\n",
      " [5.32927098e-05 5.86812351e-05 5.30470738e-05 5.51779152e-05\n",
      "  5.37493283e-05]\n",
      " [4.22342511e-05 4.65046733e-05 4.20396061e-05 4.37282910e-05\n",
      "  4.25961313e-05]\n",
      " [3.34703550e-05 3.68546596e-05 3.33161132e-05 3.46543856e-05\n",
      "  3.37571502e-05]\n",
      " [2.65249561e-05 2.92070022e-05 2.64027289e-05 2.74632986e-05\n",
      "  2.67522434e-05]\n",
      " [2.10207450e-05 2.31462475e-05 2.09238864e-05 2.17643770e-05\n",
      "  2.12008707e-05]\n",
      " [1.66586882e-05 1.83431295e-05 1.65819322e-05 1.72480112e-05\n",
      "  1.68014376e-05]\n",
      " [1.32017929e-05 1.45366944e-05 1.31409668e-05 1.36688259e-05\n",
      "  1.33149211e-05]\n",
      " [1.04622375e-05 1.15201307e-05 1.04140348e-05 1.08323560e-05\n",
      "  1.05518907e-05]]\n",
      "[[ 5.22125680e-01  3.92101917e-01  5.63523748e-01  5.08779823e-01\n",
      "   5.28175857e-01]\n",
      " [ 5.22125626e-01  3.92102308e-01  5.63523597e-01  5.08779854e-01\n",
      "   5.28175731e-01]\n",
      " [ 5.22125558e-01  3.92102801e-01  5.63523406e-01  5.08779894e-01\n",
      "   5.28175571e-01]\n",
      " [ 5.22125473e-01  3.92103423e-01  5.63523166e-01  5.08779945e-01\n",
      "   5.28175371e-01]\n",
      " [ 5.22125365e-01  3.92104209e-01  5.63522862e-01  5.08780008e-01\n",
      "   5.28175117e-01]\n",
      " [ 5.22125229e-01  3.92105199e-01  5.63522479e-01  5.08780088e-01\n",
      "   5.28174798e-01]\n",
      " [ 5.22125057e-01  3.92106449e-01  5.63521995e-01  5.08780190e-01\n",
      "   5.28174394e-01]\n",
      " [ 5.22124841e-01  3.92108027e-01  5.63521385e-01  5.08780317e-01\n",
      "   5.28173885e-01]\n",
      " [ 5.22124567e-01  3.92110017e-01  5.63520614e-01  5.08780478e-01\n",
      "   5.28173242e-01]\n",
      " [ 5.22124221e-01  3.92112527e-01  5.63519642e-01  5.08780680e-01\n",
      "   5.28172431e-01]\n",
      " [ 5.22123785e-01  3.92115695e-01  5.63518414e-01  5.08780935e-01\n",
      "   5.28171407e-01]\n",
      " [ 5.22123233e-01  3.92119692e-01  5.63516865e-01  5.08781257e-01\n",
      "   5.28170115e-01]\n",
      " [ 5.22122537e-01  3.92124733e-01  5.63514909e-01  5.08781661e-01\n",
      "   5.28168483e-01]\n",
      " [ 5.22121656e-01  3.92131093e-01  5.63512439e-01  5.08782169e-01\n",
      "   5.28166422e-01]\n",
      " [ 5.22120542e-01  3.92139115e-01  5.63509319e-01  5.08782809e-01\n",
      "   5.28163820e-01]\n",
      " [ 5.22119133e-01  3.92149232e-01  5.63505380e-01  5.08783611e-01\n",
      "   5.28160533e-01]\n",
      " [ 5.22117349e-01  3.92161990e-01  5.63500402e-01  5.08784617e-01\n",
      "   5.28156379e-01]\n",
      " [ 5.22115087e-01  3.92178075e-01  5.63494111e-01  5.08785876e-01\n",
      "   5.28151129e-01]\n",
      " [ 5.22112219e-01  3.92198351e-01  5.63486158e-01  5.08787448e-01\n",
      "   5.28144489e-01]\n",
      " [ 5.22108574e-01  3.92223903e-01  5.63476097e-01  5.08789404e-01\n",
      "   5.28136089e-01]\n",
      " [ 5.22103937e-01  3.92256092e-01  5.63463363e-01  5.08791831e-01\n",
      "   5.28125453e-01]\n",
      " [ 5.22098023e-01  3.92296624e-01  5.63447231e-01  5.08794826e-01\n",
      "   5.28111975e-01]\n",
      " [ 5.22090461e-01  3.92347634e-01  5.63426777e-01  5.08798498e-01\n",
      "   5.28094878e-01]\n",
      " [ 5.22080763e-01  3.92411784e-01  5.63400808e-01  5.08802962e-01\n",
      "   5.28073159e-01]\n",
      " [ 5.22068277e-01  3.92492389e-01  5.63367790e-01  5.08808326e-01\n",
      "   5.28045525e-01]\n",
      " [ 5.22052127e-01  3.92593555e-01  5.63325729e-01  5.08814665e-01\n",
      "   5.28010293e-01]\n",
      " [ 5.22031123e-01  3.92720347e-01  5.63272025e-01  5.08821985e-01\n",
      "   5.27965261e-01]\n",
      " [ 5.22003627e-01  3.92878967e-01  5.63203264e-01  5.08830146e-01\n",
      "   5.27907528e-01]\n",
      " [ 5.21967365e-01  3.93076951e-01  5.63114925e-01  5.08838742e-01\n",
      "   5.27833241e-01]\n",
      " [ 5.21919135e-01  3.93323343e-01  5.63000975e-01  5.08846902e-01\n",
      "   5.27737234e-01]\n",
      " [ 5.21854380e-01  3.93628835e-01  5.62853284e-01  5.08852965e-01\n",
      "   5.27612519e-01]\n",
      " [ 5.21766550e-01  3.94005793e-01  5.62660799e-01  5.08853961e-01\n",
      "   5.27449547e-01]\n",
      " [ 5.21646149e-01  3.94468072e-01  5.62408351e-01  5.08844798e-01\n",
      "   5.27235143e-01]\n",
      " [ 5.21479306e-01  3.95030471e-01  5.62074936e-01  5.08816989e-01\n",
      "   5.26950973e-01]\n",
      " [ 5.21245675e-01  3.95707568e-01  5.61631259e-01  5.08756705e-01\n",
      "   5.26571324e-01]\n",
      " [ 5.20915348e-01  3.96511587e-01  5.61036224e-01  5.08641839e-01\n",
      "   5.26059928e-01]\n",
      " [ 5.20444405e-01  3.97448792e-01  5.60232015e-01  5.08437670e-01\n",
      "   5.25365481e-01]\n",
      " [ 5.19768641e-01  3.98513759e-01  5.59137312e-01  5.08090618e-01\n",
      "   5.24415423e-01]\n",
      " [ 5.18794978e-01  3.99680742e-01  5.57638246e-01  5.07519550e-01\n",
      "   5.23107584e-01]\n",
      " [ 5.17390208e-01  4.00891349e-01  5.55576853e-01  5.06604184e-01\n",
      "   5.21299415e-01]\n",
      " [ 5.15367148e-01  4.02038034e-01  5.52737341e-01  5.05170543e-01\n",
      "   5.18794992e-01]\n",
      " [ 5.12469157e-01  4.02943701e-01  5.48831460e-01  5.02974308e-01\n",
      "   5.15330884e-01]\n",
      " [ 5.08355600e-01  4.03339332e-01  5.43486004e-01  4.99684506e-01\n",
      "   5.10563495e-01]\n",
      " [ 5.02593091e-01  4.02844093e-01  5.36237726e-01  4.94872316e-01\n",
      "   5.04062679e-01]\n",
      " [ 4.94659975e-01  4.00955670e-01  5.26543345e-01  4.88012551e-01\n",
      "   4.95318759e-01]\n",
      " [ 4.83973192e-01  3.97061519e-01  5.13813451e-01  4.78507306e-01\n",
      "   4.83771476e-01]\n",
      " [ 4.69945553e-01  3.90482217e-01  4.97477032e-01  4.65740572e-01\n",
      "   4.68867925e-01]\n",
      " [ 4.52075297e-01  3.80553458e-01  4.77076161e-01  4.49166732e-01\n",
      "   4.50150282e-01]\n",
      " [ 4.30057941e-01  3.66741831e-01  4.52378113e-01  4.28424222e-01\n",
      "   4.27362745e-01]\n",
      " [ 4.03895960e-01  3.48773205e-01  4.23478586e-01  4.03450690e-01\n",
      "   4.00553662e-01]\n",
      " [ 3.73971918e-01  3.26738313e-01  3.90862160e-01  3.74564998e-01\n",
      "   3.70140273e-01]\n",
      " [ 3.41053600e-01  3.01137535e-01  3.55391870e-01  3.42482830e-01\n",
      "   3.36907294e-01]\n",
      " [ 3.06218432e-01  2.72841698e-01  3.18220025e-01  3.08250178e-01\n",
      "   3.01928917e-01]\n",
      " [ 2.70712177e-01  2.42973756e-01  2.80639243e-01  2.73106783e-01\n",
      "   2.66429958e-01]\n",
      " [ 2.35779830e-01  2.12744065e-01  2.43912845e-01  2.38316003e-01\n",
      "   2.31622835e-01]\n",
      " [ 2.02513158e-01  1.83285240e-01  2.09127451e-01  2.05006278e-01\n",
      "   1.98562443e-01]\n",
      " [ 1.71747863e-01  1.55526294e-01  1.77097740e-01  1.74059617e-01\n",
      "   1.68049631e-01]\n",
      " [ 1.44022289e-01  1.30126077e-01  1.48332604e-01  1.46061795e-01\n",
      "   1.40593930e-01]\n",
      " [ 1.19590064e-01  1.07464556e-01  1.23053538e-01  1.21308645e-01\n",
      "   1.16427784e-01]\n",
      " [ 9.84681217e-02  8.76763078e-02  1.01246360e-01  9.98506216e-02\n",
      "   9.55543358e-02]\n",
      " [ 8.04999916e-02  7.07060965e-02  8.27264545e-02  8.15551856e-02\n",
      "   7.78094675e-02]\n",
      " [ 6.54186798e-02  5.63693318e-02  6.72024194e-02  6.61705275e-02\n",
      "   6.29230909e-02]\n",
      " [ 5.28999096e-02  4.44061860e-02  5.43293724e-02  5.33805130e-02\n",
      "   5.05708884e-02]\n",
      " [ 4.26021613e-02  3.45241402e-02  4.37487000e-02  4.28466353e-02\n",
      "   4.04131384e-02]\n",
      " [ 3.41937237e-02  2.64280283e-02  3.51146758e-02  3.42367928e-02\n",
      "   3.21208786e-02]\n",
      " [ 2.73688930e-02  1.98390768e-02  2.81101985e-02  2.72428629e-02\n",
      "   2.53915096e-02]\n",
      " [ 2.18560511e-02  1.45053893e-02  2.24544347e-02  2.15897775e-02\n",
      "   1.99565046e-02]\n",
      " [ 1.74201904e-02  1.02063763e-02  1.79049584e-02  1.70387166e-02\n",
      "   1.55837282e-02]\n",
      " [ 1.38619659e-02  6.75325302e-03  1.42564718e-02  1.33865743e-02\n",
      "   1.20763900e-02]\n",
      " [ 1.10148043e-02  3.98721419e-03  1.13376373e-02  1.04632987e-02\n",
      "   9.27012267e-03]\n",
      " [ 8.74111155e-03  1.77641499e-03  9.00705533e-03  8.12820901e-03\n",
      "   7.02919809e-03]\n",
      " [ 6.92824082e-03  1.24933414e-05  7.14904420e-03  6.26599538e-03\n",
      "   5.24252342e-03]\n",
      " [ 5.48460708e-03 -1.39291844e-03  5.66960167e-03  4.78282195e-03\n",
      "   3.81979361e-03]\n",
      " [ 4.33615227e-03 -2.51144487e-03  4.49274643e-03  3.60275611e-03\n",
      "   2.68799566e-03]\n",
      " [ 3.42324541e-03 -3.40086344e-03  3.55731849e-03  2.66462314e-03\n",
      "   1.78834636e-03]\n",
      " [ 2.69803244e-03 -4.10760752e-03  2.81424898e-03  1.91930844e-03\n",
      "   1.07367586e-03]\n",
      " [ 2.12221135e-03 -4.66888405e-03  2.22427125e-03  1.32748738e-03\n",
      "   5.06232214e-04]\n",
      " [ 1.66518915e-03 -5.11443780e-03  1.75602661e-03  8.57741551e-04\n",
      "   5.58632883e-05]\n",
      " [ 1.30257032e-03 -5.46800456e-03  1.38451196e-03  4.85011801e-04\n",
      "  -3.01473943e-04]\n",
      " [ 1.01492654e-03 -5.74849772e-03  1.08981698e-03  1.89337869e-04\n",
      "  -5.84926502e-04]\n",
      " [ 7.86801119e-04 -5.97097085e-03  8.56102734e-04 -4.51622572e-05\n",
      "  -8.09726890e-04]\n",
      " [ 6.05907109e-04 -6.14739463e-03  6.70779115e-04 -2.31115007e-04\n",
      "  -9.87983639e-04]\n",
      " [ 4.62483496e-04 -6.28728138e-03  5.23844765e-04 -3.78551916e-04\n",
      "  -1.12931586e-03]\n",
      " [ 3.48779877e-04 -6.39818569e-03  4.07358728e-04 -4.95438727e-04\n",
      "  -1.24136121e-03]\n",
      " [ 2.58644775e-04 -6.48610466e-03  3.15018470e-04 -5.88098166e-04\n",
      "  -1.33018161e-03]\n",
      " [ 1.87197331e-04 -6.55579727e-03  2.41823390e-04 -6.61547179e-04\n",
      "  -1.40058682e-03]\n",
      " [ 1.30565825e-04 -6.61103900e-03  1.83806859e-04 -7.19765571e-04\n",
      "  -1.45639216e-03]\n",
      " [ 8.56796481e-05 -6.65482436e-03  1.37823039e-04 -7.65909751e-04\n",
      "  -1.50062348e-03]\n",
      " [ 5.01039273e-05 -6.68952806e-03  1.01377434e-04 -8.02482685e-04\n",
      "  -1.53568015e-03]\n",
      " [ 2.19081429e-05 -6.71703300e-03  7.24922674e-05 -8.31468911e-04\n",
      "  -1.56346454e-03]\n",
      " [-4.38188543e-07 -6.73883199e-03  4.95996039e-05 -8.54441759e-04\n",
      "  -1.58548481e-03]\n",
      " [-1.81483132e-05 -6.75610845e-03  3.14565152e-05 -8.72648454e-04\n",
      "  -1.60293652e-03]\n",
      " [-3.21839368e-05 -6.76980045e-03  1.70777716e-05 -8.87077642e-04\n",
      "  -1.61676734e-03]\n",
      " [-4.33073384e-05 -6.78065157e-03  5.68245121e-06 -8.98512963e-04\n",
      "  -1.62772843e-03]\n",
      " [-5.21227014e-05 -6.78925118e-03 -3.34840408e-06 -9.07575533e-04\n",
      "  -1.63641516e-03]\n",
      " [-5.91088875e-05 -6.79606639e-03 -1.05053650e-05 -9.14757637e-04\n",
      "  -1.64329940e-03]\n",
      " [-6.46454220e-05 -6.80146745e-03 -1.61772361e-05 -9.20449440e-04\n",
      "  -1.64875514e-03]\n",
      " [-6.90330947e-05 -6.80574776e-03 -2.06721612e-05 -9.24960164e-04\n",
      "  -1.65307879e-03]\n",
      " [-7.25102904e-05 -6.80913988e-03 -2.42343526e-05 -9.28534878e-04\n",
      "  -1.65650524e-03]\n",
      " [-7.52659336e-05 -6.81182810e-03 -2.70573537e-05 -9.31367804e-04\n",
      "  -1.65922068e-03]]\n"
     ]
    }
   ],
   "source": [
    "# Print the result of both data of validation curve\n",
    "print(train_scores)\n",
    "print(test_scores)"
   ]
  },
  {
   "cell_type": "code",
   "execution_count": 55,
   "id": "f8090a87",
   "metadata": {},
   "outputs": [],
   "source": [
    "# Calculate the mean and standard deviation of the scores across folds\n",
    "mean_train_scores = np.mean(train_scores, axis=1)\n",
    "mean_test_scores = np.mean(test_scores, axis=1)\n",
    "std_train_scores = np.std(train_scores, axis=1)\n",
    "std_test_scores = np.std(test_scores, axis=1)"
   ]
  },
  {
   "cell_type": "code",
   "execution_count": 56,
   "id": "141f6487",
   "metadata": {},
   "outputs": [
    {
     "name": "stdout",
     "output_type": "stream",
     "text": [
      "Alpha: 0.010, Train R-squared: 0.514, Test R-squared: 0.503\n",
      "Alpha: 0.013, Train R-squared: 0.514, Test R-squared: 0.503\n",
      "Alpha: 0.016, Train R-squared: 0.514, Test R-squared: 0.503\n",
      "Alpha: 0.020, Train R-squared: 0.514, Test R-squared: 0.503\n",
      "Alpha: 0.025, Train R-squared: 0.514, Test R-squared: 0.503\n",
      "Alpha: 0.032, Train R-squared: 0.514, Test R-squared: 0.503\n",
      "Alpha: 0.040, Train R-squared: 0.514, Test R-squared: 0.503\n",
      "Alpha: 0.051, Train R-squared: 0.514, Test R-squared: 0.503\n",
      "Alpha: 0.064, Train R-squared: 0.514, Test R-squared: 0.503\n",
      "Alpha: 0.081, Train R-squared: 0.514, Test R-squared: 0.503\n",
      "Alpha: 0.102, Train R-squared: 0.514, Test R-squared: 0.503\n",
      "Alpha: 0.129, Train R-squared: 0.514, Test R-squared: 0.503\n",
      "Alpha: 0.163, Train R-squared: 0.514, Test R-squared: 0.503\n",
      "Alpha: 0.206, Train R-squared: 0.514, Test R-squared: 0.503\n",
      "Alpha: 0.260, Train R-squared: 0.514, Test R-squared: 0.503\n",
      "Alpha: 0.327, Train R-squared: 0.514, Test R-squared: 0.503\n",
      "Alpha: 0.413, Train R-squared: 0.514, Test R-squared: 0.503\n",
      "Alpha: 0.521, Train R-squared: 0.514, Test R-squared: 0.503\n",
      "Alpha: 0.658, Train R-squared: 0.514, Test R-squared: 0.503\n",
      "Alpha: 0.830, Train R-squared: 0.514, Test R-squared: 0.503\n",
      "Alpha: 1.048, Train R-squared: 0.514, Test R-squared: 0.503\n",
      "Alpha: 1.322, Train R-squared: 0.514, Test R-squared: 0.503\n",
      "Alpha: 1.668, Train R-squared: 0.514, Test R-squared: 0.503\n",
      "Alpha: 2.105, Train R-squared: 0.514, Test R-squared: 0.503\n",
      "Alpha: 2.656, Train R-squared: 0.514, Test R-squared: 0.503\n",
      "Alpha: 3.352, Train R-squared: 0.514, Test R-squared: 0.503\n",
      "Alpha: 4.229, Train R-squared: 0.514, Test R-squared: 0.503\n",
      "Alpha: 5.337, Train R-squared: 0.514, Test R-squared: 0.503\n",
      "Alpha: 6.734, Train R-squared: 0.514, Test R-squared: 0.503\n",
      "Alpha: 8.498, Train R-squared: 0.514, Test R-squared: 0.503\n",
      "Alpha: 10.723, Train R-squared: 0.514, Test R-squared: 0.503\n",
      "Alpha: 13.530, Train R-squared: 0.514, Test R-squared: 0.503\n",
      "Alpha: 17.074, Train R-squared: 0.514, Test R-squared: 0.503\n",
      "Alpha: 21.544, Train R-squared: 0.514, Test R-squared: 0.503\n",
      "Alpha: 27.186, Train R-squared: 0.514, Test R-squared: 0.503\n",
      "Alpha: 34.305, Train R-squared: 0.514, Test R-squared: 0.503\n",
      "Alpha: 43.288, Train R-squared: 0.513, Test R-squared: 0.502\n",
      "Alpha: 54.623, Train R-squared: 0.513, Test R-squared: 0.502\n",
      "Alpha: 68.926, Train R-squared: 0.512, Test R-squared: 0.501\n",
      "Alpha: 86.975, Train R-squared: 0.511, Test R-squared: 0.500\n",
      "Alpha: 109.750, Train R-squared: 0.509, Test R-squared: 0.499\n",
      "Alpha: 138.489, Train R-squared: 0.507, Test R-squared: 0.497\n",
      "Alpha: 174.753, Train R-squared: 0.503, Test R-squared: 0.493\n",
      "Alpha: 220.513, Train R-squared: 0.498, Test R-squared: 0.488\n",
      "Alpha: 278.256, Train R-squared: 0.491, Test R-squared: 0.481\n",
      "Alpha: 351.119, Train R-squared: 0.481, Test R-squared: 0.471\n",
      "Alpha: 443.062, Train R-squared: 0.468, Test R-squared: 0.459\n",
      "Alpha: 559.081, Train R-squared: 0.451, Test R-squared: 0.442\n",
      "Alpha: 705.480, Train R-squared: 0.430, Test R-squared: 0.421\n",
      "Alpha: 890.215, Train R-squared: 0.404, Test R-squared: 0.396\n",
      "Alpha: 1123.324, Train R-squared: 0.375, Test R-squared: 0.367\n",
      "Alpha: 1417.474, Train R-squared: 0.343, Test R-squared: 0.335\n",
      "Alpha: 1788.650, Train R-squared: 0.309, Test R-squared: 0.301\n",
      "Alpha: 2257.020, Train R-squared: 0.273, Test R-squared: 0.267\n",
      "Alpha: 2848.036, Train R-squared: 0.238, Test R-squared: 0.232\n",
      "Alpha: 3593.814, Train R-squared: 0.205, Test R-squared: 0.200\n",
      "Alpha: 4534.879, Train R-squared: 0.174, Test R-squared: 0.169\n",
      "Alpha: 5722.368, Train R-squared: 0.146, Test R-squared: 0.142\n",
      "Alpha: 7220.809, Train R-squared: 0.122, Test R-squared: 0.118\n",
      "Alpha: 9111.628, Train R-squared: 0.100, Test R-squared: 0.097\n",
      "Alpha: 11497.570, Train R-squared: 0.082, Test R-squared: 0.079\n",
      "Alpha: 14508.288, Train R-squared: 0.067, Test R-squared: 0.064\n",
      "Alpha: 18307.383, Train R-squared: 0.054, Test R-squared: 0.051\n",
      "Alpha: 23101.297, Train R-squared: 0.044, Test R-squared: 0.041\n",
      "Alpha: 29150.531, Train R-squared: 0.035, Test R-squared: 0.032\n",
      "Alpha: 36783.798, Train R-squared: 0.028, Test R-squared: 0.026\n",
      "Alpha: 46415.888, Train R-squared: 0.022, Test R-squared: 0.020\n",
      "Alpha: 58570.208, Train R-squared: 0.018, Test R-squared: 0.016\n",
      "Alpha: 73907.220, Train R-squared: 0.014, Test R-squared: 0.012\n",
      "Alpha: 93260.335, Train R-squared: 0.011, Test R-squared: 0.009\n",
      "Alpha: 117681.195, Train R-squared: 0.009, Test R-squared: 0.007\n",
      "Alpha: 148496.826, Train R-squared: 0.007, Test R-squared: 0.005\n",
      "Alpha: 187381.742, Train R-squared: 0.006, Test R-squared: 0.004\n",
      "Alpha: 236448.941, Train R-squared: 0.005, Test R-squared: 0.003\n",
      "Alpha: 298364.724, Train R-squared: 0.004, Test R-squared: 0.002\n",
      "Alpha: 376493.581, Train R-squared: 0.003, Test R-squared: 0.001\n",
      "Alpha: 475081.016, Train R-squared: 0.002, Test R-squared: 0.000\n",
      "Alpha: 599484.250, Train R-squared: 0.002, Test R-squared: -0.000\n",
      "Alpha: 756463.328, Train R-squared: 0.001, Test R-squared: -0.001\n",
      "Alpha: 954548.457, Train R-squared: 0.001, Test R-squared: -0.001\n",
      "Alpha: 1204503.540, Train R-squared: 0.001, Test R-squared: -0.001\n",
      "Alpha: 1519911.083, Train R-squared: 0.001, Test R-squared: -0.001\n",
      "Alpha: 1917910.262, Train R-squared: 0.001, Test R-squared: -0.001\n",
      "Alpha: 2420128.265, Train R-squared: 0.000, Test R-squared: -0.001\n",
      "Alpha: 3053855.509, Train R-squared: 0.000, Test R-squared: -0.002\n",
      "Alpha: 3853528.594, Train R-squared: 0.000, Test R-squared: -0.002\n",
      "Alpha: 4862601.580, Train R-squared: 0.000, Test R-squared: -0.002\n",
      "Alpha: 6135907.273, Train R-squared: 0.000, Test R-squared: -0.002\n",
      "Alpha: 7742636.827, Train R-squared: 0.000, Test R-squared: -0.002\n",
      "Alpha: 9770099.573, Train R-squared: 0.000, Test R-squared: -0.002\n",
      "Alpha: 12328467.394, Train R-squared: 0.000, Test R-squared: -0.002\n",
      "Alpha: 15556761.439, Train R-squared: 0.000, Test R-squared: -0.002\n",
      "Alpha: 19630406.500, Train R-squared: 0.000, Test R-squared: -0.002\n",
      "Alpha: 24770763.560, Train R-squared: 0.000, Test R-squared: -0.002\n",
      "Alpha: 31257158.497, Train R-squared: 0.000, Test R-squared: -0.002\n",
      "Alpha: 39442060.594, Train R-squared: 0.000, Test R-squared: -0.002\n",
      "Alpha: 49770235.643, Train R-squared: 0.000, Test R-squared: -0.002\n",
      "Alpha: 62802914.418, Train R-squared: 0.000, Test R-squared: -0.002\n",
      "Alpha: 79248289.835, Train R-squared: 0.000, Test R-squared: -0.002\n",
      "Alpha: 100000000.000, Train R-squared: 0.000, Test R-squared: -0.002\n"
     ]
    }
   ],
   "source": [
    "# Print the results\n",
    "for i, alpha in enumerate(param_range):\n",
    "    print(f\"Alpha: {alpha:.3f}, Train R-squared: {mean_train_scores[i]:.3f}, Test R-squared: {mean_test_scores[i]:.3f}\")"
   ]
  },
  {
   "cell_type": "code",
   "execution_count": 57,
   "id": "80aa5c46",
   "metadata": {},
   "outputs": [
    {
     "data": {
      "text/plain": [
       "<seaborn.axisgrid.JointGrid at 0x17c24ef7c90>"
      ]
     },
     "execution_count": 57,
     "metadata": {},
     "output_type": "execute_result"
    },
    {
     "data": {
      "image/png": "[encoded data removed]",
      "text/plain": [
       "<Figure size 600x600 with 3 Axes>"
      ]
     },
     "metadata": {},
     "output_type": "display_data"
    }
   ],
   "source": [
    "# Visualize the validation curve of param range\n",
    "sns.jointplot(x=np.log(param_range),y=mean_test_scores)"
   ]
  },
  {
   "cell_type": "code",
   "execution_count": 58,
   "id": "a79af82d",
   "metadata": {},
   "outputs": [
    {
     "data": {
      "text/plain": [
       "(array([28], dtype=int64),)"
      ]
     },
     "execution_count": 58,
     "metadata": {},
     "output_type": "execute_result"
    }
   ],
   "source": [
    "# Find the location of  max value of mean test scores\n",
    "np.where(mean_test_scores==max(mean_test_scores))"
   ]
  },
  {
   "cell_type": "code",
   "execution_count": 59,
   "id": "f7a68399",
   "metadata": {},
   "outputs": [
    {
     "data": {
      "text/plain": [
       "6.7341506577508214"
      ]
     },
     "execution_count": 59,
     "metadata": {},
     "output_type": "execute_result"
    }
   ],
   "source": [
    "# Print the value of best param range\n",
    "param_range[28]"
   ]
  },
  {
   "cell_type": "code",
   "execution_count": 60,
   "id": "b84605c8",
   "metadata": {},
   "outputs": [],
   "source": [
    "# create model parameter for ridge regression to fit the best param range\n",
    "lm_r_best = Ridge(alpha=param_range[28])"
   ]
  },
  {
   "cell_type": "code",
   "execution_count": 289,
   "id": "5b4a7d16",
   "metadata": {},
   "outputs": [
    {
     "data": {
      "text/html": [
       "<style>#sk-container-id-28 {color: black;background-color: white;}#sk-container-id-28 pre{padding: 0;}#sk-container-id-28 div.sk-toggleable {background-color: white;}#sk-container-id-28 label.sk-toggleable__label {cursor: pointer;display: block;width: 100%;margin-bottom: 0;padding: 0.3em;box-sizing: border-box;text-align: center;}#sk-container-id-28 label.sk-toggleable__label-arrow:before {content: \"▸\";float: left;margin-right: 0.25em;color: #696969;}#sk-container-id-28 label.sk-toggleable__label-arrow:hover:before {color: black;}#sk-container-id-28 div.sk-estimator:hover label.sk-toggleable__label-arrow:before {color: black;}#sk-container-id-28 div.sk-toggleable__content {max-height: 0;max-width: 0;overflow: hidden;text-align: left;background-color: #f0f8ff;}#sk-container-id-28 div.sk-toggleable__content pre {margin: 0.2em;color: black;border-radius: 0.25em;background-color: #f0f8ff;}#sk-container-id-28 input.sk-toggleable__control:checked~div.sk-toggleable__content {max-height: 200px;max-width: 100%;overflow: auto;}#sk-container-id-28 input.sk-toggleable__control:checked~label.sk-toggleable__label-arrow:before {content: \"▾\";}#sk-container-id-28 div.sk-estimator input.sk-toggleable__control:checked~label.sk-toggleable__label {background-color: #d4ebff;}#sk-container-id-28 div.sk-label input.sk-toggleable__control:checked~label.sk-toggleable__label {background-color: #d4ebff;}#sk-container-id-28 input.sk-hidden--visually {border: 0;clip: rect(1px 1px 1px 1px);clip: rect(1px, 1px, 1px, 1px);height: 1px;margin: -1px;overflow: hidden;padding: 0;position: absolute;width: 1px;}#sk-container-id-28 div.sk-estimator {font-family: monospace;background-color: #f0f8ff;border: 1px dotted black;border-radius: 0.25em;box-sizing: border-box;margin-bottom: 0.5em;}#sk-container-id-28 div.sk-estimator:hover {background-color: #d4ebff;}#sk-container-id-28 div.sk-parallel-item::after {content: \"\";width: 100%;border-bottom: 1px solid gray;flex-grow: 1;}#sk-container-id-28 div.sk-label:hover label.sk-toggleable__label {background-color: #d4ebff;}#sk-container-id-28 div.sk-serial::before {content: \"\";position: absolute;border-left: 1px solid gray;box-sizing: border-box;top: 0;bottom: 0;left: 50%;z-index: 0;}#sk-container-id-28 div.sk-serial {display: flex;flex-direction: column;align-items: center;background-color: white;padding-right: 0.2em;padding-left: 0.2em;position: relative;}#sk-container-id-28 div.sk-item {position: relative;z-index: 1;}#sk-container-id-28 div.sk-parallel {display: flex;align-items: stretch;justify-content: center;background-color: white;position: relative;}#sk-container-id-28 div.sk-item::before, #sk-container-id-28 div.sk-parallel-item::before {content: \"\";position: absolute;border-left: 1px solid gray;box-sizing: border-box;top: 0;bottom: 0;left: 50%;z-index: -1;}#sk-container-id-28 div.sk-parallel-item {display: flex;flex-direction: column;z-index: 1;position: relative;background-color: white;}#sk-container-id-28 div.sk-parallel-item:first-child::after {align-self: flex-end;width: 50%;}#sk-container-id-28 div.sk-parallel-item:last-child::after {align-self: flex-start;width: 50%;}#sk-container-id-28 div.sk-parallel-item:only-child::after {width: 0;}#sk-container-id-28 div.sk-dashed-wrapped {border: 1px dashed gray;margin: 0 0.4em 0.5em 0.4em;box-sizing: border-box;padding-bottom: 0.4em;background-color: white;}#sk-container-id-28 div.sk-label label {font-family: monospace;font-weight: bold;display: inline-block;line-height: 1.2em;}#sk-container-id-28 div.sk-label-container {text-align: center;}#sk-container-id-28 div.sk-container {/* jupyter's `normalize.less` sets `[hidden] { display: none; }` but bootstrap.min.css set `[hidden] { display: none !important; }` so we also need the `!important` here to be able to override the default hidden behavior on the sphinx rendered scikit-learn.org. See: https://github.com/scikit-learn/scikit-learn/issues/21755 */display: inline-block !important;position: relative;}#sk-container-id-28 div.sk-text-repr-fallback {display: none;}</style><div id=\"sk-container-id-28\" class=\"sk-top-container\"><div class=\"sk-text-repr-fallback\"><pre>Ridge(alpha=6.7341506577508214)</pre><b>In a Jupyter environment, please rerun this cell to show the HTML representation or trust the notebook. <br />On GitHub, the HTML representation is unable to render, please try loading this page with nbviewer.org.</b></div><div class=\"sk-container\" hidden><div class=\"sk-item\"><div class=\"sk-estimator sk-toggleable\"><input class=\"sk-toggleable__control sk-hidden--visually\" id=\"sk-estimator-id-48\" type=\"checkbox\" checked><label for=\"sk-estimator-id-48\" class=\"sk-toggleable__label sk-toggleable__label-arrow\">Ridge</label><div class=\"sk-toggleable__content\"><pre>Ridge(alpha=6.7341506577508214)</pre></div></div></div></div></div>"
      ],
      "text/plain": [
       "Ridge(alpha=6.7341506577508214)"
      ]
     },
     "execution_count": 289,
     "metadata": {},
     "output_type": "execute_result"
    }
   ],
   "source": [
    "# Fit the model\n",
    "lm_r_best.fit(X_test_scaled,y_test)"
   ]
  },
  {
   "cell_type": "code",
   "execution_count": 62,
   "id": "ba1314c1",
   "metadata": {},
   "outputs": [
    {
     "name": "stdout",
     "output_type": "stream",
     "text": [
      "Test R2 score with best param: 0.6203626076398991\n",
      "Train R2 score with best param: 0.4851025306203909\n",
      "Test MSE with best param: 72224103.89873701\n",
      "Train MSE with best param: 77406709.38040628\n"
     ]
    }
   ],
   "source": [
    "# Evaluate accuracy scores for the test and train data\n",
    "r2_score_test = r2_score(y_test,lm_r_best.predict(X_test_scaled))\n",
    "r2_score_train = r2_score(y_train,lm_r_best.predict(X_train_scaled))\n",
    "mse_test = mean_squared_error(y_test, lm_r_best.predict(X_test_scaled))\n",
    "mse_train =  mean_squared_error(y_train, lm_r_best.predict(X_train_scaled))\n",
    "print(\"Test R2 score with best param:\",r2_score_test)\n",
    "print(\"Train R2 score with best param:\",r2_score_train)\n",
    "print(\"Test MSE with best param:\",mse_test)\n",
    "print(\"Train MSE with best param:\",mse_train)"
   ]
  },
  {
   "cell_type": "markdown",
   "id": "e2c0e70e",
   "metadata": {},
   "source": [
    "Comparing the Test and Train R-squared values:\n",
    "\n",
    "The Test R2 score is higher than the Train R2 score, which is generally desirable. It suggests that the model is generalizing reasonably well to new, unseen data.\n",
    "Overall, the performance of the model with the R-squared values of 0.6204 (Test) and 0.4851 (Train) indicates that the model has some predictive power and is not significantly overfitting to the training data."
   ]
  },
  {
   "cell_type": "markdown",
   "id": "d9a7ae04",
   "metadata": {},
   "source": [
    "## Lasso Regression"
   ]
  },
  {
   "cell_type": "code",
   "execution_count": 63,
   "id": "9f7aa0d0",
   "metadata": {},
   "outputs": [],
   "source": [
    "from sklearn.linear_model import Lasso"
   ]
  },
  {
   "cell_type": "code",
   "execution_count": 64,
   "id": "c36f2e2d",
   "metadata": {},
   "outputs": [],
   "source": [
    "# Split the data into training and testing sets\n",
    "X_train, X_test, y_train, y_test = train_test_split(X, y, test_size=0.2, random_state=42)"
   ]
  },
  {
   "cell_type": "code",
   "execution_count": 65,
   "id": "0a68b22f",
   "metadata": {},
   "outputs": [],
   "source": [
    "# Feature scaling\n",
    "scaler = StandardScaler()\n",
    "X_train_scaled = scaler.fit_transform(X_train)\n",
    "X_test_scaled = scaler.transform(X_test)"
   ]
  },
  {
   "cell_type": "code",
   "execution_count": 290,
   "id": "adc336b6",
   "metadata": {},
   "outputs": [
    {
     "data": {
      "text/html": [
       "<style>#sk-container-id-29 {color: black;background-color: white;}#sk-container-id-29 pre{padding: 0;}#sk-container-id-29 div.sk-toggleable {background-color: white;}#sk-container-id-29 label.sk-toggleable__label {cursor: pointer;display: block;width: 100%;margin-bottom: 0;padding: 0.3em;box-sizing: border-box;text-align: center;}#sk-container-id-29 label.sk-toggleable__label-arrow:before {content: \"▸\";float: left;margin-right: 0.25em;color: #696969;}#sk-container-id-29 label.sk-toggleable__label-arrow:hover:before {color: black;}#sk-container-id-29 div.sk-estimator:hover label.sk-toggleable__label-arrow:before {color: black;}#sk-container-id-29 div.sk-toggleable__content {max-height: 0;max-width: 0;overflow: hidden;text-align: left;background-color: #f0f8ff;}#sk-container-id-29 div.sk-toggleable__content pre {margin: 0.2em;color: black;border-radius: 0.25em;background-color: #f0f8ff;}#sk-container-id-29 input.sk-toggleable__control:checked~div.sk-toggleable__content {max-height: 200px;max-width: 100%;overflow: auto;}#sk-container-id-29 input.sk-toggleable__control:checked~label.sk-toggleable__label-arrow:before {content: \"▾\";}#sk-container-id-29 div.sk-estimator input.sk-toggleable__control:checked~label.sk-toggleable__label {background-color: #d4ebff;}#sk-container-id-29 div.sk-label input.sk-toggleable__control:checked~label.sk-toggleable__label {background-color: #d4ebff;}#sk-container-id-29 input.sk-hidden--visually {border: 0;clip: rect(1px 1px 1px 1px);clip: rect(1px, 1px, 1px, 1px);height: 1px;margin: -1px;overflow: hidden;padding: 0;position: absolute;width: 1px;}#sk-container-id-29 div.sk-estimator {font-family: monospace;background-color: #f0f8ff;border: 1px dotted black;border-radius: 0.25em;box-sizing: border-box;margin-bottom: 0.5em;}#sk-container-id-29 div.sk-estimator:hover {background-color: #d4ebff;}#sk-container-id-29 div.sk-parallel-item::after {content: \"\";width: 100%;border-bottom: 1px solid gray;flex-grow: 1;}#sk-container-id-29 div.sk-label:hover label.sk-toggleable__label {background-color: #d4ebff;}#sk-container-id-29 div.sk-serial::before {content: \"\";position: absolute;border-left: 1px solid gray;box-sizing: border-box;top: 0;bottom: 0;left: 50%;z-index: 0;}#sk-container-id-29 div.sk-serial {display: flex;flex-direction: column;align-items: center;background-color: white;padding-right: 0.2em;padding-left: 0.2em;position: relative;}#sk-container-id-29 div.sk-item {position: relative;z-index: 1;}#sk-container-id-29 div.sk-parallel {display: flex;align-items: stretch;justify-content: center;background-color: white;position: relative;}#sk-container-id-29 div.sk-item::before, #sk-container-id-29 div.sk-parallel-item::before {content: \"\";position: absolute;border-left: 1px solid gray;box-sizing: border-box;top: 0;bottom: 0;left: 50%;z-index: -1;}#sk-container-id-29 div.sk-parallel-item {display: flex;flex-direction: column;z-index: 1;position: relative;background-color: white;}#sk-container-id-29 div.sk-parallel-item:first-child::after {align-self: flex-end;width: 50%;}#sk-container-id-29 div.sk-parallel-item:last-child::after {align-self: flex-start;width: 50%;}#sk-container-id-29 div.sk-parallel-item:only-child::after {width: 0;}#sk-container-id-29 div.sk-dashed-wrapped {border: 1px dashed gray;margin: 0 0.4em 0.5em 0.4em;box-sizing: border-box;padding-bottom: 0.4em;background-color: white;}#sk-container-id-29 div.sk-label label {font-family: monospace;font-weight: bold;display: inline-block;line-height: 1.2em;}#sk-container-id-29 div.sk-label-container {text-align: center;}#sk-container-id-29 div.sk-container {/* jupyter's `normalize.less` sets `[hidden] { display: none; }` but bootstrap.min.css set `[hidden] { display: none !important; }` so we also need the `!important` here to be able to override the default hidden behavior on the sphinx rendered scikit-learn.org. See: https://github.com/scikit-learn/scikit-learn/issues/21755 */display: inline-block !important;position: relative;}#sk-container-id-29 div.sk-text-repr-fallback {display: none;}</style><div id=\"sk-container-id-29\" class=\"sk-top-container\"><div class=\"sk-text-repr-fallback\"><pre>Lasso(alpha=0.1)</pre><b>In a Jupyter environment, please rerun this cell to show the HTML representation or trust the notebook. <br />On GitHub, the HTML representation is unable to render, please try loading this page with nbviewer.org.</b></div><div class=\"sk-container\" hidden><div class=\"sk-item\"><div class=\"sk-estimator sk-toggleable\"><input class=\"sk-toggleable__control sk-hidden--visually\" id=\"sk-estimator-id-49\" type=\"checkbox\" checked><label for=\"sk-estimator-id-49\" class=\"sk-toggleable__label sk-toggleable__label-arrow\">Lasso</label><div class=\"sk-toggleable__content\"><pre>Lasso(alpha=0.1)</pre></div></div></div></div></div>"
      ],
      "text/plain": [
       "Lasso(alpha=0.1)"
      ]
     },
     "execution_count": 290,
     "metadata": {},
     "output_type": "execute_result"
    }
   ],
   "source": [
    "# Initialize and train the Lasso regression model\n",
    "lasso_model = Lasso(alpha=0.1)  # You can tune the alpha parameter for regularization strength\n",
    "lasso_model.fit(X_train_scaled, y_train)"
   ]
  },
  {
   "cell_type": "code",
   "execution_count": 67,
   "id": "c5ebf776",
   "metadata": {},
   "outputs": [],
   "source": [
    "# Predict on the test set\n",
    "y_pred = lasso_model.predict(X_test_scaled)"
   ]
  },
  {
   "cell_type": "code",
   "execution_count": 68,
   "id": "5e4a7570",
   "metadata": {},
   "outputs": [
    {
     "name": "stdout",
     "output_type": "stream",
     "text": [
      "Lasso Regression Mean Squared Error: 77363437.09536627\n",
      "Lasso Regression r2_score_test: 0.5933483153480408\n",
      "Lasso Regression r2_score_train: 0.5137747137455719\n"
     ]
    }
   ],
   "source": [
    "# Calculate Mean Squared Error (MSE) to evaluate the model\n",
    "mse = mean_squared_error(y_test, y_pred)\n",
    "r2_score_test = r2_score(y_test,y_pred)\n",
    "r2_score_train = r2_score(y_train,lasso_model.predict(X_train_scaled))\n",
    "print(\"Lasso Regression Mean Squared Error:\", mse)\n",
    "print(\"Lasso Regression r2_score_test:\", r2_score_test)\n",
    "print(\"Lasso Regression r2_score_train:\", r2_score_train)"
   ]
  },
  {
   "cell_type": "markdown",
   "id": "3477a451",
   "metadata": {},
   "source": [
    "# Model Evaluation\n",
    "Interpretation:\n",
    "\n",
    "The MSE of 77363437.09536627 is reasonably low, which suggests that the model's predictions are relatively close to the actual values.\n",
    "\n",
    "The R2 score on the test data is 0.5933, which indicates that the model captures a substantial portion of the variance in the test data.\n",
    "\n",
    "The R2 score on the train data is 0.5137, indicating that the model explains a moderate amount of the variance in the training data.\n",
    "\n",
    "Comparing the R2 scores:\n",
    "\n",
    "The R2 score on the test data is higher than the R2 score on the train data, which is generally desirable. It suggests that the model is generalizing reasonably well to new, unseen data."
   ]
  },
  {
   "cell_type": "markdown",
   "id": "403d2ad2",
   "metadata": {},
   "source": [
    "## Gradient Boosting"
   ]
  },
  {
   "cell_type": "code",
   "execution_count": 69,
   "id": "6f972420",
   "metadata": {},
   "outputs": [],
   "source": [
    "from sklearn.ensemble import GradientBoostingRegressor"
   ]
  },
  {
   "cell_type": "code",
   "execution_count": 70,
   "id": "cbba1387",
   "metadata": {},
   "outputs": [],
   "source": [
    "# Feature scaling\n",
    "scaler = StandardScaler()\n",
    "X_train_scaled = scaler.fit_transform(X_train)\n",
    "X_test_scaled = scaler.transform(X_test)"
   ]
  },
  {
   "cell_type": "code",
   "execution_count": 291,
   "id": "b2f4d330",
   "metadata": {},
   "outputs": [
    {
     "data": {
      "text/html": [
       "<style>#sk-container-id-30 {color: black;background-color: white;}#sk-container-id-30 pre{padding: 0;}#sk-container-id-30 div.sk-toggleable {background-color: white;}#sk-container-id-30 label.sk-toggleable__label {cursor: pointer;display: block;width: 100%;margin-bottom: 0;padding: 0.3em;box-sizing: border-box;text-align: center;}#sk-container-id-30 label.sk-toggleable__label-arrow:before {content: \"▸\";float: left;margin-right: 0.25em;color: #696969;}#sk-container-id-30 label.sk-toggleable__label-arrow:hover:before {color: black;}#sk-container-id-30 div.sk-estimator:hover label.sk-toggleable__label-arrow:before {color: black;}#sk-container-id-30 div.sk-toggleable__content {max-height: 0;max-width: 0;overflow: hidden;text-align: left;background-color: #f0f8ff;}#sk-container-id-30 div.sk-toggleable__content pre {margin: 0.2em;color: black;border-radius: 0.25em;background-color: #f0f8ff;}#sk-container-id-30 input.sk-toggleable__control:checked~div.sk-toggleable__content {max-height: 200px;max-width: 100%;overflow: auto;}#sk-container-id-30 input.sk-toggleable__control:checked~label.sk-toggleable__label-arrow:before {content: \"▾\";}#sk-container-id-30 div.sk-estimator input.sk-toggleable__control:checked~label.sk-toggleable__label {background-color: #d4ebff;}#sk-container-id-30 div.sk-label input.sk-toggleable__control:checked~label.sk-toggleable__label {background-color: #d4ebff;}#sk-container-id-30 input.sk-hidden--visually {border: 0;clip: rect(1px 1px 1px 1px);clip: rect(1px, 1px, 1px, 1px);height: 1px;margin: -1px;overflow: hidden;padding: 0;position: absolute;width: 1px;}#sk-container-id-30 div.sk-estimator {font-family: monospace;background-color: #f0f8ff;border: 1px dotted black;border-radius: 0.25em;box-sizing: border-box;margin-bottom: 0.5em;}#sk-container-id-30 div.sk-estimator:hover {background-color: #d4ebff;}#sk-container-id-30 div.sk-parallel-item::after {content: \"\";width: 100%;border-bottom: 1px solid gray;flex-grow: 1;}#sk-container-id-30 div.sk-label:hover label.sk-toggleable__label {background-color: #d4ebff;}#sk-container-id-30 div.sk-serial::before {content: \"\";position: absolute;border-left: 1px solid gray;box-sizing: border-box;top: 0;bottom: 0;left: 50%;z-index: 0;}#sk-container-id-30 div.sk-serial {display: flex;flex-direction: column;align-items: center;background-color: white;padding-right: 0.2em;padding-left: 0.2em;position: relative;}#sk-container-id-30 div.sk-item {position: relative;z-index: 1;}#sk-container-id-30 div.sk-parallel {display: flex;align-items: stretch;justify-content: center;background-color: white;position: relative;}#sk-container-id-30 div.sk-item::before, #sk-container-id-30 div.sk-parallel-item::before {content: \"\";position: absolute;border-left: 1px solid gray;box-sizing: border-box;top: 0;bottom: 0;left: 50%;z-index: -1;}#sk-container-id-30 div.sk-parallel-item {display: flex;flex-direction: column;z-index: 1;position: relative;background-color: white;}#sk-container-id-30 div.sk-parallel-item:first-child::after {align-self: flex-end;width: 50%;}#sk-container-id-30 div.sk-parallel-item:last-child::after {align-self: flex-start;width: 50%;}#sk-container-id-30 div.sk-parallel-item:only-child::after {width: 0;}#sk-container-id-30 div.sk-dashed-wrapped {border: 1px dashed gray;margin: 0 0.4em 0.5em 0.4em;box-sizing: border-box;padding-bottom: 0.4em;background-color: white;}#sk-container-id-30 div.sk-label label {font-family: monospace;font-weight: bold;display: inline-block;line-height: 1.2em;}#sk-container-id-30 div.sk-label-container {text-align: center;}#sk-container-id-30 div.sk-container {/* jupyter's `normalize.less` sets `[hidden] { display: none; }` but bootstrap.min.css set `[hidden] { display: none !important; }` so we also need the `!important` here to be able to override the default hidden behavior on the sphinx rendered scikit-learn.org. See: https://github.com/scikit-learn/scikit-learn/issues/21755 */display: inline-block !important;position: relative;}#sk-container-id-30 div.sk-text-repr-fallback {display: none;}</style><div id=\"sk-container-id-30\" class=\"sk-top-container\"><div class=\"sk-text-repr-fallback\"><pre>GradientBoostingRegressor(n_estimators=1000, random_state=42)</pre><b>In a Jupyter environment, please rerun this cell to show the HTML representation or trust the notebook. <br />On GitHub, the HTML representation is unable to render, please try loading this page with nbviewer.org.</b></div><div class=\"sk-container\" hidden><div class=\"sk-item\"><div class=\"sk-estimator sk-toggleable\"><input class=\"sk-toggleable__control sk-hidden--visually\" id=\"sk-estimator-id-50\" type=\"checkbox\" checked><label for=\"sk-estimator-id-50\" class=\"sk-toggleable__label sk-toggleable__label-arrow\">GradientBoostingRegressor</label><div class=\"sk-toggleable__content\"><pre>GradientBoostingRegressor(n_estimators=1000, random_state=42)</pre></div></div></div></div></div>"
      ],
      "text/plain": [
       "GradientBoostingRegressor(n_estimators=1000, random_state=42)"
      ]
     },
     "execution_count": 291,
     "metadata": {},
     "output_type": "execute_result"
    }
   ],
   "source": [
    "# Initialize and train the Gradient Boosting Regressor\n",
    "gradient_boosting_model = GradientBoostingRegressor(n_estimators=1000, learning_rate=0.1, random_state=42)\n",
    "gradient_boosting_model.fit(X_train_scaled, y_train)"
   ]
  },
  {
   "cell_type": "code",
   "execution_count": 72,
   "id": "7c49fdd1",
   "metadata": {},
   "outputs": [],
   "source": [
    "# Predict on the test set\n",
    "y_pred = gradient_boosting_model.predict(X_test_scaled)"
   ]
  },
  {
   "cell_type": "code",
   "execution_count": 265,
   "id": "bcd28338",
   "metadata": {},
   "outputs": [
    {
     "name": "stdout",
     "output_type": "stream",
     "text": [
      "Gradient Boosting Test R-squared: 0.6145248915026248\n",
      "Gradient Boosting Train R-squared: 0.7035247114729237\n",
      "Gradient Boosting MSE: 57198497.16657557\n"
     ]
    }
   ],
   "source": [
    "# Evaluate the model\n",
    "test_r2_score = r2_score(y_test, y_pred)\n",
    "train_r2_score = r2_score(y_train,gradient_boosting_model.predict(X_train_scaled))\n",
    "mse = mean_squared_error(y_test, y_pred)\n",
    "print(\"Gradient Boosting Test R-squared:\", test_r2_score)\n",
    "print(\"Gradient Boosting Train R-squared:\", train_r2_score)\n",
    "print(\"Gradient Boosting MSE:\",mse)"
   ]
  },
  {
   "cell_type": "markdown",
   "id": "3b6e1582",
   "metadata": {},
   "source": [
    "# Model Evaluation\n",
    "Based on the R-squared values, the Gradient Boosting model appears to be performing better than the Lasso Regression model. It exhibits better generalization to unseen data (as indicated by the same Test R-squared) and better fitting to the training data (higher Train R-squared). However, it's essential to note that both models have the same Test R-squared, implying similar predictive performance on unseen data."
   ]
  },
  {
   "cell_type": "markdown",
   "id": "51492e3f",
   "metadata": {},
   "source": [
    "## Random Forest"
   ]
  },
  {
   "cell_type": "code",
   "execution_count": 150,
   "id": "ef6e3934",
   "metadata": {},
   "outputs": [],
   "source": [
    "from sklearn.ensemble import RandomForestRegressor\n",
    "from sklearn.model_selection import train_test_split, cross_val_score\n",
    "from sklearn.metrics import accuracy_score"
   ]
  },
  {
   "cell_type": "code",
   "execution_count": 187,
   "id": "c51bfb75",
   "metadata": {},
   "outputs": [],
   "source": [
    "# Feature scaling\n",
    "scaler = StandardScaler()\n",
    "X_train_scaled = scaler.fit_transform(X_train)\n",
    "X_test_scaled = scaler.transform(X_test)"
   ]
  },
  {
   "cell_type": "code",
   "execution_count": 188,
   "id": "8981f387",
   "metadata": {},
   "outputs": [],
   "source": [
    "# Build the Random Forest classifier with hyperparameter tuning and regularization\n",
    "random_forest_model = RandomForestRegressor(\n",
    "    n_estimators=1000,  # Number of trees in the forest\n",
    "    max_depth=10,       # Maximum depth of the tree\n",
    "    min_samples_split=2, # Minimum number of samples required to split an internal node\n",
    "    min_samples_leaf=1,  # Minimum number of samples required to be at a leaf node\n",
    "    random_state=42)"
   ]
  },
  {
   "cell_type": "code",
   "execution_count": 189,
   "id": "bf94888b",
   "metadata": {},
   "outputs": [],
   "source": [
    "# Perform cross-validation to evaluate the model's performance\n",
    "cv_scores = cross_val_score(random_forest_model, X_train_scaled, y_train, cv=5)"
   ]
  },
  {
   "cell_type": "code",
   "execution_count": 292,
   "id": "31847ed2",
   "metadata": {},
   "outputs": [
    {
     "data": {
      "text/html": [
       "<style>#sk-container-id-31 {color: black;background-color: white;}#sk-container-id-31 pre{padding: 0;}#sk-container-id-31 div.sk-toggleable {background-color: white;}#sk-container-id-31 label.sk-toggleable__label {cursor: pointer;display: block;width: 100%;margin-bottom: 0;padding: 0.3em;box-sizing: border-box;text-align: center;}#sk-container-id-31 label.sk-toggleable__label-arrow:before {content: \"▸\";float: left;margin-right: 0.25em;color: #696969;}#sk-container-id-31 label.sk-toggleable__label-arrow:hover:before {color: black;}#sk-container-id-31 div.sk-estimator:hover label.sk-toggleable__label-arrow:before {color: black;}#sk-container-id-31 div.sk-toggleable__content {max-height: 0;max-width: 0;overflow: hidden;text-align: left;background-color: #f0f8ff;}#sk-container-id-31 div.sk-toggleable__content pre {margin: 0.2em;color: black;border-radius: 0.25em;background-color: #f0f8ff;}#sk-container-id-31 input.sk-toggleable__control:checked~div.sk-toggleable__content {max-height: 200px;max-width: 100%;overflow: auto;}#sk-container-id-31 input.sk-toggleable__control:checked~label.sk-toggleable__label-arrow:before {content: \"▾\";}#sk-container-id-31 div.sk-estimator input.sk-toggleable__control:checked~label.sk-toggleable__label {background-color: #d4ebff;}#sk-container-id-31 div.sk-label input.sk-toggleable__control:checked~label.sk-toggleable__label {background-color: #d4ebff;}#sk-container-id-31 input.sk-hidden--visually {border: 0;clip: rect(1px 1px 1px 1px);clip: rect(1px, 1px, 1px, 1px);height: 1px;margin: -1px;overflow: hidden;padding: 0;position: absolute;width: 1px;}#sk-container-id-31 div.sk-estimator {font-family: monospace;background-color: #f0f8ff;border: 1px dotted black;border-radius: 0.25em;box-sizing: border-box;margin-bottom: 0.5em;}#sk-container-id-31 div.sk-estimator:hover {background-color: #d4ebff;}#sk-container-id-31 div.sk-parallel-item::after {content: \"\";width: 100%;border-bottom: 1px solid gray;flex-grow: 1;}#sk-container-id-31 div.sk-label:hover label.sk-toggleable__label {background-color: #d4ebff;}#sk-container-id-31 div.sk-serial::before {content: \"\";position: absolute;border-left: 1px solid gray;box-sizing: border-box;top: 0;bottom: 0;left: 50%;z-index: 0;}#sk-container-id-31 div.sk-serial {display: flex;flex-direction: column;align-items: center;background-color: white;padding-right: 0.2em;padding-left: 0.2em;position: relative;}#sk-container-id-31 div.sk-item {position: relative;z-index: 1;}#sk-container-id-31 div.sk-parallel {display: flex;align-items: stretch;justify-content: center;background-color: white;position: relative;}#sk-container-id-31 div.sk-item::before, #sk-container-id-31 div.sk-parallel-item::before {content: \"\";position: absolute;border-left: 1px solid gray;box-sizing: border-box;top: 0;bottom: 0;left: 50%;z-index: -1;}#sk-container-id-31 div.sk-parallel-item {display: flex;flex-direction: column;z-index: 1;position: relative;background-color: white;}#sk-container-id-31 div.sk-parallel-item:first-child::after {align-self: flex-end;width: 50%;}#sk-container-id-31 div.sk-parallel-item:last-child::after {align-self: flex-start;width: 50%;}#sk-container-id-31 div.sk-parallel-item:only-child::after {width: 0;}#sk-container-id-31 div.sk-dashed-wrapped {border: 1px dashed gray;margin: 0 0.4em 0.5em 0.4em;box-sizing: border-box;padding-bottom: 0.4em;background-color: white;}#sk-container-id-31 div.sk-label label {font-family: monospace;font-weight: bold;display: inline-block;line-height: 1.2em;}#sk-container-id-31 div.sk-label-container {text-align: center;}#sk-container-id-31 div.sk-container {/* jupyter's `normalize.less` sets `[hidden] { display: none; }` but bootstrap.min.css set `[hidden] { display: none !important; }` so we also need the `!important` here to be able to override the default hidden behavior on the sphinx rendered scikit-learn.org. See: https://github.com/scikit-learn/scikit-learn/issues/21755 */display: inline-block !important;position: relative;}#sk-container-id-31 div.sk-text-repr-fallback {display: none;}</style><div id=\"sk-container-id-31\" class=\"sk-top-container\"><div class=\"sk-text-repr-fallback\"><pre>RandomForestRegressor(n_estimators=1000, random_state=42)</pre><b>In a Jupyter environment, please rerun this cell to show the HTML representation or trust the notebook. <br />On GitHub, the HTML representation is unable to render, please try loading this page with nbviewer.org.</b></div><div class=\"sk-container\" hidden><div class=\"sk-item\"><div class=\"sk-estimator sk-toggleable\"><input class=\"sk-toggleable__control sk-hidden--visually\" id=\"sk-estimator-id-51\" type=\"checkbox\" checked><label for=\"sk-estimator-id-51\" class=\"sk-toggleable__label sk-toggleable__label-arrow\">RandomForestRegressor</label><div class=\"sk-toggleable__content\"><pre>RandomForestRegressor(n_estimators=1000, random_state=42)</pre></div></div></div></div></div>"
      ],
      "text/plain": [
       "RandomForestRegressor(n_estimators=1000, random_state=42)"
      ]
     },
     "execution_count": 292,
     "metadata": {},
     "output_type": "execute_result"
    }
   ],
   "source": [
    "# Initialize and train the Random Forest Regressor\n",
    "random_forest_model = RandomForestRegressor(n_estimators=1000, random_state=42)\n",
    "random_forest_model.fit(X_train_scaled, y_train)"
   ]
  },
  {
   "cell_type": "code",
   "execution_count": 191,
   "id": "c6b4caa3",
   "metadata": {},
   "outputs": [],
   "source": [
    "# Predict on the test set\n",
    "y_pred = random_forest_model.predict(X_test_scaled)"
   ]
  },
  {
   "cell_type": "code",
   "execution_count": 192,
   "id": "8be96f91",
   "metadata": {},
   "outputs": [
    {
     "name": "stdout",
     "output_type": "stream",
     "text": [
      "Random Forest Test R-squared: 0.6618177360345323\n",
      "Random Forest Train R_squared: 0.9507135911922144\n",
      "Random Forest MSE: 50180976.257113196\n"
     ]
    }
   ],
   "source": [
    "# Evaluate the model\n",
    "test_r2_score = r2_score(y_test, y_pred)\n",
    "train_r2_score = r2_score(y_train,random_forest_model.predict(X_train_scaled))\n",
    "mse =  mean_squared_error(y_test, y_pred)\n",
    "print(\"Random Forest Test R-squared:\", test_r2_score)\n",
    "print(\"Random Forest Train R_squared:\",train_r2_score)\n",
    "print(\"Random Forest MSE:\",mse)"
   ]
  },
  {
   "cell_type": "markdown",
   "id": "3e976d1a",
   "metadata": {},
   "source": [
    "# Model Evaluation\n",
    "Interpretation:\n",
    "\n",
    "The Test R-squared of 0.6618 suggests that the Random Forest model captures a substantial portion of the variance in the test data, indicating good predictive performance on unseen data.\n",
    "\n",
    "The Train R-squared of 0.9507 indicates that the model fits the training data extremely well, explaining a significant amount of the variance in the training data.\n",
    "\n",
    "Comparing the Test and Train R-squared values:\n",
    "\n",
    "The Test R-squared is slightly lower than the Train R-squared, which is generally expected. It suggests that the model is not significantly overfitting to the training data and is generalizing well to new, unseen data.\n",
    "Overall, the Random Forest model shows promise as it achieves high R-squared values both on the training and test data. It appears to be capturing the underlying patterns in the data and providing accurate predictions. However, as always, it's essential to consider other evaluation metrics, perform cross-validation, and explore additional techniques to ensure the model's robustness and generalization capabilities."
   ]
  },
  {
   "cell_type": "code",
   "execution_count": 297,
   "id": "d93176c0",
   "metadata": {},
   "outputs": [],
   "source": [
    "# Define hyperparameters for tuning\n",
    "param_grid = {\n",
    "    'n_estimators': [50, 100, 200],\n",
    "    'max_depth': [None, 10, 20],\n",
    "    'min_samples_split': [2, 5, 10],\n",
    "    'min_samples_leaf': [1, 2, 4]}"
   ]
  },
  {
   "cell_type": "code",
   "execution_count": 296,
   "id": "3ad8e023",
   "metadata": {},
   "outputs": [
    {
     "data": {
      "text/html": [
       "<style>#sk-container-id-34 {color: black;background-color: white;}#sk-container-id-34 pre{padding: 0;}#sk-container-id-34 div.sk-toggleable {background-color: white;}#sk-container-id-34 label.sk-toggleable__label {cursor: pointer;display: block;width: 100%;margin-bottom: 0;padding: 0.3em;box-sizing: border-box;text-align: center;}#sk-container-id-34 label.sk-toggleable__label-arrow:before {content: \"▸\";float: left;margin-right: 0.25em;color: #696969;}#sk-container-id-34 label.sk-toggleable__label-arrow:hover:before {color: black;}#sk-container-id-34 div.sk-estimator:hover label.sk-toggleable__label-arrow:before {color: black;}#sk-container-id-34 div.sk-toggleable__content {max-height: 0;max-width: 0;overflow: hidden;text-align: left;background-color: #f0f8ff;}#sk-container-id-34 div.sk-toggleable__content pre {margin: 0.2em;color: black;border-radius: 0.25em;background-color: #f0f8ff;}#sk-container-id-34 input.sk-toggleable__control:checked~div.sk-toggleable__content {max-height: 200px;max-width: 100%;overflow: auto;}#sk-container-id-34 input.sk-toggleable__control:checked~label.sk-toggleable__label-arrow:before {content: \"▾\";}#sk-container-id-34 div.sk-estimator input.sk-toggleable__control:checked~label.sk-toggleable__label {background-color: #d4ebff;}#sk-container-id-34 div.sk-label input.sk-toggleable__control:checked~label.sk-toggleable__label {background-color: #d4ebff;}#sk-container-id-34 input.sk-hidden--visually {border: 0;clip: rect(1px 1px 1px 1px);clip: rect(1px, 1px, 1px, 1px);height: 1px;margin: -1px;overflow: hidden;padding: 0;position: absolute;width: 1px;}#sk-container-id-34 div.sk-estimator {font-family: monospace;background-color: #f0f8ff;border: 1px dotted black;border-radius: 0.25em;box-sizing: border-box;margin-bottom: 0.5em;}#sk-container-id-34 div.sk-estimator:hover {background-color: #d4ebff;}#sk-container-id-34 div.sk-parallel-item::after {content: \"\";width: 100%;border-bottom: 1px solid gray;flex-grow: 1;}#sk-container-id-34 div.sk-label:hover label.sk-toggleable__label {background-color: #d4ebff;}#sk-container-id-34 div.sk-serial::before {content: \"\";position: absolute;border-left: 1px solid gray;box-sizing: border-box;top: 0;bottom: 0;left: 50%;z-index: 0;}#sk-container-id-34 div.sk-serial {display: flex;flex-direction: column;align-items: center;background-color: white;padding-right: 0.2em;padding-left: 0.2em;position: relative;}#sk-container-id-34 div.sk-item {position: relative;z-index: 1;}#sk-container-id-34 div.sk-parallel {display: flex;align-items: stretch;justify-content: center;background-color: white;position: relative;}#sk-container-id-34 div.sk-item::before, #sk-container-id-34 div.sk-parallel-item::before {content: \"\";position: absolute;border-left: 1px solid gray;box-sizing: border-box;top: 0;bottom: 0;left: 50%;z-index: -1;}#sk-container-id-34 div.sk-parallel-item {display: flex;flex-direction: column;z-index: 1;position: relative;background-color: white;}#sk-container-id-34 div.sk-parallel-item:first-child::after {align-self: flex-end;width: 50%;}#sk-container-id-34 div.sk-parallel-item:last-child::after {align-self: flex-start;width: 50%;}#sk-container-id-34 div.sk-parallel-item:only-child::after {width: 0;}#sk-container-id-34 div.sk-dashed-wrapped {border: 1px dashed gray;margin: 0 0.4em 0.5em 0.4em;box-sizing: border-box;padding-bottom: 0.4em;background-color: white;}#sk-container-id-34 div.sk-label label {font-family: monospace;font-weight: bold;display: inline-block;line-height: 1.2em;}#sk-container-id-34 div.sk-label-container {text-align: center;}#sk-container-id-34 div.sk-container {/* jupyter's `normalize.less` sets `[hidden] { display: none; }` but bootstrap.min.css set `[hidden] { display: none !important; }` so we also need the `!important` here to be able to override the default hidden behavior on the sphinx rendered scikit-learn.org. See: https://github.com/scikit-learn/scikit-learn/issues/21755 */display: inline-block !important;position: relative;}#sk-container-id-34 div.sk-text-repr-fallback {display: none;}</style><div id=\"sk-container-id-34\" class=\"sk-top-container\"><div class=\"sk-text-repr-fallback\"><pre>GridSearchCV(cv=5,\n",
       "             estimator=RandomForestRegressor(n_estimators=1000,\n",
       "                                             random_state=42),\n",
       "             param_grid={&#x27;max_depth&#x27;: [None, 10, 20],\n",
       "                         &#x27;min_samples_leaf&#x27;: [1, 2, 4],\n",
       "                         &#x27;min_samples_split&#x27;: [2, 5, 10],\n",
       "                         &#x27;n_estimators&#x27;: [50, 100, 200]})</pre><b>In a Jupyter environment, please rerun this cell to show the HTML representation or trust the notebook. <br />On GitHub, the HTML representation is unable to render, please try loading this page with nbviewer.org.</b></div><div class=\"sk-container\" hidden><div class=\"sk-item sk-dashed-wrapped\"><div class=\"sk-label-container\"><div class=\"sk-label sk-toggleable\"><input class=\"sk-toggleable__control sk-hidden--visually\" id=\"sk-estimator-id-56\" type=\"checkbox\" ><label for=\"sk-estimator-id-56\" class=\"sk-toggleable__label sk-toggleable__label-arrow\">GridSearchCV</label><div class=\"sk-toggleable__content\"><pre>GridSearchCV(cv=5,\n",
       "             estimator=RandomForestRegressor(n_estimators=1000,\n",
       "                                             random_state=42),\n",
       "             param_grid={&#x27;max_depth&#x27;: [None, 10, 20],\n",
       "                         &#x27;min_samples_leaf&#x27;: [1, 2, 4],\n",
       "                         &#x27;min_samples_split&#x27;: [2, 5, 10],\n",
       "                         &#x27;n_estimators&#x27;: [50, 100, 200]})</pre></div></div></div><div class=\"sk-parallel\"><div class=\"sk-parallel-item\"><div class=\"sk-item\"><div class=\"sk-label-container\"><div class=\"sk-label sk-toggleable\"><input class=\"sk-toggleable__control sk-hidden--visually\" id=\"sk-estimator-id-57\" type=\"checkbox\" ><label for=\"sk-estimator-id-57\" class=\"sk-toggleable__label sk-toggleable__label-arrow\">estimator: RandomForestRegressor</label><div class=\"sk-toggleable__content\"><pre>RandomForestRegressor(n_estimators=1000, random_state=42)</pre></div></div></div><div class=\"sk-serial\"><div class=\"sk-item\"><div class=\"sk-estimator sk-toggleable\"><input class=\"sk-toggleable__control sk-hidden--visually\" id=\"sk-estimator-id-58\" type=\"checkbox\" ><label for=\"sk-estimator-id-58\" class=\"sk-toggleable__label sk-toggleable__label-arrow\">RandomForestRegressor</label><div class=\"sk-toggleable__content\"><pre>RandomForestRegressor(n_estimators=1000, random_state=42)</pre></div></div></div></div></div></div></div></div></div></div>"
      ],
      "text/plain": [
       "GridSearchCV(cv=5,\n",
       "             estimator=RandomForestRegressor(n_estimators=1000,\n",
       "                                             random_state=42),\n",
       "             param_grid={'max_depth': [None, 10, 20],\n",
       "                         'min_samples_leaf': [1, 2, 4],\n",
       "                         'min_samples_split': [2, 5, 10],\n",
       "                         'n_estimators': [50, 100, 200]})"
      ]
     },
     "execution_count": 296,
     "metadata": {},
     "output_type": "execute_result"
    }
   ],
   "source": [
    "# Perform Grid Search with 5-fold cross-validation\n",
    "grid_search_r = GridSearchCV(estimator=random_forest_model, param_grid=param_grid, cv=5)\n",
    "grid_search_r.fit(X_train_scaled, y_train)"
   ]
  },
  {
   "cell_type": "code",
   "execution_count": 273,
   "id": "91b4c2bc",
   "metadata": {},
   "outputs": [],
   "source": [
    "# Get the best model from the grid search\n",
    "best_rf_model = grid_search_r.best_estimator_"
   ]
  },
  {
   "cell_type": "code",
   "execution_count": 274,
   "id": "08f535bb",
   "metadata": {},
   "outputs": [],
   "source": [
    "# Predict on the test set\n",
    "y_pred = best_rf_model.predict(X_test_scaled)"
   ]
  },
  {
   "cell_type": "code",
   "execution_count": 275,
   "id": "95c95363",
   "metadata": {},
   "outputs": [],
   "source": [
    "# Calculate R-squared score on the test set\n",
    "test_r2_score = r2_score(y_test, y_pred)\n",
    "train_r2_score = r2_score(y_train,best_rf_model.predict(X_train_scaled))\n",
    "mse = mean_squared_error(y_test, y_pred)"
   ]
  },
  {
   "cell_type": "code",
   "execution_count": 276,
   "id": "40c295a1",
   "metadata": {},
   "outputs": [
    {
     "name": "stdout",
     "output_type": "stream",
     "text": [
      "Best Hyperparameters: {'C': 10.0, 'epsilon': 0.01, 'gamma': 'scale', 'kernel': 'linear'}\n",
      "Test R-squared Score (After Hyperparameter Tuning): 0.6590157609281189\n",
      "Train R-squared Score (After Hyperparameter Tuning): 0.9496217942249122\n",
      " Test MSE (After Hyperparameter Tuning): 50596745.684637964\n"
     ]
    }
   ],
   "source": [
    "print(\"Best Hyperparameters:\", grid_search.best_params_)\n",
    "print(\"Test R-squared Score (After Hyperparameter Tuning):\", test_r2_score)\n",
    "print(\"Train R-squared Score (After Hyperparameter Tuning):\", train_r2_score)\n",
    "print(\" Test MSE (After Hyperparameter Tuning):\",mse)"
   ]
  },
  {
   "cell_type": "markdown",
   "id": "0a9bc087",
   "metadata": {},
   "source": [
    "Overall, the Random Forest model with the tuned hyperparameters appears to be performing well, achieving high R-squared values both on the training and test data. The hyperparameter tuning has likely improved the model's generalization capabilities and predictive accuracy on unseen data."
   ]
  },
  {
   "cell_type": "markdown",
   "id": "45a4513d",
   "metadata": {},
   "source": [
    "## KNN Regression"
   ]
  },
  {
   "cell_type": "code",
   "execution_count": 88,
   "id": "a61bb9ce",
   "metadata": {},
   "outputs": [],
   "source": [
    "from sklearn.neighbors import KNeighborsRegressor\n",
    "from sklearn.metrics import r2_score, mean_squared_error"
   ]
  },
  {
   "cell_type": "code",
   "execution_count": 90,
   "id": "5ab61abd",
   "metadata": {},
   "outputs": [],
   "source": [
    "# Build the KNN regressor\n",
    "knn_regressor = KNeighborsRegressor(n_neighbors=5,n_jobs=-1)  # You can set the number of neighbors (K) as desired"
   ]
  },
  {
   "cell_type": "code",
   "execution_count": 294,
   "id": "d3d12390",
   "metadata": {},
   "outputs": [
    {
     "data": {
      "text/html": [
       "<style>#sk-container-id-33 {color: black;background-color: white;}#sk-container-id-33 pre{padding: 0;}#sk-container-id-33 div.sk-toggleable {background-color: white;}#sk-container-id-33 label.sk-toggleable__label {cursor: pointer;display: block;width: 100%;margin-bottom: 0;padding: 0.3em;box-sizing: border-box;text-align: center;}#sk-container-id-33 label.sk-toggleable__label-arrow:before {content: \"▸\";float: left;margin-right: 0.25em;color: #696969;}#sk-container-id-33 label.sk-toggleable__label-arrow:hover:before {color: black;}#sk-container-id-33 div.sk-estimator:hover label.sk-toggleable__label-arrow:before {color: black;}#sk-container-id-33 div.sk-toggleable__content {max-height: 0;max-width: 0;overflow: hidden;text-align: left;background-color: #f0f8ff;}#sk-container-id-33 div.sk-toggleable__content pre {margin: 0.2em;color: black;border-radius: 0.25em;background-color: #f0f8ff;}#sk-container-id-33 input.sk-toggleable__control:checked~div.sk-toggleable__content {max-height: 200px;max-width: 100%;overflow: auto;}#sk-container-id-33 input.sk-toggleable__control:checked~label.sk-toggleable__label-arrow:before {content: \"▾\";}#sk-container-id-33 div.sk-estimator input.sk-toggleable__control:checked~label.sk-toggleable__label {background-color: #d4ebff;}#sk-container-id-33 div.sk-label input.sk-toggleable__control:checked~label.sk-toggleable__label {background-color: #d4ebff;}#sk-container-id-33 input.sk-hidden--visually {border: 0;clip: rect(1px 1px 1px 1px);clip: rect(1px, 1px, 1px, 1px);height: 1px;margin: -1px;overflow: hidden;padding: 0;position: absolute;width: 1px;}#sk-container-id-33 div.sk-estimator {font-family: monospace;background-color: #f0f8ff;border: 1px dotted black;border-radius: 0.25em;box-sizing: border-box;margin-bottom: 0.5em;}#sk-container-id-33 div.sk-estimator:hover {background-color: #d4ebff;}#sk-container-id-33 div.sk-parallel-item::after {content: \"\";width: 100%;border-bottom: 1px solid gray;flex-grow: 1;}#sk-container-id-33 div.sk-label:hover label.sk-toggleable__label {background-color: #d4ebff;}#sk-container-id-33 div.sk-serial::before {content: \"\";position: absolute;border-left: 1px solid gray;box-sizing: border-box;top: 0;bottom: 0;left: 50%;z-index: 0;}#sk-container-id-33 div.sk-serial {display: flex;flex-direction: column;align-items: center;background-color: white;padding-right: 0.2em;padding-left: 0.2em;position: relative;}#sk-container-id-33 div.sk-item {position: relative;z-index: 1;}#sk-container-id-33 div.sk-parallel {display: flex;align-items: stretch;justify-content: center;background-color: white;position: relative;}#sk-container-id-33 div.sk-item::before, #sk-container-id-33 div.sk-parallel-item::before {content: \"\";position: absolute;border-left: 1px solid gray;box-sizing: border-box;top: 0;bottom: 0;left: 50%;z-index: -1;}#sk-container-id-33 div.sk-parallel-item {display: flex;flex-direction: column;z-index: 1;position: relative;background-color: white;}#sk-container-id-33 div.sk-parallel-item:first-child::after {align-self: flex-end;width: 50%;}#sk-container-id-33 div.sk-parallel-item:last-child::after {align-self: flex-start;width: 50%;}#sk-container-id-33 div.sk-parallel-item:only-child::after {width: 0;}#sk-container-id-33 div.sk-dashed-wrapped {border: 1px dashed gray;margin: 0 0.4em 0.5em 0.4em;box-sizing: border-box;padding-bottom: 0.4em;background-color: white;}#sk-container-id-33 div.sk-label label {font-family: monospace;font-weight: bold;display: inline-block;line-height: 1.2em;}#sk-container-id-33 div.sk-label-container {text-align: center;}#sk-container-id-33 div.sk-container {/* jupyter's `normalize.less` sets `[hidden] { display: none; }` but bootstrap.min.css set `[hidden] { display: none !important; }` so we also need the `!important` here to be able to override the default hidden behavior on the sphinx rendered scikit-learn.org. See: https://github.com/scikit-learn/scikit-learn/issues/21755 */display: inline-block !important;position: relative;}#sk-container-id-33 div.sk-text-repr-fallback {display: none;}</style><div id=\"sk-container-id-33\" class=\"sk-top-container\"><div class=\"sk-text-repr-fallback\"><pre>KNeighborsRegressor(n_jobs=-1)</pre><b>In a Jupyter environment, please rerun this cell to show the HTML representation or trust the notebook. <br />On GitHub, the HTML representation is unable to render, please try loading this page with nbviewer.org.</b></div><div class=\"sk-container\" hidden><div class=\"sk-item\"><div class=\"sk-estimator sk-toggleable\"><input class=\"sk-toggleable__control sk-hidden--visually\" id=\"sk-estimator-id-55\" type=\"checkbox\" checked><label for=\"sk-estimator-id-55\" class=\"sk-toggleable__label sk-toggleable__label-arrow\">KNeighborsRegressor</label><div class=\"sk-toggleable__content\"><pre>KNeighborsRegressor(n_jobs=-1)</pre></div></div></div></div></div>"
      ],
      "text/plain": [
       "KNeighborsRegressor(n_jobs=-1)"
      ]
     },
     "execution_count": 294,
     "metadata": {},
     "output_type": "execute_result"
    }
   ],
   "source": [
    "# Train the model on the training data\n",
    "knn_regressor.fit(X_train_scaled, y_train)"
   ]
  },
  {
   "cell_type": "code",
   "execution_count": 92,
   "id": "da851fdd",
   "metadata": {},
   "outputs": [],
   "source": [
    "# Predict on the test set\n",
    "y_pred = knn_regressor.predict(X_test_scaled)"
   ]
  },
  {
   "cell_type": "code",
   "execution_count": 93,
   "id": "fa920530",
   "metadata": {},
   "outputs": [],
   "source": [
    "# Calculate R-squared score on the test set\n",
    "test_r2_score = r2_score(y_test, y_pred)\n",
    "train_r2_score = r2_score(y_train,knn_regressor.predict(X_train_scaled))"
   ]
  },
  {
   "cell_type": "code",
   "execution_count": 94,
   "id": "f7becc57",
   "metadata": {},
   "outputs": [
    {
     "name": "stdout",
     "output_type": "stream",
     "text": [
      "Test R-squared Score (KNN Regression): 0.569019356314086\n",
      "Train R-squared Score (KNN Regression): 0.6611685126099736\n",
      "Mean Squared Error (MSE): 81991899.14988843\n"
     ]
    }
   ],
   "source": [
    "# Calculate mean squared error (MSE) on the test set\n",
    "mse = mean_squared_error(y_test, y_pred)\n",
    "\n",
    "print(\"Test R-squared Score (KNN Regression):\", test_r2_score)\n",
    "print(\"Train R-squared Score (KNN Regression):\", train_r2_score)\n",
    "print(\"Mean Squared Error (MSE):\", mse)"
   ]
  },
  {
   "cell_type": "markdown",
   "id": "5cec725a",
   "metadata": {},
   "source": [
    "# Model Evaluation\n",
    "The Test R-squared Score for KNN Regression is 0.5690, and the Train R-squared Score is 0.6612. Additionally, the Mean Squared Error (MSE) is 81991899.1499. Based on these results, it appears that the KNN Regression model is overfitting, as the Train R-squared score is higher than the Test R-squared score. This is further supported by the relatively high MSE, indicating that the model's predictions deviate significantly from the actual values.\n",
    "When the Train R-squared score is substantially higher than the Test R-squared score, it suggests that the model is memorizing the training data rather than generalizing well to new, unseen data. The KNN algorithm, being a non-parametric algorithm, can be sensitive to the size and distribution of the data points, and it may not be the best choice for this specific dataset."
   ]
  },
  {
   "cell_type": "markdown",
   "id": "af078b23",
   "metadata": {},
   "source": [
    "## XG Boost"
   ]
  },
  {
   "cell_type": "code",
   "execution_count": 95,
   "id": "8d598ca9",
   "metadata": {},
   "outputs": [
    {
     "name": "stdout",
     "output_type": "stream",
     "text": [
      "Defaulting to user installation because normal site-packages is not writeable\n",
      "Requirement already satisfied: xgboost in c:\\users\\thora\\appdata\\roaming\\python\\python311\\site-packages (1.7.6)\n",
      "Requirement already satisfied: numpy in c:\\programdata\\anaconda3\\lib\\site-packages (from xgboost) (1.24.3)\n",
      "Requirement already satisfied: scipy in c:\\programdata\\anaconda3\\lib\\site-packages (from xgboost) (1.10.1)\n"
     ]
    }
   ],
   "source": [
    "!pip install xgboost"
   ]
  },
  {
   "cell_type": "code",
   "execution_count": 96,
   "id": "19ad02b2",
   "metadata": {},
   "outputs": [],
   "source": [
    "import xgboost as xgb"
   ]
  },
  {
   "cell_type": "code",
   "execution_count": 298,
   "id": "4109feb1",
   "metadata": {},
   "outputs": [
    {
     "data": {
      "text/html": [
       "<style>#sk-container-id-35 {color: black;background-color: white;}#sk-container-id-35 pre{padding: 0;}#sk-container-id-35 div.sk-toggleable {background-color: white;}#sk-container-id-35 label.sk-toggleable__label {cursor: pointer;display: block;width: 100%;margin-bottom: 0;padding: 0.3em;box-sizing: border-box;text-align: center;}#sk-container-id-35 label.sk-toggleable__label-arrow:before {content: \"▸\";float: left;margin-right: 0.25em;color: #696969;}#sk-container-id-35 label.sk-toggleable__label-arrow:hover:before {color: black;}#sk-container-id-35 div.sk-estimator:hover label.sk-toggleable__label-arrow:before {color: black;}#sk-container-id-35 div.sk-toggleable__content {max-height: 0;max-width: 0;overflow: hidden;text-align: left;background-color: #f0f8ff;}#sk-container-id-35 div.sk-toggleable__content pre {margin: 0.2em;color: black;border-radius: 0.25em;background-color: #f0f8ff;}#sk-container-id-35 input.sk-toggleable__control:checked~div.sk-toggleable__content {max-height: 200px;max-width: 100%;overflow: auto;}#sk-container-id-35 input.sk-toggleable__control:checked~label.sk-toggleable__label-arrow:before {content: \"▾\";}#sk-container-id-35 div.sk-estimator input.sk-toggleable__control:checked~label.sk-toggleable__label {background-color: #d4ebff;}#sk-container-id-35 div.sk-label input.sk-toggleable__control:checked~label.sk-toggleable__label {background-color: #d4ebff;}#sk-container-id-35 input.sk-hidden--visually {border: 0;clip: rect(1px 1px 1px 1px);clip: rect(1px, 1px, 1px, 1px);height: 1px;margin: -1px;overflow: hidden;padding: 0;position: absolute;width: 1px;}#sk-container-id-35 div.sk-estimator {font-family: monospace;background-color: #f0f8ff;border: 1px dotted black;border-radius: 0.25em;box-sizing: border-box;margin-bottom: 0.5em;}#sk-container-id-35 div.sk-estimator:hover {background-color: #d4ebff;}#sk-container-id-35 div.sk-parallel-item::after {content: \"\";width: 100%;border-bottom: 1px solid gray;flex-grow: 1;}#sk-container-id-35 div.sk-label:hover label.sk-toggleable__label {background-color: #d4ebff;}#sk-container-id-35 div.sk-serial::before {content: \"\";position: absolute;border-left: 1px solid gray;box-sizing: border-box;top: 0;bottom: 0;left: 50%;z-index: 0;}#sk-container-id-35 div.sk-serial {display: flex;flex-direction: column;align-items: center;background-color: white;padding-right: 0.2em;padding-left: 0.2em;position: relative;}#sk-container-id-35 div.sk-item {position: relative;z-index: 1;}#sk-container-id-35 div.sk-parallel {display: flex;align-items: stretch;justify-content: center;background-color: white;position: relative;}#sk-container-id-35 div.sk-item::before, #sk-container-id-35 div.sk-parallel-item::before {content: \"\";position: absolute;border-left: 1px solid gray;box-sizing: border-box;top: 0;bottom: 0;left: 50%;z-index: -1;}#sk-container-id-35 div.sk-parallel-item {display: flex;flex-direction: column;z-index: 1;position: relative;background-color: white;}#sk-container-id-35 div.sk-parallel-item:first-child::after {align-self: flex-end;width: 50%;}#sk-container-id-35 div.sk-parallel-item:last-child::after {align-self: flex-start;width: 50%;}#sk-container-id-35 div.sk-parallel-item:only-child::after {width: 0;}#sk-container-id-35 div.sk-dashed-wrapped {border: 1px dashed gray;margin: 0 0.4em 0.5em 0.4em;box-sizing: border-box;padding-bottom: 0.4em;background-color: white;}#sk-container-id-35 div.sk-label label {font-family: monospace;font-weight: bold;display: inline-block;line-height: 1.2em;}#sk-container-id-35 div.sk-label-container {text-align: center;}#sk-container-id-35 div.sk-container {/* jupyter's `normalize.less` sets `[hidden] { display: none; }` but bootstrap.min.css set `[hidden] { display: none !important; }` so we also need the `!important` here to be able to override the default hidden behavior on the sphinx rendered scikit-learn.org. See: https://github.com/scikit-learn/scikit-learn/issues/21755 */display: inline-block !important;position: relative;}#sk-container-id-35 div.sk-text-repr-fallback {display: none;}</style><div id=\"sk-container-id-35\" class=\"sk-top-container\"><div class=\"sk-text-repr-fallback\"><pre>XGBRegressor(base_score=None, booster=None, callbacks=None,\n",
       "             colsample_bylevel=None, colsample_bynode=None,\n",
       "             colsample_bytree=None, early_stopping_rounds=None,\n",
       "             enable_categorical=False, eval_metric=None, feature_types=None,\n",
       "             gamma=None, gpu_id=None, grow_policy=None, importance_type=None,\n",
       "             interaction_constraints=None, learning_rate=0.1, max_bin=None,\n",
       "             max_cat_threshold=None, max_cat_to_onehot=None,\n",
       "             max_delta_step=None, max_depth=5, max_leaves=None,\n",
       "             min_child_weight=None, missing=nan, monotone_constraints=None,\n",
       "             n_estimators=1000, n_jobs=None, num_parallel_tree=None,\n",
       "             predictor=None, random_state=42, ...)</pre><b>In a Jupyter environment, please rerun this cell to show the HTML representation or trust the notebook. <br />On GitHub, the HTML representation is unable to render, please try loading this page with nbviewer.org.</b></div><div class=\"sk-container\" hidden><div class=\"sk-item\"><div class=\"sk-estimator sk-toggleable\"><input class=\"sk-toggleable__control sk-hidden--visually\" id=\"sk-estimator-id-59\" type=\"checkbox\" checked><label for=\"sk-estimator-id-59\" class=\"sk-toggleable__label sk-toggleable__label-arrow\">XGBRegressor</label><div class=\"sk-toggleable__content\"><pre>XGBRegressor(base_score=None, booster=None, callbacks=None,\n",
       "             colsample_bylevel=None, colsample_bynode=None,\n",
       "             colsample_bytree=None, early_stopping_rounds=None,\n",
       "             enable_categorical=False, eval_metric=None, feature_types=None,\n",
       "             gamma=None, gpu_id=None, grow_policy=None, importance_type=None,\n",
       "             interaction_constraints=None, learning_rate=0.1, max_bin=None,\n",
       "             max_cat_threshold=None, max_cat_to_onehot=None,\n",
       "             max_delta_step=None, max_depth=5, max_leaves=None,\n",
       "             min_child_weight=None, missing=nan, monotone_constraints=None,\n",
       "             n_estimators=1000, n_jobs=None, num_parallel_tree=None,\n",
       "             predictor=None, random_state=42, ...)</pre></div></div></div></div></div>"
      ],
      "text/plain": [
       "XGBRegressor(base_score=None, booster=None, callbacks=None,\n",
       "             colsample_bylevel=None, colsample_bynode=None,\n",
       "             colsample_bytree=None, early_stopping_rounds=None,\n",
       "             enable_categorical=False, eval_metric=None, feature_types=None,\n",
       "             gamma=None, gpu_id=None, grow_policy=None, importance_type=None,\n",
       "             interaction_constraints=None, learning_rate=0.1, max_bin=None,\n",
       "             max_cat_threshold=None, max_cat_to_onehot=None,\n",
       "             max_delta_step=None, max_depth=5, max_leaves=None,\n",
       "             min_child_weight=None, missing=nan, monotone_constraints=None,\n",
       "             n_estimators=1000, n_jobs=None, num_parallel_tree=None,\n",
       "             predictor=None, random_state=42, ...)"
      ]
     },
     "execution_count": 298,
     "metadata": {},
     "output_type": "execute_result"
    }
   ],
   "source": [
    "# Initialize and train the XGBoost Regressor\n",
    "xgb_model = xgb.XGBRegressor(learning_rate=0.1, max_depth=5, n_estimators=1000, random_state=42)\n",
    "xgb_model.fit(X_train_scaled, y_train)"
   ]
  },
  {
   "cell_type": "code",
   "execution_count": 231,
   "id": "8ca87c1c",
   "metadata": {},
   "outputs": [],
   "source": [
    "# Predict on the test set\n",
    "y_pred = xgb_model.predict(X_test_scaled)\n",
    "y_pred_train = xgb_model.predict(X_train_scaled)"
   ]
  },
  {
   "cell_type": "code",
   "execution_count": 232,
   "id": "871a3e9c",
   "metadata": {},
   "outputs": [
    {
     "name": "stdout",
     "output_type": "stream",
     "text": [
      "XGBoost Test R-squared: 0.6145248915026248\n",
      "XGBoost Train R-squared: 0.9981087444972592\n",
      "XGBoost Test MSE: 57198497.16657557\n"
     ]
    }
   ],
   "source": [
    "# Evaluate the model\n",
    "test_r2_score = r2_score(y_test, y_pred)\n",
    "train_r2_score = r2_score(y_train,y_pred_train)\n",
    "mse = mean_squared_error(y_test, y_pred)\n",
    "print(\"XGBoost Test R-squared:\", test_r2_score)\n",
    "print(\"XGBoost Train R-squared:\", train_r2_score)\n",
    "print(\"XGBoost Test MSE:\",mse)"
   ]
  },
  {
   "cell_type": "markdown",
   "id": "63cda0f3",
   "metadata": {},
   "source": [
    "# Model Evaluation\n",
    "Interpretation:\n",
    "\n",
    "The Test R-squared score of 0.6341 suggests that the XGBoost model captures a considerable portion of the variance in the test data, indicating decent predictive performance on unseen data.\n",
    "\n",
    "The Train R-squared score of 0.9978 indicates that the model fits the training data well, explaining a substantial amount of the variance in the training data.\n",
    "\n",
    "Comparing the Test and Train R-squared scores:\n",
    "\n",
    "The Test R-squared is slightly lower than the Train R-squared, which is common. It suggests that the model is not significantly overfitting to the training data and is generalizing reasonably well to new, unseen data.\n",
    "Overall, the XGBoost model appears to be performing well, achieving decent R-squared values both on the training and test data. "
   ]
  },
  {
   "cell_type": "markdown",
   "id": "dc723ed8",
   "metadata": {},
   "source": [
    "## Support Vector Regression"
   ]
  },
  {
   "cell_type": "code",
   "execution_count": 123,
   "id": "31f15a90",
   "metadata": {},
   "outputs": [],
   "source": [
    "from sklearn.svm import SVR\n",
    "from sklearn.model_selection import train_test_split, GridSearchCV"
   ]
  },
  {
   "cell_type": "code",
   "execution_count": 124,
   "id": "d7d4798f",
   "metadata": {},
   "outputs": [],
   "source": [
    "# Split the data into training and testing sets\n",
    "X_train, X_test, y_train, y_test = train_test_split(X, y, test_size=0.2, random_state=42)"
   ]
  },
  {
   "cell_type": "code",
   "execution_count": 125,
   "id": "58a861e0",
   "metadata": {},
   "outputs": [],
   "source": [
    "# Feature scaling\n",
    "scaler = StandardScaler()\n",
    "X_train_scaled = scaler.fit_transform(X_train)\n",
    "X_test_scaled = scaler.transform(X_test)"
   ]
  },
  {
   "cell_type": "code",
   "execution_count": 300,
   "id": "1e591a34",
   "metadata": {},
   "outputs": [],
   "source": [
    "# Set the hyperparameters to search\n",
    "param_grid = {\n",
    "    'C': [0.01, 0.1, 1.0, 10.0],  # Regularization parameter\n",
    "    'kernel': ['linear', 'rbf', 'poly'],  # Kernel type\n",
    "    'gamma': ['scale', 'auto', 0.1, 0.01],  # Kernel coefficient for 'rbf' and 'poly'\n",
    "    'epsilon': [0.01, 0.1, 0.2]  # Epsilon parameter in the SVR model\n",
    "}"
   ]
  },
  {
   "cell_type": "code",
   "execution_count": 301,
   "id": "ee7031be",
   "metadata": {},
   "outputs": [],
   "source": [
    "# Initialize the SVR model\n",
    "svr_model = SVR()"
   ]
  },
  {
   "cell_type": "code",
   "execution_count": 302,
   "id": "98a93c6e",
   "metadata": {},
   "outputs": [
    {
     "data": {
      "text/html": [
       "<style>#sk-container-id-36 {color: black;background-color: white;}#sk-container-id-36 pre{padding: 0;}#sk-container-id-36 div.sk-toggleable {background-color: white;}#sk-container-id-36 label.sk-toggleable__label {cursor: pointer;display: block;width: 100%;margin-bottom: 0;padding: 0.3em;box-sizing: border-box;text-align: center;}#sk-container-id-36 label.sk-toggleable__label-arrow:before {content: \"▸\";float: left;margin-right: 0.25em;color: #696969;}#sk-container-id-36 label.sk-toggleable__label-arrow:hover:before {color: black;}#sk-container-id-36 div.sk-estimator:hover label.sk-toggleable__label-arrow:before {color: black;}#sk-container-id-36 div.sk-toggleable__content {max-height: 0;max-width: 0;overflow: hidden;text-align: left;background-color: #f0f8ff;}#sk-container-id-36 div.sk-toggleable__content pre {margin: 0.2em;color: black;border-radius: 0.25em;background-color: #f0f8ff;}#sk-container-id-36 input.sk-toggleable__control:checked~div.sk-toggleable__content {max-height: 200px;max-width: 100%;overflow: auto;}#sk-container-id-36 input.sk-toggleable__control:checked~label.sk-toggleable__label-arrow:before {content: \"▾\";}#sk-container-id-36 div.sk-estimator input.sk-toggleable__control:checked~label.sk-toggleable__label {background-color: #d4ebff;}#sk-container-id-36 div.sk-label input.sk-toggleable__control:checked~label.sk-toggleable__label {background-color: #d4ebff;}#sk-container-id-36 input.sk-hidden--visually {border: 0;clip: rect(1px 1px 1px 1px);clip: rect(1px, 1px, 1px, 1px);height: 1px;margin: -1px;overflow: hidden;padding: 0;position: absolute;width: 1px;}#sk-container-id-36 div.sk-estimator {font-family: monospace;background-color: #f0f8ff;border: 1px dotted black;border-radius: 0.25em;box-sizing: border-box;margin-bottom: 0.5em;}#sk-container-id-36 div.sk-estimator:hover {background-color: #d4ebff;}#sk-container-id-36 div.sk-parallel-item::after {content: \"\";width: 100%;border-bottom: 1px solid gray;flex-grow: 1;}#sk-container-id-36 div.sk-label:hover label.sk-toggleable__label {background-color: #d4ebff;}#sk-container-id-36 div.sk-serial::before {content: \"\";position: absolute;border-left: 1px solid gray;box-sizing: border-box;top: 0;bottom: 0;left: 50%;z-index: 0;}#sk-container-id-36 div.sk-serial {display: flex;flex-direction: column;align-items: center;background-color: white;padding-right: 0.2em;padding-left: 0.2em;position: relative;}#sk-container-id-36 div.sk-item {position: relative;z-index: 1;}#sk-container-id-36 div.sk-parallel {display: flex;align-items: stretch;justify-content: center;background-color: white;position: relative;}#sk-container-id-36 div.sk-item::before, #sk-container-id-36 div.sk-parallel-item::before {content: \"\";position: absolute;border-left: 1px solid gray;box-sizing: border-box;top: 0;bottom: 0;left: 50%;z-index: -1;}#sk-container-id-36 div.sk-parallel-item {display: flex;flex-direction: column;z-index: 1;position: relative;background-color: white;}#sk-container-id-36 div.sk-parallel-item:first-child::after {align-self: flex-end;width: 50%;}#sk-container-id-36 div.sk-parallel-item:last-child::after {align-self: flex-start;width: 50%;}#sk-container-id-36 div.sk-parallel-item:only-child::after {width: 0;}#sk-container-id-36 div.sk-dashed-wrapped {border: 1px dashed gray;margin: 0 0.4em 0.5em 0.4em;box-sizing: border-box;padding-bottom: 0.4em;background-color: white;}#sk-container-id-36 div.sk-label label {font-family: monospace;font-weight: bold;display: inline-block;line-height: 1.2em;}#sk-container-id-36 div.sk-label-container {text-align: center;}#sk-container-id-36 div.sk-container {/* jupyter's `normalize.less` sets `[hidden] { display: none; }` but bootstrap.min.css set `[hidden] { display: none !important; }` so we also need the `!important` here to be able to override the default hidden behavior on the sphinx rendered scikit-learn.org. See: https://github.com/scikit-learn/scikit-learn/issues/21755 */display: inline-block !important;position: relative;}#sk-container-id-36 div.sk-text-repr-fallback {display: none;}</style><div id=\"sk-container-id-36\" class=\"sk-top-container\"><div class=\"sk-text-repr-fallback\"><pre>GridSearchCV(cv=5, estimator=SVR(),\n",
       "             param_grid={&#x27;C&#x27;: [0.01, 0.1, 1.0, 10.0],\n",
       "                         &#x27;epsilon&#x27;: [0.01, 0.1, 0.2],\n",
       "                         &#x27;gamma&#x27;: [&#x27;scale&#x27;, &#x27;auto&#x27;, 0.1, 0.01],\n",
       "                         &#x27;kernel&#x27;: [&#x27;linear&#x27;, &#x27;rbf&#x27;, &#x27;poly&#x27;]},\n",
       "             scoring=&#x27;r2&#x27;)</pre><b>In a Jupyter environment, please rerun this cell to show the HTML representation or trust the notebook. <br />On GitHub, the HTML representation is unable to render, please try loading this page with nbviewer.org.</b></div><div class=\"sk-container\" hidden><div class=\"sk-item sk-dashed-wrapped\"><div class=\"sk-label-container\"><div class=\"sk-label sk-toggleable\"><input class=\"sk-toggleable__control sk-hidden--visually\" id=\"sk-estimator-id-60\" type=\"checkbox\" ><label for=\"sk-estimator-id-60\" class=\"sk-toggleable__label sk-toggleable__label-arrow\">GridSearchCV</label><div class=\"sk-toggleable__content\"><pre>GridSearchCV(cv=5, estimator=SVR(),\n",
       "             param_grid={&#x27;C&#x27;: [0.01, 0.1, 1.0, 10.0],\n",
       "                         &#x27;epsilon&#x27;: [0.01, 0.1, 0.2],\n",
       "                         &#x27;gamma&#x27;: [&#x27;scale&#x27;, &#x27;auto&#x27;, 0.1, 0.01],\n",
       "                         &#x27;kernel&#x27;: [&#x27;linear&#x27;, &#x27;rbf&#x27;, &#x27;poly&#x27;]},\n",
       "             scoring=&#x27;r2&#x27;)</pre></div></div></div><div class=\"sk-parallel\"><div class=\"sk-parallel-item\"><div class=\"sk-item\"><div class=\"sk-label-container\"><div class=\"sk-label sk-toggleable\"><input class=\"sk-toggleable__control sk-hidden--visually\" id=\"sk-estimator-id-61\" type=\"checkbox\" ><label for=\"sk-estimator-id-61\" class=\"sk-toggleable__label sk-toggleable__label-arrow\">estimator: SVR</label><div class=\"sk-toggleable__content\"><pre>SVR()</pre></div></div></div><div class=\"sk-serial\"><div class=\"sk-item\"><div class=\"sk-estimator sk-toggleable\"><input class=\"sk-toggleable__control sk-hidden--visually\" id=\"sk-estimator-id-62\" type=\"checkbox\" ><label for=\"sk-estimator-id-62\" class=\"sk-toggleable__label sk-toggleable__label-arrow\">SVR</label><div class=\"sk-toggleable__content\"><pre>SVR()</pre></div></div></div></div></div></div></div></div></div></div>"
      ],
      "text/plain": [
       "GridSearchCV(cv=5, estimator=SVR(),\n",
       "             param_grid={'C': [0.01, 0.1, 1.0, 10.0],\n",
       "                         'epsilon': [0.01, 0.1, 0.2],\n",
       "                         'gamma': ['scale', 'auto', 0.1, 0.01],\n",
       "                         'kernel': ['linear', 'rbf', 'poly']},\n",
       "             scoring='r2')"
      ]
     },
     "execution_count": 302,
     "metadata": {},
     "output_type": "execute_result"
    }
   ],
   "source": [
    "# Perform Grid Search with cross-validation to find the best hyperparameters\n",
    "grid_search = GridSearchCV(svr_model, param_grid, cv=5, scoring='r2')\n",
    "grid_search.fit(X_train_scaled, y_train)"
   ]
  },
  {
   "cell_type": "code",
   "execution_count": 129,
   "id": "3f67f38d",
   "metadata": {},
   "outputs": [],
   "source": [
    "# Get the best SVR model with the optimized hyperparameters\n",
    "best_svr_model = grid_search.best_estimator_"
   ]
  },
  {
   "cell_type": "code",
   "execution_count": 135,
   "id": "aaac6fee",
   "metadata": {},
   "outputs": [],
   "source": [
    "# Predict on the test set\n",
    "y_pred = best_svr_model.predict(X_test_scaled)"
   ]
  },
  {
   "cell_type": "code",
   "execution_count": 136,
   "id": "02236ce4",
   "metadata": {},
   "outputs": [
    {
     "name": "stdout",
     "output_type": "stream",
     "text": [
      "Best SVR Train R-squared: 0.3269721438658799\n",
      "Best SVR Test R-squared: 0.33600912364758073\n",
      "Best SVR Test MSE: 126320923.61440071\n"
     ]
    }
   ],
   "source": [
    "# Evaluate the model\n",
    "test_r2_score = r2_score(y_test, y_pred)\n",
    "train_r2_score = r2_score(y_train,best_svr_model.predict(X_train_scaled))\n",
    "mse = mean_squared_error(y_test, y_pred)\n",
    "print(\"Best SVR Train R-squared:\", train_r2_score)\n",
    "print(\"Best SVR Test R-squared:\", test_r2_score)\n",
    "print(\"Best SVR Test MSE:\",mse)"
   ]
  },
  {
   "cell_type": "code",
   "execution_count": 137,
   "id": "a32080cb",
   "metadata": {},
   "outputs": [
    {
     "name": "stdout",
     "output_type": "stream",
     "text": [
      "Best Hyperparameters: {'C': 10.0, 'epsilon': 0.2, 'gamma': 'scale', 'kernel': 'linear'}\n"
     ]
    }
   ],
   "source": [
    "# Print the best hyperparameters found by Grid Search\n",
    "print(\"Best Hyperparameters:\", grid_search.best_params_)"
   ]
  },
  {
   "cell_type": "markdown",
   "id": "3c3d784f",
   "metadata": {},
   "source": [
    "# Model Evaluation\n",
    "Comparing the Train and Test R-squared values:\n",
    "\n",
    "The Test R-squared is higher than the Train R-squared, which is expected. It suggests that the SVR model is generalizing better to unseen data than it does to the training data.\n",
    "Interpretation:\n",
    "\n",
    "The SVR model appears to be capturing a significant portion of the variance in the test data, indicating decent predictive performance on unseen data. However, the model's performance on the training data is relatively weaker, suggesting that it might not be fitting well to the training data.\n",
    "\n",
    "The discrepancy between the Train and Test R-squared values may indicate some overfitting, where the model may have learned noise from the training data rather than generalizable patterns."
   ]
  },
  {
   "cell_type": "markdown",
   "id": "7a31b003",
   "metadata": {},
   "source": [
    "# All Models performance visualization"
   ]
  },
  {
   "cell_type": "code",
   "execution_count": 285,
   "id": "45d8084a",
   "metadata": {},
   "outputs": [
    {
     "data": {
      "image/png": "[encoded data removed]",
      "text/plain": [
       "<Figure size 1000x600 with 1 Axes>"
      ]
     },
     "metadata": {},
     "output_type": "display_data"
    },
    {
     "data": {
      "image/png": "[encoded data removed]",
      "text/plain": [
       "<Figure size 1000x600 with 1 Axes>"
      ]
     },
     "metadata": {},
     "output_type": "display_data"
    }
   ],
   "source": [
    "# Assuming you have evaluated multiple models and stored their performance metrics in a dictionary or a DataFrame\n",
    "model_names = ['lm2', 'ridge_model','grid_search','lasso_model','gradient_boosting_model','random_forest_model','grid_search_r','knn_regressor','xgb_model','svr_model']  # Replace with actual model names\n",
    "mse_values = [73950131.21, 77388795.36, 77625506.47, 77363437.09,67578210.06,50180976.25,68675718.98,81991899.14, 69598077.47,126320923.61]  # Replace with actual MSE values\n",
    "r_squared_values = [0.59335179, 0.5932150, 0.56901935, 0.593348,0.644783,0.6618177, 0.639014,0.56901,0.634166,0.32697214]  # Replace with actual R-squared values\n",
    "\n",
    "# Plotting Mean Squared Error (MSE) for each model\n",
    "plt.figure(figsize=(10, 6))\n",
    "plt.bar(model_names, mse_values, color='skyblue')\n",
    "plt.xlabel('Model')\n",
    "plt.ylabel('Mean Squared Error (MSE)')\n",
    "plt.title('Mean Squared Error for Each Model')\n",
    "plt.xticks(rotation=45, ha='right')\n",
    "plt.tight_layout()\n",
    "plt.show()\n",
    "\n",
    "# Plotting R-squared for each model\n",
    "plt.figure(figsize=(10, 6))\n",
    "plt.bar(model_names, r_squared_values, color='lightgreen')\n",
    "plt.xlabel('Model')\n",
    "plt.ylabel('R-squared')\n",
    "plt.title('R-squared for Each Model')\n",
    "# Set the x-axis label alignment to center\n",
    "plt.xticks(rotation=45, ha='right')\n",
    "plt.tight_layout()"
   ]
  },
  {
   "cell_type": "markdown",
   "id": "4f6ed3c5",
   "metadata": {},
   "source": [
    "## Observations-\n",
    "After comparing the visualisation graph of  mean_squared_error and coefficient of determination for each model we came to know that random forest is the best model for accuracy.\n",
    "Random forest model has highest R2 score and lowest MSE among all the other model"
   ]
  },
  {
   "cell_type": "markdown",
   "id": "b865776d",
   "metadata": {},
   "source": [
    "# Model Prediction"
   ]
  },
  {
   "cell_type": "code",
   "execution_count": 238,
   "id": "6d65bb9e",
   "metadata": {},
   "outputs": [],
   "source": [
    "# Prepare New Employee Data (example data, replace with actual data)\n",
    "new_data = pd.DataFrame({\n",
    "    'College':[1,1],\n",
    "    'City':[1,0],\n",
    "    'Previous CTC': [25000,25000],\n",
    "    'Previous job change': [1, 0],\n",
    "    'Graduation Marks': [75, 80],\n",
    "    'EXP (Month)': [2, 4], \n",
    "    'Role_Manager':[0,1]\n",
    "})"
   ]
  },
  {
   "cell_type": "code",
   "execution_count": 239,
   "id": "d0315d66",
   "metadata": {},
   "outputs": [],
   "source": [
    "# Convert the new employee data into a DataFrame\n",
    "predictions = xgb_model.predict(new_data)"
   ]
  },
  {
   "cell_type": "code",
   "execution_count": 240,
   "id": "ce05efc1",
   "metadata": {},
   "outputs": [],
   "source": [
    "# Step 3: Use the Trained Model to Make Predictions\n",
    "predicted_ctc = best_rf_model.predict(new_data)"
   ]
  },
  {
   "cell_type": "code",
   "execution_count": 241,
   "id": "6757ab99",
   "metadata": {},
   "outputs": [
    {
     "name": "stdout",
     "output_type": "stream",
     "text": [
      "Predicted CTC: [ 81092.695 105091.64 ]\n"
     ]
    }
   ],
   "source": [
    "# Print the predicted CTC for the newly hired employees\n",
    "print(\"Predicted CTC:\", predicted_ctc)"
   ]
  }
 ],
 "metadata": {
  "kernelspec": {
   "display_name": "Python 3 (ipykernel)",
   "language": "python",
   "name": "python3"
  },
  "language_info": {
   "codemirror_mode": {
    "name": "ipython",
    "version": 3
   },
   "file_extension": ".py",
   "mimetype": "text/x-python",
   "name": "python",
   "nbconvert_exporter": "python",
   "pygments_lexer": "ipython3",
   "version": "3.11.3"
  }
 },
 "nbformat": 4,
 "nbformat_minor": 5
}
